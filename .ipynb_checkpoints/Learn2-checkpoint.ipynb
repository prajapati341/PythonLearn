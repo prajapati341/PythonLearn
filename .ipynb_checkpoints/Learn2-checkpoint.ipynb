{
 "cells": [
  {
   "cell_type": "code",
   "execution_count": 134,
   "id": "8a6dd59a",
   "metadata": {},
   "outputs": [
    {
     "name": "stdout",
     "output_type": "stream",
     "text": [
      "                         Team  Number Position   Age Height  Weight  \\\n",
      "Name                                                                  \n",
      "Avery Bradley  Boston Celtics     0.0       PG  25.0    6-2   180.0   \n",
      "Jae Crowder    Boston Celtics    99.0       SF  25.0    6-6   235.0   \n",
      "John Holland   Boston Celtics    30.0       SG  27.0    6-5   205.0   \n",
      "R.J. Hunter    Boston Celtics    28.0       SG  22.0    6-5   185.0   \n",
      "Jonas Jerebko  Boston Celtics     8.0       PF  29.0   6-10   231.0   \n",
      "\n",
      "                         College     Salary  \n",
      "Name                                         \n",
      "Avery Bradley              Texas  7730337.0  \n",
      "Jae Crowder            Marquette  6796117.0  \n",
      "John Holland   Boston University        NaN  \n",
      "R.J. Hunter        Georgia State  1148640.0  \n",
      "Jonas Jerebko                NaN  5000000.0  \n"
     ]
    }
   ],
   "source": [
    "import pandas as pd\n",
    "import numpy as np\n",
    "#data=pd.read_csv(r\"D:\\Data Science with Python\\Learn\\nba.csv\", index_col =\"Name)\n",
    "data=pd.read_csv(r\"D:\\Data Science with Python\\Learn\\nba.csv\", index_col ='Name')  \n",
    "df1=pd.DataFrame(data)\n",
    "print(df1.head())                 \n",
    "#print(df1.loc['Avery Bradley',['Name','Team']])\n",
    "#print(df1.loc[['Avery Bradley','Jae Crowder'],['Number','Salary']])\n",
    "#df2=pd.DataFrame(df1.loc[['Avery Bradley','Jae Crowder'],['Number','Salary']])\n"
   ]
  },
  {
   "cell_type": "code",
   "execution_count": 135,
   "id": "c7a02844",
   "metadata": {},
   "outputs": [
    {
     "name": "stdout",
     "output_type": "stream",
     "text": [
      "                         Team  Number Position   Age Height\n",
      "Name                                                       \n",
      "Avery Bradley  Boston Celtics     0.0       PG  25.0    6-2\n",
      "Jae Crowder    Boston Celtics    99.0       SF  25.0    6-6\n",
      "John Holland   Boston Celtics    30.0       SG  27.0    6-5\n"
     ]
    }
   ],
   "source": [
    "#print(df1.iloc[:3,:5])\n",
    "df1_iloc=df1.iloc[:3,:5]\n",
    "print(df1_iloc)"
   ]
  },
  {
   "cell_type": "code",
   "execution_count": null,
   "id": "648d9ab0",
   "metadata": {},
   "outputs": [],
   "source": []
  },
  {
   "cell_type": "code",
   "execution_count": 148,
   "id": "14a0757f",
   "metadata": {},
   "outputs": [
    {
     "name": "stdout",
     "output_type": "stream",
     "text": [
      "Weight\n",
      "Salary\n",
      "               Weight     Salary\n",
      "Name                            \n",
      "Avery Bradley   180.0  7730337.0\n",
      "Jae Crowder     235.0  6796117.0\n",
      "John Holland    205.0        0.0\n",
      "R.J. Hunter     185.0  1148640.0\n",
      "Jonas Jerebko   231.0  5000000.0\n",
      "...               ...        ...\n",
      "Shelvin Mack    203.0  2433333.0\n",
      "Raul Neto       179.0   900000.0\n",
      "Tibor Pleiss    256.0  2900000.0\n",
      "Jeff Withey     231.0   947276.0\n",
      "NaN               NaN        0.0\n",
      "\n",
      "[458 rows x 2 columns]\n"
     ]
    }
   ],
   "source": [
    "# print Columns name\n",
    "for i in loop_test1:\n",
    "    print(i)\n",
    "print(loop_test1)    "
   ]
  },
  {
   "cell_type": "code",
   "execution_count": 149,
   "id": "640196ba",
   "metadata": {},
   "outputs": [
    {
     "ename": "IndentationError",
     "evalue": "expected an indented block (Temp/ipykernel_8092/1431572418.py, line 5)",
     "output_type": "error",
     "traceback": [
      "\u001b[1;36m  File \u001b[1;32m\"C:\\Users\\sanjay\\AppData\\Local\\Temp/ipykernel_8092/1431572418.py\"\u001b[1;36m, line \u001b[1;32m5\u001b[0m\n\u001b[1;33m    \u001b[0m\n\u001b[1;37m    ^\u001b[0m\n\u001b[1;31mIndentationError\u001b[0m\u001b[1;31m:\u001b[0m expected an indented block\n"
     ]
    }
   ],
   "source": [
    "# print Columns name\n",
    "#loop_test1['Salary2']=''\n",
    "for i,j,k in loop_test1:\n",
    "    print(i)\n",
    "    \n"
   ]
  },
  {
   "cell_type": "code",
   "execution_count": 132,
   "id": "e899303d",
   "metadata": {},
   "outputs": [
    {
     "name": "stdout",
     "output_type": "stream",
     "text": [
      "               Weight     Salary\n",
      "Name                            \n",
      "Avery Bradley   180.0  7730337.0\n",
      "Jae Crowder     235.0  6796117.0\n",
      "John Holland    205.0        0.0\n",
      "R.J. Hunter     185.0  1148640.0\n",
      "Jonas Jerebko   231.0  5000000.0\n",
      "...               ...        ...\n",
      "Shelvin Mack    203.0  2433333.0\n",
      "Raul Neto       179.0   900000.0\n",
      "Tibor Pleiss    256.0  2900000.0\n",
      "Jeff Withey     231.0   947276.0\n",
      "NaN               NaN        0.0\n",
      "\n",
      "[458 rows x 2 columns]\n"
     ]
    }
   ],
   "source": [
    "print(loop_test1)"
   ]
  },
  {
   "cell_type": "code",
   "execution_count": 20,
   "id": "b71515f5",
   "metadata": {},
   "outputs": [
    {
     "ename": "SyntaxError",
     "evalue": "invalid syntax (Temp/ipykernel_2276/443616818.py, line 5)",
     "output_type": "error",
     "traceback": [
      "\u001b[1;36m  File \u001b[1;32m\"C:\\Users\\sanjay\\AppData\\Local\\Temp/ipykernel_2276/443616818.py\"\u001b[1;36m, line \u001b[1;32m5\u001b[0m\n\u001b[1;33m    'Gender':['M','M','F','F'],index=['player_id', 'Product B']})\u001b[0m\n\u001b[1;37m                                    ^\u001b[0m\n\u001b[1;31mSyntaxError\u001b[0m\u001b[1;31m:\u001b[0m invalid syntax\n"
     ]
    }
   ],
   "source": [
    "import pandas as pd\n",
    "\n",
    "df_demo=pd.DataFrame({'player_id':[1,2,3,4],\n",
    "     'Recency':[20,50,40,50],\n",
    "     'Gender':['M','M','F','F'],index=['player_id', 'Product B']})\n",
    "print(df_demo)\n"
   ]
  },
  {
   "cell_type": "code",
   "execution_count": null,
   "id": "ec3e1ea5",
   "metadata": {},
   "outputs": [],
   "source": []
  },
  {
   "cell_type": "code",
   "execution_count": null,
   "id": "07094817",
   "metadata": {},
   "outputs": [],
   "source": []
  }
 ],
 "metadata": {
  "kernelspec": {
   "display_name": "Python 3 (ipykernel)",
   "language": "python",
   "name": "python3"
  },
  "language_info": {
   "codemirror_mode": {
    "name": "ipython",
    "version": 3
   },
   "file_extension": ".py",
   "mimetype": "text/x-python",
   "name": "python",
   "nbconvert_exporter": "python",
   "pygments_lexer": "ipython3",
   "version": "3.9.7"
  }
 },
 "nbformat": 4,
 "nbformat_minor": 5
}
