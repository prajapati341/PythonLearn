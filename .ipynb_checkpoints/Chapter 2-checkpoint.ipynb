{
 "cells": [
  {
   "cell_type": "code",
   "execution_count": 2,
   "id": "e2b934f7",
   "metadata": {},
   "outputs": [],
   "source": [
    "import numpy as np\n",
    "import pandas as pd"
   ]
  },
  {
   "cell_type": "code",
   "execution_count": 3,
   "id": "602c1713",
   "metadata": {},
   "outputs": [
    {
     "data": {
      "text/plain": [
       "0    1.0\n",
       "1    3.0\n",
       "2    5.0\n",
       "3    NaN\n",
       "4    6.0\n",
       "5    8.0\n",
       "dtype: float64"
      ]
     },
     "execution_count": 3,
     "metadata": {},
     "output_type": "execute_result"
    }
   ],
   "source": [
    "s=pd.Series([1,3,5, np.nan,6,8])\n",
    "s"
   ]
  },
  {
   "cell_type": "code",
   "execution_count": 4,
   "id": "00e8910d",
   "metadata": {},
   "outputs": [
    {
     "data": {
      "text/plain": [
       "DatetimeIndex(['2013-01-01', '2013-01-02', '2013-01-03', '2013-01-04',\n",
       "               '2013-01-05', '2013-01-06'],\n",
       "              dtype='datetime64[ns]', freq='D')"
      ]
     },
     "execution_count": 4,
     "metadata": {},
     "output_type": "execute_result"
    }
   ],
   "source": [
    "dates=pd.date_range(\"20130101\",periods=6)\n",
    "dates"
   ]
  },
  {
   "cell_type": "code",
   "execution_count": 5,
   "id": "2d4177fb",
   "metadata": {},
   "outputs": [
    {
     "data": {
      "text/html": [
       "<div>\n",
       "<style scoped>\n",
       "    .dataframe tbody tr th:only-of-type {\n",
       "        vertical-align: middle;\n",
       "    }\n",
       "\n",
       "    .dataframe tbody tr th {\n",
       "        vertical-align: top;\n",
       "    }\n",
       "\n",
       "    .dataframe thead th {\n",
       "        text-align: right;\n",
       "    }\n",
       "</style>\n",
       "<table border=\"1\" class=\"dataframe\">\n",
       "  <thead>\n",
       "    <tr style=\"text-align: right;\">\n",
       "      <th></th>\n",
       "      <th>A</th>\n",
       "      <th>B</th>\n",
       "      <th>C</th>\n",
       "      <th>D</th>\n",
       "    </tr>\n",
       "  </thead>\n",
       "  <tbody>\n",
       "    <tr>\n",
       "      <th>2013-01-01</th>\n",
       "      <td>-1.103024</td>\n",
       "      <td>1.873064</td>\n",
       "      <td>-0.696802</td>\n",
       "      <td>1.296974</td>\n",
       "    </tr>\n",
       "    <tr>\n",
       "      <th>2013-01-02</th>\n",
       "      <td>-1.260490</td>\n",
       "      <td>-2.417482</td>\n",
       "      <td>-1.099263</td>\n",
       "      <td>-2.578614</td>\n",
       "    </tr>\n",
       "    <tr>\n",
       "      <th>2013-01-03</th>\n",
       "      <td>-1.560524</td>\n",
       "      <td>0.626060</td>\n",
       "      <td>-1.476081</td>\n",
       "      <td>0.314460</td>\n",
       "    </tr>\n",
       "    <tr>\n",
       "      <th>2013-01-04</th>\n",
       "      <td>-0.418018</td>\n",
       "      <td>-0.079648</td>\n",
       "      <td>-0.453561</td>\n",
       "      <td>-0.622587</td>\n",
       "    </tr>\n",
       "    <tr>\n",
       "      <th>2013-01-05</th>\n",
       "      <td>0.162770</td>\n",
       "      <td>-0.375901</td>\n",
       "      <td>0.115226</td>\n",
       "      <td>-1.226035</td>\n",
       "    </tr>\n",
       "    <tr>\n",
       "      <th>2013-01-06</th>\n",
       "      <td>1.692054</td>\n",
       "      <td>-0.965999</td>\n",
       "      <td>0.665037</td>\n",
       "      <td>0.321628</td>\n",
       "    </tr>\n",
       "  </tbody>\n",
       "</table>\n",
       "</div>"
      ],
      "text/plain": [
       "                   A         B         C         D\n",
       "2013-01-01 -1.103024  1.873064 -0.696802  1.296974\n",
       "2013-01-02 -1.260490 -2.417482 -1.099263 -2.578614\n",
       "2013-01-03 -1.560524  0.626060 -1.476081  0.314460\n",
       "2013-01-04 -0.418018 -0.079648 -0.453561 -0.622587\n",
       "2013-01-05  0.162770 -0.375901  0.115226 -1.226035\n",
       "2013-01-06  1.692054 -0.965999  0.665037  0.321628"
      ]
     },
     "execution_count": 5,
     "metadata": {},
     "output_type": "execute_result"
    }
   ],
   "source": [
    "df = pd.DataFrame(np.random.randn(6, 4), index=dates, columns=list(\"ABCD\"))\n",
    "df"
   ]
  },
  {
   "cell_type": "code",
   "execution_count": 6,
   "id": "56fe8985",
   "metadata": {},
   "outputs": [
    {
     "data": {
      "text/plain": [
       "Index(['A', 'B', 'C', 'D'], dtype='object')"
      ]
     },
     "execution_count": 6,
     "metadata": {},
     "output_type": "execute_result"
    }
   ],
   "source": [
    "df.columns"
   ]
  },
  {
   "cell_type": "code",
   "execution_count": 7,
   "id": "983df1fe",
   "metadata": {},
   "outputs": [
    {
     "data": {
      "text/plain": [
       "array([[-1.10302369,  1.8730645 , -0.69680191,  1.2969741 ],\n",
       "       [-1.26048969, -2.41748183, -1.09926252, -2.57861427],\n",
       "       [-1.56052373,  0.62605955, -1.4760813 ,  0.3144599 ],\n",
       "       [-0.41801835, -0.07964777, -0.45356096, -0.62258727],\n",
       "       [ 0.16277044, -0.37590099,  0.11522622, -1.2260348 ],\n",
       "       [ 1.69205427, -0.96599865,  0.66503702,  0.32162814]])"
      ]
     },
     "execution_count": 7,
     "metadata": {},
     "output_type": "execute_result"
    }
   ],
   "source": [
    "df.to_numpy()"
   ]
  },
  {
   "cell_type": "code",
   "execution_count": 8,
   "id": "a8438ac2",
   "metadata": {},
   "outputs": [
    {
     "data": {
      "text/html": [
       "<div>\n",
       "<style scoped>\n",
       "    .dataframe tbody tr th:only-of-type {\n",
       "        vertical-align: middle;\n",
       "    }\n",
       "\n",
       "    .dataframe tbody tr th {\n",
       "        vertical-align: top;\n",
       "    }\n",
       "\n",
       "    .dataframe thead th {\n",
       "        text-align: right;\n",
       "    }\n",
       "</style>\n",
       "<table border=\"1\" class=\"dataframe\">\n",
       "  <thead>\n",
       "    <tr style=\"text-align: right;\">\n",
       "      <th></th>\n",
       "      <th>A</th>\n",
       "      <th>B</th>\n",
       "      <th>C</th>\n",
       "      <th>D</th>\n",
       "    </tr>\n",
       "  </thead>\n",
       "  <tbody>\n",
       "    <tr>\n",
       "      <th>count</th>\n",
       "      <td>6.000000</td>\n",
       "      <td>6.000000</td>\n",
       "      <td>6.000000</td>\n",
       "      <td>6.000000</td>\n",
       "    </tr>\n",
       "    <tr>\n",
       "      <th>mean</th>\n",
       "      <td>-0.414538</td>\n",
       "      <td>-0.223318</td>\n",
       "      <td>-0.490907</td>\n",
       "      <td>-0.415696</td>\n",
       "    </tr>\n",
       "    <tr>\n",
       "      <th>std</th>\n",
       "      <td>1.206147</td>\n",
       "      <td>1.450939</td>\n",
       "      <td>0.785882</td>\n",
       "      <td>1.370232</td>\n",
       "    </tr>\n",
       "    <tr>\n",
       "      <th>min</th>\n",
       "      <td>-1.560524</td>\n",
       "      <td>-2.417482</td>\n",
       "      <td>-1.476081</td>\n",
       "      <td>-2.578614</td>\n",
       "    </tr>\n",
       "    <tr>\n",
       "      <th>25%</th>\n",
       "      <td>-1.221123</td>\n",
       "      <td>-0.818474</td>\n",
       "      <td>-0.998647</td>\n",
       "      <td>-1.075173</td>\n",
       "    </tr>\n",
       "    <tr>\n",
       "      <th>50%</th>\n",
       "      <td>-0.760521</td>\n",
       "      <td>-0.227774</td>\n",
       "      <td>-0.575181</td>\n",
       "      <td>-0.154064</td>\n",
       "    </tr>\n",
       "    <tr>\n",
       "      <th>75%</th>\n",
       "      <td>0.017573</td>\n",
       "      <td>0.449633</td>\n",
       "      <td>-0.026971</td>\n",
       "      <td>0.319836</td>\n",
       "    </tr>\n",
       "    <tr>\n",
       "      <th>max</th>\n",
       "      <td>1.692054</td>\n",
       "      <td>1.873064</td>\n",
       "      <td>0.665037</td>\n",
       "      <td>1.296974</td>\n",
       "    </tr>\n",
       "  </tbody>\n",
       "</table>\n",
       "</div>"
      ],
      "text/plain": [
       "              A         B         C         D\n",
       "count  6.000000  6.000000  6.000000  6.000000\n",
       "mean  -0.414538 -0.223318 -0.490907 -0.415696\n",
       "std    1.206147  1.450939  0.785882  1.370232\n",
       "min   -1.560524 -2.417482 -1.476081 -2.578614\n",
       "25%   -1.221123 -0.818474 -0.998647 -1.075173\n",
       "50%   -0.760521 -0.227774 -0.575181 -0.154064\n",
       "75%    0.017573  0.449633 -0.026971  0.319836\n",
       "max    1.692054  1.873064  0.665037  1.296974"
      ]
     },
     "execution_count": 8,
     "metadata": {},
     "output_type": "execute_result"
    }
   ],
   "source": [
    "df.describe()"
   ]
  },
  {
   "cell_type": "code",
   "execution_count": 9,
   "id": "03589ebc",
   "metadata": {},
   "outputs": [
    {
     "data": {
      "text/html": [
       "<div>\n",
       "<style scoped>\n",
       "    .dataframe tbody tr th:only-of-type {\n",
       "        vertical-align: middle;\n",
       "    }\n",
       "\n",
       "    .dataframe tbody tr th {\n",
       "        vertical-align: top;\n",
       "    }\n",
       "\n",
       "    .dataframe thead th {\n",
       "        text-align: right;\n",
       "    }\n",
       "</style>\n",
       "<table border=\"1\" class=\"dataframe\">\n",
       "  <thead>\n",
       "    <tr style=\"text-align: right;\">\n",
       "      <th></th>\n",
       "      <th>2013-01-01</th>\n",
       "      <th>2013-01-02</th>\n",
       "      <th>2013-01-03</th>\n",
       "      <th>2013-01-04</th>\n",
       "      <th>2013-01-05</th>\n",
       "      <th>2013-01-06</th>\n",
       "    </tr>\n",
       "  </thead>\n",
       "  <tbody>\n",
       "    <tr>\n",
       "      <th>A</th>\n",
       "      <td>-1.103024</td>\n",
       "      <td>-1.260490</td>\n",
       "      <td>-1.560524</td>\n",
       "      <td>-0.418018</td>\n",
       "      <td>0.162770</td>\n",
       "      <td>1.692054</td>\n",
       "    </tr>\n",
       "    <tr>\n",
       "      <th>B</th>\n",
       "      <td>1.873064</td>\n",
       "      <td>-2.417482</td>\n",
       "      <td>0.626060</td>\n",
       "      <td>-0.079648</td>\n",
       "      <td>-0.375901</td>\n",
       "      <td>-0.965999</td>\n",
       "    </tr>\n",
       "    <tr>\n",
       "      <th>C</th>\n",
       "      <td>-0.696802</td>\n",
       "      <td>-1.099263</td>\n",
       "      <td>-1.476081</td>\n",
       "      <td>-0.453561</td>\n",
       "      <td>0.115226</td>\n",
       "      <td>0.665037</td>\n",
       "    </tr>\n",
       "    <tr>\n",
       "      <th>D</th>\n",
       "      <td>1.296974</td>\n",
       "      <td>-2.578614</td>\n",
       "      <td>0.314460</td>\n",
       "      <td>-0.622587</td>\n",
       "      <td>-1.226035</td>\n",
       "      <td>0.321628</td>\n",
       "    </tr>\n",
       "  </tbody>\n",
       "</table>\n",
       "</div>"
      ],
      "text/plain": [
       "   2013-01-01  2013-01-02  2013-01-03  2013-01-04  2013-01-05  2013-01-06\n",
       "A   -1.103024   -1.260490   -1.560524   -0.418018    0.162770    1.692054\n",
       "B    1.873064   -2.417482    0.626060   -0.079648   -0.375901   -0.965999\n",
       "C   -0.696802   -1.099263   -1.476081   -0.453561    0.115226    0.665037\n",
       "D    1.296974   -2.578614    0.314460   -0.622587   -1.226035    0.321628"
      ]
     },
     "execution_count": 9,
     "metadata": {},
     "output_type": "execute_result"
    }
   ],
   "source": [
    "df.T"
   ]
  },
  {
   "cell_type": "code",
   "execution_count": 10,
   "id": "8729a543",
   "metadata": {},
   "outputs": [
    {
     "data": {
      "text/html": [
       "<div>\n",
       "<style scoped>\n",
       "    .dataframe tbody tr th:only-of-type {\n",
       "        vertical-align: middle;\n",
       "    }\n",
       "\n",
       "    .dataframe tbody tr th {\n",
       "        vertical-align: top;\n",
       "    }\n",
       "\n",
       "    .dataframe thead th {\n",
       "        text-align: right;\n",
       "    }\n",
       "</style>\n",
       "<table border=\"1\" class=\"dataframe\">\n",
       "  <thead>\n",
       "    <tr style=\"text-align: right;\">\n",
       "      <th></th>\n",
       "      <th>D</th>\n",
       "      <th>C</th>\n",
       "      <th>B</th>\n",
       "      <th>A</th>\n",
       "    </tr>\n",
       "  </thead>\n",
       "  <tbody>\n",
       "    <tr>\n",
       "      <th>2013-01-01</th>\n",
       "      <td>1.296974</td>\n",
       "      <td>-0.696802</td>\n",
       "      <td>1.873064</td>\n",
       "      <td>-1.103024</td>\n",
       "    </tr>\n",
       "    <tr>\n",
       "      <th>2013-01-02</th>\n",
       "      <td>-2.578614</td>\n",
       "      <td>-1.099263</td>\n",
       "      <td>-2.417482</td>\n",
       "      <td>-1.260490</td>\n",
       "    </tr>\n",
       "    <tr>\n",
       "      <th>2013-01-03</th>\n",
       "      <td>0.314460</td>\n",
       "      <td>-1.476081</td>\n",
       "      <td>0.626060</td>\n",
       "      <td>-1.560524</td>\n",
       "    </tr>\n",
       "    <tr>\n",
       "      <th>2013-01-04</th>\n",
       "      <td>-0.622587</td>\n",
       "      <td>-0.453561</td>\n",
       "      <td>-0.079648</td>\n",
       "      <td>-0.418018</td>\n",
       "    </tr>\n",
       "    <tr>\n",
       "      <th>2013-01-05</th>\n",
       "      <td>-1.226035</td>\n",
       "      <td>0.115226</td>\n",
       "      <td>-0.375901</td>\n",
       "      <td>0.162770</td>\n",
       "    </tr>\n",
       "    <tr>\n",
       "      <th>2013-01-06</th>\n",
       "      <td>0.321628</td>\n",
       "      <td>0.665037</td>\n",
       "      <td>-0.965999</td>\n",
       "      <td>1.692054</td>\n",
       "    </tr>\n",
       "  </tbody>\n",
       "</table>\n",
       "</div>"
      ],
      "text/plain": [
       "                   D         C         B         A\n",
       "2013-01-01  1.296974 -0.696802  1.873064 -1.103024\n",
       "2013-01-02 -2.578614 -1.099263 -2.417482 -1.260490\n",
       "2013-01-03  0.314460 -1.476081  0.626060 -1.560524\n",
       "2013-01-04 -0.622587 -0.453561 -0.079648 -0.418018\n",
       "2013-01-05 -1.226035  0.115226 -0.375901  0.162770\n",
       "2013-01-06  0.321628  0.665037 -0.965999  1.692054"
      ]
     },
     "execution_count": 10,
     "metadata": {},
     "output_type": "execute_result"
    }
   ],
   "source": [
    "df.sort_index(axis=1,ascending=False)"
   ]
  },
  {
   "cell_type": "code",
   "execution_count": 11,
   "id": "340fa117",
   "metadata": {},
   "outputs": [
    {
     "data": {
      "text/html": [
       "<div>\n",
       "<style scoped>\n",
       "    .dataframe tbody tr th:only-of-type {\n",
       "        vertical-align: middle;\n",
       "    }\n",
       "\n",
       "    .dataframe tbody tr th {\n",
       "        vertical-align: top;\n",
       "    }\n",
       "\n",
       "    .dataframe thead th {\n",
       "        text-align: right;\n",
       "    }\n",
       "</style>\n",
       "<table border=\"1\" class=\"dataframe\">\n",
       "  <thead>\n",
       "    <tr style=\"text-align: right;\">\n",
       "      <th></th>\n",
       "      <th>A</th>\n",
       "      <th>B</th>\n",
       "      <th>C</th>\n",
       "      <th>D</th>\n",
       "    </tr>\n",
       "  </thead>\n",
       "  <tbody>\n",
       "    <tr>\n",
       "      <th>2013-01-02</th>\n",
       "      <td>-1.260490</td>\n",
       "      <td>-2.417482</td>\n",
       "      <td>-1.099263</td>\n",
       "      <td>-2.578614</td>\n",
       "    </tr>\n",
       "    <tr>\n",
       "      <th>2013-01-06</th>\n",
       "      <td>1.692054</td>\n",
       "      <td>-0.965999</td>\n",
       "      <td>0.665037</td>\n",
       "      <td>0.321628</td>\n",
       "    </tr>\n",
       "    <tr>\n",
       "      <th>2013-01-05</th>\n",
       "      <td>0.162770</td>\n",
       "      <td>-0.375901</td>\n",
       "      <td>0.115226</td>\n",
       "      <td>-1.226035</td>\n",
       "    </tr>\n",
       "    <tr>\n",
       "      <th>2013-01-04</th>\n",
       "      <td>-0.418018</td>\n",
       "      <td>-0.079648</td>\n",
       "      <td>-0.453561</td>\n",
       "      <td>-0.622587</td>\n",
       "    </tr>\n",
       "    <tr>\n",
       "      <th>2013-01-03</th>\n",
       "      <td>-1.560524</td>\n",
       "      <td>0.626060</td>\n",
       "      <td>-1.476081</td>\n",
       "      <td>0.314460</td>\n",
       "    </tr>\n",
       "    <tr>\n",
       "      <th>2013-01-01</th>\n",
       "      <td>-1.103024</td>\n",
       "      <td>1.873064</td>\n",
       "      <td>-0.696802</td>\n",
       "      <td>1.296974</td>\n",
       "    </tr>\n",
       "  </tbody>\n",
       "</table>\n",
       "</div>"
      ],
      "text/plain": [
       "                   A         B         C         D\n",
       "2013-01-02 -1.260490 -2.417482 -1.099263 -2.578614\n",
       "2013-01-06  1.692054 -0.965999  0.665037  0.321628\n",
       "2013-01-05  0.162770 -0.375901  0.115226 -1.226035\n",
       "2013-01-04 -0.418018 -0.079648 -0.453561 -0.622587\n",
       "2013-01-03 -1.560524  0.626060 -1.476081  0.314460\n",
       "2013-01-01 -1.103024  1.873064 -0.696802  1.296974"
      ]
     },
     "execution_count": 11,
     "metadata": {},
     "output_type": "execute_result"
    }
   ],
   "source": [
    "df.sort_values(by=\"B\")"
   ]
  },
  {
   "cell_type": "code",
   "execution_count": 12,
   "id": "0bb0ea51",
   "metadata": {},
   "outputs": [
    {
     "data": {
      "text/plain": [
       "A   -1.103024\n",
       "B    1.873064\n",
       "C   -0.696802\n",
       "D    1.296974\n",
       "Name: 2013-01-01 00:00:00, dtype: float64"
      ]
     },
     "execution_count": 12,
     "metadata": {},
     "output_type": "execute_result"
    }
   ],
   "source": [
    "df.loc[dates[0]]"
   ]
  },
  {
   "cell_type": "code",
   "execution_count": 13,
   "id": "6201b1df",
   "metadata": {
    "scrolled": true
   },
   "outputs": [
    {
     "data": {
      "text/html": [
       "<div>\n",
       "<style scoped>\n",
       "    .dataframe tbody tr th:only-of-type {\n",
       "        vertical-align: middle;\n",
       "    }\n",
       "\n",
       "    .dataframe tbody tr th {\n",
       "        vertical-align: top;\n",
       "    }\n",
       "\n",
       "    .dataframe thead th {\n",
       "        text-align: right;\n",
       "    }\n",
       "</style>\n",
       "<table border=\"1\" class=\"dataframe\">\n",
       "  <thead>\n",
       "    <tr style=\"text-align: right;\">\n",
       "      <th></th>\n",
       "      <th>A</th>\n",
       "      <th>B</th>\n",
       "    </tr>\n",
       "  </thead>\n",
       "  <tbody>\n",
       "    <tr>\n",
       "      <th>2013-01-01</th>\n",
       "      <td>-1.103024</td>\n",
       "      <td>1.873064</td>\n",
       "    </tr>\n",
       "    <tr>\n",
       "      <th>2013-01-02</th>\n",
       "      <td>-1.260490</td>\n",
       "      <td>-2.417482</td>\n",
       "    </tr>\n",
       "    <tr>\n",
       "      <th>2013-01-03</th>\n",
       "      <td>-1.560524</td>\n",
       "      <td>0.626060</td>\n",
       "    </tr>\n",
       "    <tr>\n",
       "      <th>2013-01-04</th>\n",
       "      <td>-0.418018</td>\n",
       "      <td>-0.079648</td>\n",
       "    </tr>\n",
       "    <tr>\n",
       "      <th>2013-01-05</th>\n",
       "      <td>0.162770</td>\n",
       "      <td>-0.375901</td>\n",
       "    </tr>\n",
       "    <tr>\n",
       "      <th>2013-01-06</th>\n",
       "      <td>1.692054</td>\n",
       "      <td>-0.965999</td>\n",
       "    </tr>\n",
       "  </tbody>\n",
       "</table>\n",
       "</div>"
      ],
      "text/plain": [
       "                   A         B\n",
       "2013-01-01 -1.103024  1.873064\n",
       "2013-01-02 -1.260490 -2.417482\n",
       "2013-01-03 -1.560524  0.626060\n",
       "2013-01-04 -0.418018 -0.079648\n",
       "2013-01-05  0.162770 -0.375901\n",
       "2013-01-06  1.692054 -0.965999"
      ]
     },
     "execution_count": 13,
     "metadata": {},
     "output_type": "execute_result"
    }
   ],
   "source": [
    "df.loc[:,[\"A\",\"B\"]]"
   ]
  },
  {
   "cell_type": "code",
   "execution_count": 14,
   "id": "2e1e3729",
   "metadata": {
    "scrolled": true
   },
   "outputs": [
    {
     "data": {
      "text/html": [
       "<div>\n",
       "<style scoped>\n",
       "    .dataframe tbody tr th:only-of-type {\n",
       "        vertical-align: middle;\n",
       "    }\n",
       "\n",
       "    .dataframe tbody tr th {\n",
       "        vertical-align: top;\n",
       "    }\n",
       "\n",
       "    .dataframe thead th {\n",
       "        text-align: right;\n",
       "    }\n",
       "</style>\n",
       "<table border=\"1\" class=\"dataframe\">\n",
       "  <thead>\n",
       "    <tr style=\"text-align: right;\">\n",
       "      <th></th>\n",
       "      <th>A</th>\n",
       "      <th>B</th>\n",
       "    </tr>\n",
       "  </thead>\n",
       "  <tbody>\n",
       "    <tr>\n",
       "      <th>2013-01-02</th>\n",
       "      <td>-1.260490</td>\n",
       "      <td>-2.417482</td>\n",
       "    </tr>\n",
       "    <tr>\n",
       "      <th>2013-01-03</th>\n",
       "      <td>-1.560524</td>\n",
       "      <td>0.626060</td>\n",
       "    </tr>\n",
       "  </tbody>\n",
       "</table>\n",
       "</div>"
      ],
      "text/plain": [
       "                   A         B\n",
       "2013-01-02 -1.260490 -2.417482\n",
       "2013-01-03 -1.560524  0.626060"
      ]
     },
     "execution_count": 14,
     "metadata": {},
     "output_type": "execute_result"
    }
   ],
   "source": [
    "df.loc[\"20130102\":\"20130103\",[\"A\",\"B\"]]"
   ]
  },
  {
   "cell_type": "markdown",
   "id": "a3a8e44b",
   "metadata": {},
   "source": [
    "# Title : Groupby"
   ]
  },
  {
   "cell_type": "code",
   "execution_count": 15,
   "id": "78c97ae6",
   "metadata": {},
   "outputs": [
    {
     "data": {
      "text/html": [
       "<div>\n",
       "<style scoped>\n",
       "    .dataframe tbody tr th:only-of-type {\n",
       "        vertical-align: middle;\n",
       "    }\n",
       "\n",
       "    .dataframe tbody tr th {\n",
       "        vertical-align: top;\n",
       "    }\n",
       "\n",
       "    .dataframe thead tr th {\n",
       "        text-align: left;\n",
       "    }\n",
       "\n",
       "    .dataframe thead tr:last-of-type th {\n",
       "        text-align: right;\n",
       "    }\n",
       "</style>\n",
       "<table border=\"1\" class=\"dataframe\">\n",
       "  <thead>\n",
       "    <tr>\n",
       "      <th></th>\n",
       "      <th colspan=\"2\" halign=\"left\">B</th>\n",
       "      <th>C</th>\n",
       "    </tr>\n",
       "    <tr>\n",
       "      <th></th>\n",
       "      <th>min</th>\n",
       "      <th>max</th>\n",
       "      <th>sum</th>\n",
       "    </tr>\n",
       "    <tr>\n",
       "      <th>A</th>\n",
       "      <th></th>\n",
       "      <th></th>\n",
       "      <th></th>\n",
       "    </tr>\n",
       "  </thead>\n",
       "  <tbody>\n",
       "    <tr>\n",
       "      <th>-1.560524</th>\n",
       "      <td>0.626060</td>\n",
       "      <td>0.626060</td>\n",
       "      <td>-1.476081</td>\n",
       "    </tr>\n",
       "    <tr>\n",
       "      <th>-1.260490</th>\n",
       "      <td>-2.417482</td>\n",
       "      <td>-2.417482</td>\n",
       "      <td>-1.099263</td>\n",
       "    </tr>\n",
       "    <tr>\n",
       "      <th>-1.103024</th>\n",
       "      <td>1.873064</td>\n",
       "      <td>1.873064</td>\n",
       "      <td>-0.696802</td>\n",
       "    </tr>\n",
       "    <tr>\n",
       "      <th>-0.418018</th>\n",
       "      <td>-0.079648</td>\n",
       "      <td>-0.079648</td>\n",
       "      <td>-0.453561</td>\n",
       "    </tr>\n",
       "    <tr>\n",
       "      <th>0.162770</th>\n",
       "      <td>-0.375901</td>\n",
       "      <td>-0.375901</td>\n",
       "      <td>0.115226</td>\n",
       "    </tr>\n",
       "    <tr>\n",
       "      <th>1.692054</th>\n",
       "      <td>-0.965999</td>\n",
       "      <td>-0.965999</td>\n",
       "      <td>0.665037</td>\n",
       "    </tr>\n",
       "  </tbody>\n",
       "</table>\n",
       "</div>"
      ],
      "text/plain": [
       "                  B                   C\n",
       "                min       max       sum\n",
       "A                                      \n",
       "-1.560524  0.626060  0.626060 -1.476081\n",
       "-1.260490 -2.417482 -2.417482 -1.099263\n",
       "-1.103024  1.873064  1.873064 -0.696802\n",
       "-0.418018 -0.079648 -0.079648 -0.453561\n",
       " 0.162770 -0.375901 -0.375901  0.115226\n",
       " 1.692054 -0.965999 -0.965999  0.665037"
      ]
     },
     "execution_count": 15,
     "metadata": {},
     "output_type": "execute_result"
    }
   ],
   "source": [
    "df.groupby('A').agg({'B': ['min', 'max'], 'C': 'sum'})\n"
   ]
  },
  {
   "cell_type": "code",
   "execution_count": 17,
   "id": "3473d5cc",
   "metadata": {},
   "outputs": [
    {
     "ename": "AttributeError",
     "evalue": "module 'pandas' has no attribute 'to_excel'",
     "output_type": "error",
     "traceback": [
      "\u001b[1;31m---------------------------------------------------------------------------\u001b[0m",
      "\u001b[1;31mAttributeError\u001b[0m                            Traceback (most recent call last)",
      "Input \u001b[1;32mIn [17]\u001b[0m, in \u001b[0;36m<cell line: 2>\u001b[1;34m()\u001b[0m\n\u001b[0;32m      1\u001b[0m \u001b[38;5;28;01mimport\u001b[39;00m \u001b[38;5;21;01mpandas\u001b[39;00m \u001b[38;5;28;01mas\u001b[39;00m \u001b[38;5;21;01mtips\u001b[39;00m\n\u001b[1;32m----> 2\u001b[0m \u001b[43mtips\u001b[49m\u001b[38;5;241;43m.\u001b[39;49m\u001b[43mto_excel\u001b[49m(\u001b[38;5;124m\"\u001b[39m\u001b[38;5;124mE:/Data Science with Python/Learn/tips_export.xlsx\u001b[39m\u001b[38;5;124m\"\u001b[39m,index\u001b[38;5;241m=\u001b[39m\u001b[38;5;28;01mFalse\u001b[39;00m)\n",
      "File \u001b[1;32m~\\AppData\\Local\\Programs\\Python\\Python310\\lib\\site-packages\\pandas\\__init__.py:261\u001b[0m, in \u001b[0;36m__getattr__\u001b[1;34m(name)\u001b[0m\n\u001b[0;32m    257\u001b[0m     \u001b[38;5;28;01mfrom\u001b[39;00m \u001b[38;5;21;01mpandas\u001b[39;00m\u001b[38;5;21;01m.\u001b[39;00m\u001b[38;5;21;01mcore\u001b[39;00m\u001b[38;5;21;01m.\u001b[39;00m\u001b[38;5;21;01marrays\u001b[39;00m\u001b[38;5;21;01m.\u001b[39;00m\u001b[38;5;21;01msparse\u001b[39;00m \u001b[38;5;28;01mimport\u001b[39;00m SparseArray \u001b[38;5;28;01mas\u001b[39;00m _SparseArray\n\u001b[0;32m    259\u001b[0m     \u001b[38;5;28;01mreturn\u001b[39;00m _SparseArray\n\u001b[1;32m--> 261\u001b[0m \u001b[38;5;28;01mraise\u001b[39;00m \u001b[38;5;167;01mAttributeError\u001b[39;00m(\u001b[38;5;124mf\u001b[39m\u001b[38;5;124m\"\u001b[39m\u001b[38;5;124mmodule \u001b[39m\u001b[38;5;124m'\u001b[39m\u001b[38;5;124mpandas\u001b[39m\u001b[38;5;124m'\u001b[39m\u001b[38;5;124m has no attribute \u001b[39m\u001b[38;5;124m'\u001b[39m\u001b[38;5;132;01m{\u001b[39;00mname\u001b[38;5;132;01m}\u001b[39;00m\u001b[38;5;124m'\u001b[39m\u001b[38;5;124m\"\u001b[39m)\n",
      "\u001b[1;31mAttributeError\u001b[0m: module 'pandas' has no attribute 'to_excel'"
     ]
    }
   ],
   "source": [
    "import pandas as pd\n",
    "tips.to_excel(\"E:/Data Science with Python/Learn/tips_export.xlsx\",index=False)"
   ]
  },
  {
   "cell_type": "code",
   "execution_count": null,
   "id": "3a375277",
   "metadata": {},
   "outputs": [],
   "source": []
  }
 ],
 "metadata": {
  "kernelspec": {
   "display_name": "Python 3 (ipykernel)",
   "language": "python",
   "name": "python3"
  },
  "language_info": {
   "codemirror_mode": {
    "name": "ipython",
    "version": 3
   },
   "file_extension": ".py",
   "mimetype": "text/x-python",
   "name": "python",
   "nbconvert_exporter": "python",
   "pygments_lexer": "ipython3",
   "version": "3.10.4"
  }
 },
 "nbformat": 4,
 "nbformat_minor": 5
}
