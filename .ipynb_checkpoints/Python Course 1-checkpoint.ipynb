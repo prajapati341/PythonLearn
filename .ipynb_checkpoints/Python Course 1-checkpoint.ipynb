{
 "cells": [
  {
   "cell_type": "code",
   "execution_count": 1,
   "id": "797954ae",
   "metadata": {},
   "outputs": [],
   "source": [
    "import numpy as np\n",
    "import pandas as pd"
   ]
  },
  {
   "cell_type": "code",
   "execution_count": 4,
   "id": "05941860",
   "metadata": {},
   "outputs": [
    {
     "data": {
      "text/plain": [
       "0    1.0\n",
       "1    3.0\n",
       "2    5.0\n",
       "3    NaN\n",
       "4    6.0\n",
       "5    8.0\n",
       "dtype: float64"
      ]
     },
     "execution_count": 4,
     "metadata": {},
     "output_type": "execute_result"
    }
   ],
   "source": [
    "s=pd.Series([1,3,5, np.nan,6,8])\n",
    "s"
   ]
  },
  {
   "cell_type": "code",
   "execution_count": 10,
   "id": "c5ed7f50",
   "metadata": {},
   "outputs": [
    {
     "data": {
      "text/plain": [
       "DatetimeIndex(['2013-01-01', '2013-01-02', '2013-01-03', '2013-01-04',\n",
       "               '2013-01-05', '2013-01-06'],\n",
       "              dtype='datetime64[ns]', freq='D')"
      ]
     },
     "execution_count": 10,
     "metadata": {},
     "output_type": "execute_result"
    }
   ],
   "source": [
    "dates=pd.date_range(\"20130101\",periods=6)\n",
    "dates"
   ]
  },
  {
   "cell_type": "code",
   "execution_count": 11,
   "id": "15d23224",
   "metadata": {},
   "outputs": [
    {
     "data": {
      "text/html": [
       "<div>\n",
       "<style scoped>\n",
       "    .dataframe tbody tr th:only-of-type {\n",
       "        vertical-align: middle;\n",
       "    }\n",
       "\n",
       "    .dataframe tbody tr th {\n",
       "        vertical-align: top;\n",
       "    }\n",
       "\n",
       "    .dataframe thead th {\n",
       "        text-align: right;\n",
       "    }\n",
       "</style>\n",
       "<table border=\"1\" class=\"dataframe\">\n",
       "  <thead>\n",
       "    <tr style=\"text-align: right;\">\n",
       "      <th></th>\n",
       "      <th>A</th>\n",
       "      <th>B</th>\n",
       "      <th>C</th>\n",
       "      <th>D</th>\n",
       "    </tr>\n",
       "  </thead>\n",
       "  <tbody>\n",
       "    <tr>\n",
       "      <th>2013-01-01</th>\n",
       "      <td>1.147039</td>\n",
       "      <td>0.572352</td>\n",
       "      <td>-0.555362</td>\n",
       "      <td>-2.255945</td>\n",
       "    </tr>\n",
       "    <tr>\n",
       "      <th>2013-01-02</th>\n",
       "      <td>0.068478</td>\n",
       "      <td>-1.075980</td>\n",
       "      <td>-0.152854</td>\n",
       "      <td>0.686582</td>\n",
       "    </tr>\n",
       "    <tr>\n",
       "      <th>2013-01-03</th>\n",
       "      <td>-0.904889</td>\n",
       "      <td>-0.486593</td>\n",
       "      <td>1.753624</td>\n",
       "      <td>1.407791</td>\n",
       "    </tr>\n",
       "    <tr>\n",
       "      <th>2013-01-04</th>\n",
       "      <td>0.992893</td>\n",
       "      <td>0.444022</td>\n",
       "      <td>-0.357448</td>\n",
       "      <td>0.870308</td>\n",
       "    </tr>\n",
       "    <tr>\n",
       "      <th>2013-01-05</th>\n",
       "      <td>0.150342</td>\n",
       "      <td>0.377959</td>\n",
       "      <td>-0.238361</td>\n",
       "      <td>-0.607586</td>\n",
       "    </tr>\n",
       "    <tr>\n",
       "      <th>2013-01-06</th>\n",
       "      <td>0.325609</td>\n",
       "      <td>-0.828761</td>\n",
       "      <td>1.251087</td>\n",
       "      <td>0.568914</td>\n",
       "    </tr>\n",
       "  </tbody>\n",
       "</table>\n",
       "</div>"
      ],
      "text/plain": [
       "                   A         B         C         D\n",
       "2013-01-01  1.147039  0.572352 -0.555362 -2.255945\n",
       "2013-01-02  0.068478 -1.075980 -0.152854  0.686582\n",
       "2013-01-03 -0.904889 -0.486593  1.753624  1.407791\n",
       "2013-01-04  0.992893  0.444022 -0.357448  0.870308\n",
       "2013-01-05  0.150342  0.377959 -0.238361 -0.607586\n",
       "2013-01-06  0.325609 -0.828761  1.251087  0.568914"
      ]
     },
     "execution_count": 11,
     "metadata": {},
     "output_type": "execute_result"
    }
   ],
   "source": [
    "df = pd.DataFrame(np.random.randn(6, 4), index=dates, columns=list(\"ABCD\"))\n",
    "df"
   ]
  },
  {
   "cell_type": "code",
   "execution_count": 13,
   "id": "1c33a3e1",
   "metadata": {},
   "outputs": [
    {
     "data": {
      "text/plain": [
       "Index(['A', 'B', 'C', 'D'], dtype='object')"
      ]
     },
     "execution_count": 13,
     "metadata": {},
     "output_type": "execute_result"
    }
   ],
   "source": [
    "df.columns"
   ]
  },
  {
   "cell_type": "code",
   "execution_count": 15,
   "id": "7e31e681",
   "metadata": {},
   "outputs": [
    {
     "data": {
      "text/plain": [
       "array([[ 1.14703859,  0.57235179, -0.55536155, -2.25594494],\n",
       "       [ 0.06847797, -1.07597973, -0.15285367,  0.68658177],\n",
       "       [-0.90488869, -0.48659327,  1.75362409,  1.40779101],\n",
       "       [ 0.99289263,  0.4440216 , -0.35744813,  0.87030791],\n",
       "       [ 0.1503417 ,  0.3779586 , -0.23836135, -0.60758605],\n",
       "       [ 0.3256089 , -0.82876128,  1.25108724,  0.56891439]])"
      ]
     },
     "execution_count": 15,
     "metadata": {},
     "output_type": "execute_result"
    }
   ],
   "source": [
    "df.to_numpy()"
   ]
  },
  {
   "cell_type": "code",
   "execution_count": 16,
   "id": "f4198f49",
   "metadata": {},
   "outputs": [
    {
     "data": {
      "text/html": [
       "<div>\n",
       "<style scoped>\n",
       "    .dataframe tbody tr th:only-of-type {\n",
       "        vertical-align: middle;\n",
       "    }\n",
       "\n",
       "    .dataframe tbody tr th {\n",
       "        vertical-align: top;\n",
       "    }\n",
       "\n",
       "    .dataframe thead th {\n",
       "        text-align: right;\n",
       "    }\n",
       "</style>\n",
       "<table border=\"1\" class=\"dataframe\">\n",
       "  <thead>\n",
       "    <tr style=\"text-align: right;\">\n",
       "      <th></th>\n",
       "      <th>A</th>\n",
       "      <th>B</th>\n",
       "      <th>C</th>\n",
       "      <th>D</th>\n",
       "    </tr>\n",
       "  </thead>\n",
       "  <tbody>\n",
       "    <tr>\n",
       "      <th>count</th>\n",
       "      <td>6.000000</td>\n",
       "      <td>6.000000</td>\n",
       "      <td>6.000000</td>\n",
       "      <td>6.000000</td>\n",
       "    </tr>\n",
       "    <tr>\n",
       "      <th>mean</th>\n",
       "      <td>0.296579</td>\n",
       "      <td>-0.166167</td>\n",
       "      <td>0.283448</td>\n",
       "      <td>0.111677</td>\n",
       "    </tr>\n",
       "    <tr>\n",
       "      <th>std</th>\n",
       "      <td>0.738365</td>\n",
       "      <td>0.718787</td>\n",
       "      <td>0.966927</td>\n",
       "      <td>1.335514</td>\n",
       "    </tr>\n",
       "    <tr>\n",
       "      <th>min</th>\n",
       "      <td>-0.904889</td>\n",
       "      <td>-1.075980</td>\n",
       "      <td>-0.555362</td>\n",
       "      <td>-2.255945</td>\n",
       "    </tr>\n",
       "    <tr>\n",
       "      <th>25%</th>\n",
       "      <td>0.088944</td>\n",
       "      <td>-0.743219</td>\n",
       "      <td>-0.327676</td>\n",
       "      <td>-0.313461</td>\n",
       "    </tr>\n",
       "    <tr>\n",
       "      <th>50%</th>\n",
       "      <td>0.237975</td>\n",
       "      <td>-0.054317</td>\n",
       "      <td>-0.195608</td>\n",
       "      <td>0.627748</td>\n",
       "    </tr>\n",
       "    <tr>\n",
       "      <th>75%</th>\n",
       "      <td>0.826072</td>\n",
       "      <td>0.427506</td>\n",
       "      <td>0.900102</td>\n",
       "      <td>0.824376</td>\n",
       "    </tr>\n",
       "    <tr>\n",
       "      <th>max</th>\n",
       "      <td>1.147039</td>\n",
       "      <td>0.572352</td>\n",
       "      <td>1.753624</td>\n",
       "      <td>1.407791</td>\n",
       "    </tr>\n",
       "  </tbody>\n",
       "</table>\n",
       "</div>"
      ],
      "text/plain": [
       "              A         B         C         D\n",
       "count  6.000000  6.000000  6.000000  6.000000\n",
       "mean   0.296579 -0.166167  0.283448  0.111677\n",
       "std    0.738365  0.718787  0.966927  1.335514\n",
       "min   -0.904889 -1.075980 -0.555362 -2.255945\n",
       "25%    0.088944 -0.743219 -0.327676 -0.313461\n",
       "50%    0.237975 -0.054317 -0.195608  0.627748\n",
       "75%    0.826072  0.427506  0.900102  0.824376\n",
       "max    1.147039  0.572352  1.753624  1.407791"
      ]
     },
     "execution_count": 16,
     "metadata": {},
     "output_type": "execute_result"
    }
   ],
   "source": [
    "df.describe()"
   ]
  },
  {
   "cell_type": "code",
   "execution_count": 17,
   "id": "8c9c9cc4",
   "metadata": {},
   "outputs": [
    {
     "data": {
      "text/html": [
       "<div>\n",
       "<style scoped>\n",
       "    .dataframe tbody tr th:only-of-type {\n",
       "        vertical-align: middle;\n",
       "    }\n",
       "\n",
       "    .dataframe tbody tr th {\n",
       "        vertical-align: top;\n",
       "    }\n",
       "\n",
       "    .dataframe thead th {\n",
       "        text-align: right;\n",
       "    }\n",
       "</style>\n",
       "<table border=\"1\" class=\"dataframe\">\n",
       "  <thead>\n",
       "    <tr style=\"text-align: right;\">\n",
       "      <th></th>\n",
       "      <th>2013-01-01</th>\n",
       "      <th>2013-01-02</th>\n",
       "      <th>2013-01-03</th>\n",
       "      <th>2013-01-04</th>\n",
       "      <th>2013-01-05</th>\n",
       "      <th>2013-01-06</th>\n",
       "    </tr>\n",
       "  </thead>\n",
       "  <tbody>\n",
       "    <tr>\n",
       "      <th>A</th>\n",
       "      <td>1.147039</td>\n",
       "      <td>0.068478</td>\n",
       "      <td>-0.904889</td>\n",
       "      <td>0.992893</td>\n",
       "      <td>0.150342</td>\n",
       "      <td>0.325609</td>\n",
       "    </tr>\n",
       "    <tr>\n",
       "      <th>B</th>\n",
       "      <td>0.572352</td>\n",
       "      <td>-1.075980</td>\n",
       "      <td>-0.486593</td>\n",
       "      <td>0.444022</td>\n",
       "      <td>0.377959</td>\n",
       "      <td>-0.828761</td>\n",
       "    </tr>\n",
       "    <tr>\n",
       "      <th>C</th>\n",
       "      <td>-0.555362</td>\n",
       "      <td>-0.152854</td>\n",
       "      <td>1.753624</td>\n",
       "      <td>-0.357448</td>\n",
       "      <td>-0.238361</td>\n",
       "      <td>1.251087</td>\n",
       "    </tr>\n",
       "    <tr>\n",
       "      <th>D</th>\n",
       "      <td>-2.255945</td>\n",
       "      <td>0.686582</td>\n",
       "      <td>1.407791</td>\n",
       "      <td>0.870308</td>\n",
       "      <td>-0.607586</td>\n",
       "      <td>0.568914</td>\n",
       "    </tr>\n",
       "  </tbody>\n",
       "</table>\n",
       "</div>"
      ],
      "text/plain": [
       "   2013-01-01  2013-01-02  2013-01-03  2013-01-04  2013-01-05  2013-01-06\n",
       "A    1.147039    0.068478   -0.904889    0.992893    0.150342    0.325609\n",
       "B    0.572352   -1.075980   -0.486593    0.444022    0.377959   -0.828761\n",
       "C   -0.555362   -0.152854    1.753624   -0.357448   -0.238361    1.251087\n",
       "D   -2.255945    0.686582    1.407791    0.870308   -0.607586    0.568914"
      ]
     },
     "execution_count": 17,
     "metadata": {},
     "output_type": "execute_result"
    }
   ],
   "source": [
    "df.T"
   ]
  },
  {
   "cell_type": "code",
   "execution_count": 20,
   "id": "53bdd519",
   "metadata": {},
   "outputs": [
    {
     "data": {
      "text/html": [
       "<div>\n",
       "<style scoped>\n",
       "    .dataframe tbody tr th:only-of-type {\n",
       "        vertical-align: middle;\n",
       "    }\n",
       "\n",
       "    .dataframe tbody tr th {\n",
       "        vertical-align: top;\n",
       "    }\n",
       "\n",
       "    .dataframe thead th {\n",
       "        text-align: right;\n",
       "    }\n",
       "</style>\n",
       "<table border=\"1\" class=\"dataframe\">\n",
       "  <thead>\n",
       "    <tr style=\"text-align: right;\">\n",
       "      <th></th>\n",
       "      <th>D</th>\n",
       "      <th>C</th>\n",
       "      <th>B</th>\n",
       "      <th>A</th>\n",
       "    </tr>\n",
       "  </thead>\n",
       "  <tbody>\n",
       "    <tr>\n",
       "      <th>2013-01-01</th>\n",
       "      <td>-2.255945</td>\n",
       "      <td>-0.555362</td>\n",
       "      <td>0.572352</td>\n",
       "      <td>1.147039</td>\n",
       "    </tr>\n",
       "    <tr>\n",
       "      <th>2013-01-02</th>\n",
       "      <td>0.686582</td>\n",
       "      <td>-0.152854</td>\n",
       "      <td>-1.075980</td>\n",
       "      <td>0.068478</td>\n",
       "    </tr>\n",
       "    <tr>\n",
       "      <th>2013-01-03</th>\n",
       "      <td>1.407791</td>\n",
       "      <td>1.753624</td>\n",
       "      <td>-0.486593</td>\n",
       "      <td>-0.904889</td>\n",
       "    </tr>\n",
       "    <tr>\n",
       "      <th>2013-01-04</th>\n",
       "      <td>0.870308</td>\n",
       "      <td>-0.357448</td>\n",
       "      <td>0.444022</td>\n",
       "      <td>0.992893</td>\n",
       "    </tr>\n",
       "    <tr>\n",
       "      <th>2013-01-05</th>\n",
       "      <td>-0.607586</td>\n",
       "      <td>-0.238361</td>\n",
       "      <td>0.377959</td>\n",
       "      <td>0.150342</td>\n",
       "    </tr>\n",
       "    <tr>\n",
       "      <th>2013-01-06</th>\n",
       "      <td>0.568914</td>\n",
       "      <td>1.251087</td>\n",
       "      <td>-0.828761</td>\n",
       "      <td>0.325609</td>\n",
       "    </tr>\n",
       "  </tbody>\n",
       "</table>\n",
       "</div>"
      ],
      "text/plain": [
       "                   D         C         B         A\n",
       "2013-01-01 -2.255945 -0.555362  0.572352  1.147039\n",
       "2013-01-02  0.686582 -0.152854 -1.075980  0.068478\n",
       "2013-01-03  1.407791  1.753624 -0.486593 -0.904889\n",
       "2013-01-04  0.870308 -0.357448  0.444022  0.992893\n",
       "2013-01-05 -0.607586 -0.238361  0.377959  0.150342\n",
       "2013-01-06  0.568914  1.251087 -0.828761  0.325609"
      ]
     },
     "execution_count": 20,
     "metadata": {},
     "output_type": "execute_result"
    }
   ],
   "source": [
    "df.sort_index(axis=1,ascending=False)"
   ]
  },
  {
   "cell_type": "code",
   "execution_count": 21,
   "id": "8cf5c328",
   "metadata": {},
   "outputs": [
    {
     "data": {
      "text/html": [
       "<div>\n",
       "<style scoped>\n",
       "    .dataframe tbody tr th:only-of-type {\n",
       "        vertical-align: middle;\n",
       "    }\n",
       "\n",
       "    .dataframe tbody tr th {\n",
       "        vertical-align: top;\n",
       "    }\n",
       "\n",
       "    .dataframe thead th {\n",
       "        text-align: right;\n",
       "    }\n",
       "</style>\n",
       "<table border=\"1\" class=\"dataframe\">\n",
       "  <thead>\n",
       "    <tr style=\"text-align: right;\">\n",
       "      <th></th>\n",
       "      <th>A</th>\n",
       "      <th>B</th>\n",
       "      <th>C</th>\n",
       "      <th>D</th>\n",
       "    </tr>\n",
       "  </thead>\n",
       "  <tbody>\n",
       "    <tr>\n",
       "      <th>2013-01-02</th>\n",
       "      <td>0.068478</td>\n",
       "      <td>-1.075980</td>\n",
       "      <td>-0.152854</td>\n",
       "      <td>0.686582</td>\n",
       "    </tr>\n",
       "    <tr>\n",
       "      <th>2013-01-06</th>\n",
       "      <td>0.325609</td>\n",
       "      <td>-0.828761</td>\n",
       "      <td>1.251087</td>\n",
       "      <td>0.568914</td>\n",
       "    </tr>\n",
       "    <tr>\n",
       "      <th>2013-01-03</th>\n",
       "      <td>-0.904889</td>\n",
       "      <td>-0.486593</td>\n",
       "      <td>1.753624</td>\n",
       "      <td>1.407791</td>\n",
       "    </tr>\n",
       "    <tr>\n",
       "      <th>2013-01-05</th>\n",
       "      <td>0.150342</td>\n",
       "      <td>0.377959</td>\n",
       "      <td>-0.238361</td>\n",
       "      <td>-0.607586</td>\n",
       "    </tr>\n",
       "    <tr>\n",
       "      <th>2013-01-04</th>\n",
       "      <td>0.992893</td>\n",
       "      <td>0.444022</td>\n",
       "      <td>-0.357448</td>\n",
       "      <td>0.870308</td>\n",
       "    </tr>\n",
       "    <tr>\n",
       "      <th>2013-01-01</th>\n",
       "      <td>1.147039</td>\n",
       "      <td>0.572352</td>\n",
       "      <td>-0.555362</td>\n",
       "      <td>-2.255945</td>\n",
       "    </tr>\n",
       "  </tbody>\n",
       "</table>\n",
       "</div>"
      ],
      "text/plain": [
       "                   A         B         C         D\n",
       "2013-01-02  0.068478 -1.075980 -0.152854  0.686582\n",
       "2013-01-06  0.325609 -0.828761  1.251087  0.568914\n",
       "2013-01-03 -0.904889 -0.486593  1.753624  1.407791\n",
       "2013-01-05  0.150342  0.377959 -0.238361 -0.607586\n",
       "2013-01-04  0.992893  0.444022 -0.357448  0.870308\n",
       "2013-01-01  1.147039  0.572352 -0.555362 -2.255945"
      ]
     },
     "execution_count": 21,
     "metadata": {},
     "output_type": "execute_result"
    }
   ],
   "source": [
    "df.sort_values(by=\"B\")"
   ]
  },
  {
   "cell_type": "code",
   "execution_count": 22,
   "id": "7e6fa94a",
   "metadata": {},
   "outputs": [
    {
     "data": {
      "text/plain": [
       "A    1.147039\n",
       "B    0.572352\n",
       "C   -0.555362\n",
       "D   -2.255945\n",
       "Name: 2013-01-01 00:00:00, dtype: float64"
      ]
     },
     "execution_count": 22,
     "metadata": {},
     "output_type": "execute_result"
    }
   ],
   "source": [
    "df.loc[dates[0]]"
   ]
  },
  {
   "cell_type": "code",
   "execution_count": 23,
   "id": "2f2a93c7",
   "metadata": {
    "scrolled": true
   },
   "outputs": [
    {
     "data": {
      "text/html": [
       "<div>\n",
       "<style scoped>\n",
       "    .dataframe tbody tr th:only-of-type {\n",
       "        vertical-align: middle;\n",
       "    }\n",
       "\n",
       "    .dataframe tbody tr th {\n",
       "        vertical-align: top;\n",
       "    }\n",
       "\n",
       "    .dataframe thead th {\n",
       "        text-align: right;\n",
       "    }\n",
       "</style>\n",
       "<table border=\"1\" class=\"dataframe\">\n",
       "  <thead>\n",
       "    <tr style=\"text-align: right;\">\n",
       "      <th></th>\n",
       "      <th>A</th>\n",
       "      <th>B</th>\n",
       "    </tr>\n",
       "  </thead>\n",
       "  <tbody>\n",
       "    <tr>\n",
       "      <th>2013-01-01</th>\n",
       "      <td>1.147039</td>\n",
       "      <td>0.572352</td>\n",
       "    </tr>\n",
       "    <tr>\n",
       "      <th>2013-01-02</th>\n",
       "      <td>0.068478</td>\n",
       "      <td>-1.075980</td>\n",
       "    </tr>\n",
       "    <tr>\n",
       "      <th>2013-01-03</th>\n",
       "      <td>-0.904889</td>\n",
       "      <td>-0.486593</td>\n",
       "    </tr>\n",
       "    <tr>\n",
       "      <th>2013-01-04</th>\n",
       "      <td>0.992893</td>\n",
       "      <td>0.444022</td>\n",
       "    </tr>\n",
       "    <tr>\n",
       "      <th>2013-01-05</th>\n",
       "      <td>0.150342</td>\n",
       "      <td>0.377959</td>\n",
       "    </tr>\n",
       "    <tr>\n",
       "      <th>2013-01-06</th>\n",
       "      <td>0.325609</td>\n",
       "      <td>-0.828761</td>\n",
       "    </tr>\n",
       "  </tbody>\n",
       "</table>\n",
       "</div>"
      ],
      "text/plain": [
       "                   A         B\n",
       "2013-01-01  1.147039  0.572352\n",
       "2013-01-02  0.068478 -1.075980\n",
       "2013-01-03 -0.904889 -0.486593\n",
       "2013-01-04  0.992893  0.444022\n",
       "2013-01-05  0.150342  0.377959\n",
       "2013-01-06  0.325609 -0.828761"
      ]
     },
     "execution_count": 23,
     "metadata": {},
     "output_type": "execute_result"
    }
   ],
   "source": [
    "df.loc[:,[\"A\",\"B\"]]"
   ]
  },
  {
   "cell_type": "code",
   "execution_count": 28,
   "id": "85d30ad3",
   "metadata": {
    "scrolled": true
   },
   "outputs": [
    {
     "data": {
      "text/html": [
       "<div>\n",
       "<style scoped>\n",
       "    .dataframe tbody tr th:only-of-type {\n",
       "        vertical-align: middle;\n",
       "    }\n",
       "\n",
       "    .dataframe tbody tr th {\n",
       "        vertical-align: top;\n",
       "    }\n",
       "\n",
       "    .dataframe thead th {\n",
       "        text-align: right;\n",
       "    }\n",
       "</style>\n",
       "<table border=\"1\" class=\"dataframe\">\n",
       "  <thead>\n",
       "    <tr style=\"text-align: right;\">\n",
       "      <th></th>\n",
       "      <th>A</th>\n",
       "      <th>B</th>\n",
       "    </tr>\n",
       "  </thead>\n",
       "  <tbody>\n",
       "    <tr>\n",
       "      <th>2013-01-02</th>\n",
       "      <td>0.068478</td>\n",
       "      <td>-1.075980</td>\n",
       "    </tr>\n",
       "    <tr>\n",
       "      <th>2013-01-03</th>\n",
       "      <td>-0.904889</td>\n",
       "      <td>-0.486593</td>\n",
       "    </tr>\n",
       "  </tbody>\n",
       "</table>\n",
       "</div>"
      ],
      "text/plain": [
       "                   A         B\n",
       "2013-01-02  0.068478 -1.075980\n",
       "2013-01-03 -0.904889 -0.486593"
      ]
     },
     "execution_count": 28,
     "metadata": {},
     "output_type": "execute_result"
    }
   ],
   "source": [
    "df.loc[\"20130102\":\"20130103\",[\"A\",\"B\"]]"
   ]
  },
  {
   "cell_type": "markdown",
   "id": "03d84bd6",
   "metadata": {},
   "source": [
    "# Title : Groupby"
   ]
  },
  {
   "cell_type": "code",
   "execution_count": 30,
   "id": "d79d1746",
   "metadata": {},
   "outputs": [
    {
     "data": {
      "text/html": [
       "<div>\n",
       "<style scoped>\n",
       "    .dataframe tbody tr th:only-of-type {\n",
       "        vertical-align: middle;\n",
       "    }\n",
       "\n",
       "    .dataframe tbody tr th {\n",
       "        vertical-align: top;\n",
       "    }\n",
       "\n",
       "    .dataframe thead tr th {\n",
       "        text-align: left;\n",
       "    }\n",
       "\n",
       "    .dataframe thead tr:last-of-type th {\n",
       "        text-align: right;\n",
       "    }\n",
       "</style>\n",
       "<table border=\"1\" class=\"dataframe\">\n",
       "  <thead>\n",
       "    <tr>\n",
       "      <th></th>\n",
       "      <th colspan=\"2\" halign=\"left\">B</th>\n",
       "      <th>C</th>\n",
       "    </tr>\n",
       "    <tr>\n",
       "      <th></th>\n",
       "      <th>min</th>\n",
       "      <th>max</th>\n",
       "      <th>sum</th>\n",
       "    </tr>\n",
       "    <tr>\n",
       "      <th>A</th>\n",
       "      <th></th>\n",
       "      <th></th>\n",
       "      <th></th>\n",
       "    </tr>\n",
       "  </thead>\n",
       "  <tbody>\n",
       "    <tr>\n",
       "      <th>-0.904889</th>\n",
       "      <td>-0.486593</td>\n",
       "      <td>-0.486593</td>\n",
       "      <td>1.753624</td>\n",
       "    </tr>\n",
       "    <tr>\n",
       "      <th>0.068478</th>\n",
       "      <td>-1.075980</td>\n",
       "      <td>-1.075980</td>\n",
       "      <td>-0.152854</td>\n",
       "    </tr>\n",
       "    <tr>\n",
       "      <th>0.150342</th>\n",
       "      <td>0.377959</td>\n",
       "      <td>0.377959</td>\n",
       "      <td>-0.238361</td>\n",
       "    </tr>\n",
       "    <tr>\n",
       "      <th>0.325609</th>\n",
       "      <td>-0.828761</td>\n",
       "      <td>-0.828761</td>\n",
       "      <td>1.251087</td>\n",
       "    </tr>\n",
       "    <tr>\n",
       "      <th>0.992893</th>\n",
       "      <td>0.444022</td>\n",
       "      <td>0.444022</td>\n",
       "      <td>-0.357448</td>\n",
       "    </tr>\n",
       "    <tr>\n",
       "      <th>1.147039</th>\n",
       "      <td>0.572352</td>\n",
       "      <td>0.572352</td>\n",
       "      <td>-0.555362</td>\n",
       "    </tr>\n",
       "  </tbody>\n",
       "</table>\n",
       "</div>"
      ],
      "text/plain": [
       "                  B                   C\n",
       "                min       max       sum\n",
       "A                                      \n",
       "-0.904889 -0.486593 -0.486593  1.753624\n",
       " 0.068478 -1.075980 -1.075980 -0.152854\n",
       " 0.150342  0.377959  0.377959 -0.238361\n",
       " 0.325609 -0.828761 -0.828761  1.251087\n",
       " 0.992893  0.444022  0.444022 -0.357448\n",
       " 1.147039  0.572352  0.572352 -0.555362"
      ]
     },
     "execution_count": 30,
     "metadata": {},
     "output_type": "execute_result"
    }
   ],
   "source": [
    "df.groupby('A').agg({'B': ['min', 'max'], 'C': 'sum'})\n"
   ]
  },
  {
   "cell_type": "code",
   "execution_count": null,
   "id": "94f6b44c",
   "metadata": {},
   "outputs": [],
   "source": []
  }
 ],
 "metadata": {
  "kernelspec": {
   "display_name": "Python 3 (ipykernel)",
   "language": "python",
   "name": "python3"
  },
  "language_info": {
   "codemirror_mode": {
    "name": "ipython",
    "version": 3
   },
   "file_extension": ".py",
   "mimetype": "text/x-python",
   "name": "python",
   "nbconvert_exporter": "python",
   "pygments_lexer": "ipython3",
   "version": "3.10.4"
  }
 },
 "nbformat": 4,
 "nbformat_minor": 5
}
