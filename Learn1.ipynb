{
 "cells": [
  {
   "cell_type": "code",
   "execution_count": 1,
   "id": "a430d636",
   "metadata": {},
   "outputs": [
    {
     "name": "stdout",
     "output_type": "stream",
     "text": [
      "10\n",
      "not matched\n"
     ]
    }
   ],
   "source": [
    "age=int(input())\n",
    "if age>=13 and age<=20:\n",
    "    print(\"child\")\n",
    "elif age>=21 and age<=30:\n",
    "    print(\"adult\")\n",
    "else:\n",
    "    print(\"not matched\")"
   ]
  },
  {
   "cell_type": "code",
   "execution_count": 22,
   "id": "6983ea8a",
   "metadata": {},
   "outputs": [
    {
     "name": "stdout",
     "output_type": "stream",
     "text": [
      "False\n"
     ]
    }
   ],
   "source": [
    "i=True\n",
    "print(not i and True)"
   ]
  },
  {
   "cell_type": "code",
   "execution_count": 27,
   "id": "9e8671cc",
   "metadata": {},
   "outputs": [
    {
     "name": "stdout",
     "output_type": "stream",
     "text": [
      "0\n",
      "True\n"
     ]
    }
   ],
   "source": [
    "i= 0\n",
    "print(i)\n",
    "i= not False\n",
    "print(i)"
   ]
  },
  {
   "cell_type": "code",
   "execution_count": 1,
   "id": "eb4368bc",
   "metadata": {},
   "outputs": [
    {
     "name": "stdout",
     "output_type": "stream",
     "text": [
      "   a   b   c\n",
      "0  1   6  11\n",
      "1  2   7  12\n",
      "2  3   8  13\n",
      "3  4   9  14\n",
      "4  5  10  15 \n",
      "\n",
      "   a  b   c\n",
      "0  1  6  11\n",
      "1  2  7  12\n",
      "2  3  8  13 \n",
      "\n",
      "0     6\n",
      "1     7\n",
      "2     8\n",
      "3     9\n",
      "4    10\n",
      "Name: b, dtype: int64\n"
     ]
    }
   ],
   "source": [
    "import pandas as pd\n",
    "df=pd.DataFrame({'a':[1,2,3,4,5],'b':[6,7,8,9,10],'c':[11,12,13,14,15]})\n",
    "\n",
    "\n",
    "print(df,\"\\n\")\n",
    "#df=df.iloc[:3]\n",
    "print(df.iloc[:3],\"\\n\")\n",
    "\n",
    "#print(df.loc[:3],\"\\n\")\n",
    "\n",
    "#print(df[['a']].max(),\" \",df[['b']].max())\n",
    "\n",
    "#print(df[['a','c']])   #selecting specific columns\n",
    "\n",
    "#print(df.loc[:,['b']])\n",
    "\n",
    "#df.loc[:,'a':'c']                 \n",
    "print(df.b)\n",
    "\n"
   ]
  },
  {
   "cell_type": "markdown",
   "id": "383629cf",
   "metadata": {},
   "source": [
    "# Series is a type of list in pandas which can take integer values, string values, double values and more. But in Pandas Series we return an object in the form of list, having index starting from 0 to n, Where n is the length of values in series.\n",
    "\n",
    "Later in this article, we will discuss dataframes in pandas, but we first need to understand the main difference between Series and Dataframe. Series can only contain single list with index, whereas dataframe can be made of more than one series or we can say that a dataframe is a collection of series that can be used to analyse the data."
   ]
  },
  {
   "cell_type": "code",
   "execution_count": 1,
   "id": "e795781a",
   "metadata": {},
   "outputs": [
    {
     "name": "stdout",
     "output_type": "stream",
     "text": [
      "0    Jitender\n",
      "1     Purnima\n",
      "2       Arpit\n",
      "3       Jyoti\n",
      "dtype: object\n"
     ]
    }
   ],
   "source": [
    "import pandas as pd\n",
    "import matplotlib.pyplot as plt\n",
    "  \n",
    "author = ['Jitender', 'Purnima', 'Arpit', 'Jyoti']\n",
    "  \n",
    "auth_series = pd.Series(author)\n",
    "print(auth_series)"
   ]
  },
  {
   "cell_type": "code",
   "execution_count": 17,
   "id": "41bdf474",
   "metadata": {},
   "outputs": [
    {
     "data": {
      "text/plain": [
       "10    a\n",
       "20    b\n",
       "30    c\n",
       "dtype: object"
      ]
     },
     "execution_count": 17,
     "metadata": {},
     "output_type": "execute_result"
    }
   ],
   "source": [
    "pd.Series(label,arr)"
   ]
  },
  {
   "cell_type": "code",
   "execution_count": 1,
   "id": "503c0ade",
   "metadata": {},
   "outputs": [
    {
     "name": "stdout",
     "output_type": "stream",
     "text": [
      "     Author  Article\n",
      "0  Jitender      210\n",
      "1   Purnima      211\n",
      "2     Arpit      114\n",
      "3     Jyoti      178\n",
      "\n",
      "\n",
      "   Article\n",
      "0      210\n",
      "1      211\n",
      "2      114\n"
     ]
    }
   ],
   "source": [
    "import pandas as pd\n",
    "import matplotlib.pyplot as plt\n",
    "\n",
    "author = ['Jitender', 'Purnima', 'Arpit', 'Jyoti']\n",
    "article = [210, 211, 114, 178]\n",
    "\n",
    "auth_series = pd.Series(author)\n",
    "article_series = pd.Series(article)\n",
    "\n",
    "frame = { 'Author': auth_series, 'Article': article_series }\n",
    "\n",
    "result = pd.DataFrame(frame)\n",
    "\n",
    "print(result)\n",
    "print(\"\\n\")\n",
    "print(result.iloc[:3,1:])\n"
   ]
  },
  {
   "cell_type": "code",
   "execution_count": 2,
   "id": "60d295d8",
   "metadata": {},
   "outputs": [
    {
     "name": "stdout",
     "output_type": "stream",
     "text": [
      "     Author  Article  Age\n",
      "0  Jitender      210   21\n",
      "1   Purnima      211   21\n",
      "2     Arpit      114   24\n",
      "3     Jyoti      178   23\n"
     ]
    }
   ],
   "source": [
    " #How to add series externally in dataframe\n",
    "    \n",
    "import pandas as pd\n",
    "import matplotlib.pyplot as plt\n",
    "  \n",
    "author = ['Jitender', 'Purnima', 'Arpit', 'Jyoti']\n",
    "article = [210, 211, 114, 178]\n",
    "  \n",
    "auth_series = pd.Series(author)\n",
    "article_series = pd.Series(article)\n",
    "  \n",
    "frame = { 'Author': auth_series, 'Article': article_series }\n",
    "  \n",
    "result = pd.DataFrame(frame)\n",
    "age = [21, 21, 24, 23]\n",
    "  \n",
    "result['Age'] = pd.Series(age)\n",
    "  \n",
    "print(result)"
   ]
  },
  {
   "cell_type": "code",
   "execution_count": 23,
   "id": "4a8f6e8d",
   "metadata": {},
   "outputs": [
    {
     "name": "stdout",
     "output_type": "stream",
     "text": [
      "     Author  Article   Age\n",
      "0  Jitender      210  21.0\n",
      "1   Purnima      211  21.0\n",
      "2     Arpit      114  23.0\n",
      "3     Jyoti      178   NaN\n"
     ]
    }
   ],
   "source": [
    "# Missing value in dataframe\n",
    "import pandas as pd\n",
    "import matplotlib.pyplot as plt\n",
    "  \n",
    "author = ['Jitender', 'Purnima', 'Arpit', 'Jyoti']\n",
    "article = [210, 211, 114, 178]\n",
    "  \n",
    "auth_series = pd.Series(author)\n",
    "article_series = pd.Series(article)\n",
    "  \n",
    "frame = { 'Author': auth_series, 'Article': article_series }\n",
    "  \n",
    "result = pd.DataFrame(frame)\n",
    "age = [21, 21, 23]\n",
    "  \n",
    "result['Age'] = pd.Series(age)\n",
    "  \n",
    "print(result)\n"
   ]
  },
  {
   "cell_type": "code",
   "execution_count": 2,
   "id": "1a9e8d67",
   "metadata": {},
   "outputs": [
    {
     "data": {
      "image/png": "[encoded data removed]",
      "text/plain": [
       "<Figure size 432x288 with 1 Axes>"
      ]
     },
     "metadata": {
      "needs_background": "light"
     },
     "output_type": "display_data"
    }
   ],
   "source": [
    "# Data Plot on graph\n",
    "\n",
    "import pandas as pd\n",
    "import matplotlib.pyplot as plt\n",
    "  \n",
    "author = ['Jitender', 'Purnima', 'Arpit', 'Jyoti']\n",
    "article = [210, 211, 114, 178]\n",
    "  \n",
    "auth_series = pd.Series(author)\n",
    "article_series = pd.Series(article)\n",
    "  \n",
    "frame = { 'Author': auth_series, 'Article': article_series }\n",
    "  \n",
    "result = pd.DataFrame(frame)\n",
    "age = [21, 21, 24, 23]\n",
    "  \n",
    "result['Age'] = pd.Series(age)\n",
    "  \n",
    "result.plot.bar()\n",
    "plt.show()"
   ]
  },
  {
   "cell_type": "code",
   "execution_count": 3,
   "id": "f67c7686",
   "metadata": {},
   "outputs": [
    {
     "name": "stdout",
     "output_type": "stream",
     "text": [
      "5\n",
      "a 5\n"
     ]
    },
    {
     "ename": "NameError",
     "evalue": "name 'a' is not defined",
     "output_type": "error",
     "traceback": [
      "\u001b[1;31m---------------------------------------------------------------------------\u001b[0m",
      "\u001b[1;31mNameError\u001b[0m                                 Traceback (most recent call last)",
      "Input \u001b[1;32mIn [3]\u001b[0m, in \u001b[0;36m<cell line: 4>\u001b[1;34m()\u001b[0m\n\u001b[0;32m      1\u001b[0m \u001b[38;5;66;03m#if else\u001b[39;00m\n\u001b[0;32m      3\u001b[0m \u001b[38;5;28mprint\u001b[39m(\u001b[38;5;124m\"\u001b[39m\u001b[38;5;124ma\u001b[39m\u001b[38;5;124m\"\u001b[39m,\u001b[38;5;28mint\u001b[39m(\u001b[38;5;28minput\u001b[39m()))\n\u001b[1;32m----> 4\u001b[0m \u001b[38;5;28;01mif\u001b[39;00m \u001b[43ma\u001b[49m\u001b[38;5;241m>\u001b[39m\u001b[38;5;241m=\u001b[39m\u001b[38;5;241m1\u001b[39m \u001b[38;5;129;01mor\u001b[39;00m a\u001b[38;5;241m<\u001b[39m\u001b[38;5;241m=\u001b[39m\u001b[38;5;241m10\u001b[39m:\n\u001b[0;32m      5\u001b[0m     \u001b[38;5;28mprint\u001b[39m(\u001b[38;5;124m\"\u001b[39m\u001b[38;5;124mcat1\u001b[39m\u001b[38;5;124m\"\u001b[39m)\n\u001b[0;32m      6\u001b[0m     call_fun(x\u001b[38;5;241m=\u001b[39m\u001b[38;5;241m5\u001b[39m,y\u001b[38;5;241m=\u001b[39m\u001b[38;5;241m1\u001b[39m)\n",
      "\u001b[1;31mNameError\u001b[0m: name 'a' is not defined"
     ]
    }
   ],
   "source": [
    "#if else\n",
    "\n",
    "print(\"a\",int(input()))\n",
    "if a>=1 or a<=10:\n",
    "    print(\"cat1\")\n",
    "    call_fun(x=5,y=1)\n",
    "elif a>=11 or a<=20:\n",
    "    print(\"cat2\")\n",
    "elif a>=21 or a<=30:\n",
    "    print(\"cat3\")\n",
    "else:\n",
    "    print(\"cat4\")\n",
    "\n",
    "    \n",
    "def call_fun(x,y):\n",
    "    return x+y\n",
    "    \n"
   ]
  },
  {
   "cell_type": "code",
   "execution_count": 28,
   "id": "aadd50fb",
   "metadata": {},
   "outputs": [
    {
     "name": "stdout",
     "output_type": "stream",
     "text": [
      "[1, 4, 9, 16]\n"
     ]
    }
   ],
   "source": [
    "x=[1,2,3,4]\n",
    "out=[]\n",
    "for num in x:\n",
    "    out.append(num**2)\n",
    "print(out)"
   ]
  },
  {
   "cell_type": "code",
   "execution_count": 31,
   "id": "3436addd",
   "metadata": {},
   "outputs": [
    {
     "data": {
      "text/plain": [
       "[1, 4, 9, 16]"
      ]
     },
     "execution_count": 31,
     "metadata": {},
     "output_type": "execute_result"
    }
   ],
   "source": [
    "x=[1,2,3,4]\n",
    "[num**2 for num in x]"
   ]
  },
  {
   "cell_type": "code",
   "execution_count": 75,
   "id": "bce88aba",
   "metadata": {
    "scrolled": true
   },
   "outputs": [
    {
     "name": "stdout",
     "output_type": "stream",
     "text": [
      "     Name  Age    Address Qualification\n",
      "0     Jai   27      Delhi           Msc\n",
      "1  Princi   24     Kanpur            MA\n",
      "2  Gaurav   22  Allahabad           MCA\n",
      "3    Anuj   32    Kannauj           Phd\n",
      "     Name Qualification\n",
      "0     Jai           Msc\n",
      "1  Princi            MA\n",
      "2  Gaurav           MCA\n",
      "3    Anuj           Phd\n"
     ]
    }
   ],
   "source": [
    "# Import pandas package\n",
    "import pandas as pd\n",
    " \n",
    "# Define a dictionary containing employee data\n",
    "data = {'Name':['Jai', 'Princi', 'Gaurav', 'Anuj'],\n",
    "        'Age':[27, 24, 22, 32],\n",
    "        'Address':['Delhi', 'Kanpur', 'Allahabad', 'Kannauj'],\n",
    "        'Qualification':['Msc', 'MA', 'MCA', 'Phd']}\n",
    " \n",
    "# Convert the dictionary into DataFrame \n",
    "df = pd.DataFrame(data)\n",
    "print(df) \n",
    "# select two columns\n",
    "print(df[['Name', 'Qualification']])"
   ]
  },
  {
   "cell_type": "code",
   "execution_count": 2,
   "id": "74404e36",
   "metadata": {},
   "outputs": [
    {
     "name": "stdout",
     "output_type": "stream",
     "text": [
      "Team        Boston Celtics\n",
      "Number                 0.0\n",
      "Position                PG\n",
      "Age                   25.0\n",
      "Height                 6-2\n",
      "Weight               180.0\n",
      "College              Texas\n",
      "Salary           7730337.0\n",
      "Name: Avery Bradley, dtype: object \n",
      "\n",
      "\n",
      " Team        Boston Celtics\n",
      "Number                28.0\n",
      "Position                SG\n",
      "Age                   22.0\n",
      "Height                 6-5\n",
      "Weight               185.0\n",
      "College      Georgia State\n",
      "Salary           1148640.0\n",
      "Name: R.J. Hunter, dtype: object\n"
     ]
    }
   ],
   "source": [
    "# importing pandas package\n",
    "import pandas as pd\n",
    " \n",
    "# making data frame from csv file\n",
    "data = pd.read_csv(r\"D:\\Data Science with Python\\Learn\\nba.csv\", index_col =\"Name\")\n",
    " \n",
    "# retrieving row by loc method\n",
    "first = data.loc[\"Avery Bradley\"]\n",
    "second = data.loc[\"R.J. Hunter\"]\n",
    " \n",
    " \n",
    "print(first, \"\\n\\n\\n\", second)"
   ]
  },
  {
   "cell_type": "code",
   "execution_count": 78,
   "id": "819d49da",
   "metadata": {},
   "outputs": [
    {
     "name": "stdout",
     "output_type": "stream",
     "text": [
      "Name\n",
      "Avery Bradley    25.0\n",
      "Jae Crowder      25.0\n",
      "John Holland     27.0\n",
      "R.J. Hunter      22.0\n",
      "Jonas Jerebko    29.0\n",
      "                 ... \n",
      "Shelvin Mack     26.0\n",
      "Raul Neto        24.0\n",
      "Tibor Pleiss     26.0\n",
      "Jeff Withey      26.0\n",
      "NaN               NaN\n",
      "Name: Age, Length: 458, dtype: float64\n"
     ]
    }
   ],
   "source": [
    "# importing pandas package\n",
    "import pandas as pd\n",
    " \n",
    "# making data frame from csv file\n",
    "data = pd.read_csv(\"nba.csv\", index_col =\"Name\")\n",
    " \n",
    "# retrieving columns by indexing operator\n",
    "first = data[\"Age\"]\n",
    " \n",
    " \n",
    " \n",
    "print(first)"
   ]
  },
  {
   "cell_type": "code",
   "execution_count": 82,
   "id": "51184ddb",
   "metadata": {},
   "outputs": [
    {
     "name": "stdout",
     "output_type": "stream",
     "text": [
      "Team        Boston Celtics\n",
      "Number                 0.0\n",
      "Position                PG\n",
      "Age                   25.0\n",
      "Height                 6-2\n",
      "Weight               180.0\n",
      "College              Texas\n",
      "Salary           7730337.0\n",
      "Name: Avery Bradley, dtype: object \n",
      "\n",
      "\n",
      " Team        Boston Celtics\n",
      "Number                28.0\n",
      "Position                SG\n",
      "Age                   22.0\n",
      "Height                 6-5\n",
      "Weight               185.0\n",
      "College      Georgia State\n",
      "Salary           1148640.0\n",
      "Name: R.J. Hunter, dtype: object\n"
     ]
    }
   ],
   "source": [
    "# importing pandas package\n",
    "import pandas as pd\n",
    " \n",
    "# making data frame from csv file\n",
    "data = pd.read_csv(\"nba.csv\", index_col =\"Name\")\n",
    " \n",
    "# retrieving row by loc method\n",
    "first = data.loc[\"Avery Bradley\"]\n",
    "second = data.loc[\"R.J. Hunter\"]\n",
    " \n",
    " \n",
    "print(first, \"\\n\\n\\n\", second)"
   ]
  },
  {
   "cell_type": "code",
   "execution_count": 84,
   "id": "b2b22556",
   "metadata": {},
   "outputs": [
    {
     "name": "stdout",
     "output_type": "stream",
     "text": [
      "Team        Boston Celtics\n",
      "Number                28.0\n",
      "Position                SG\n",
      "Age                   22.0\n",
      "Height                 6-5\n",
      "Weight               185.0\n",
      "College      Georgia State\n",
      "Salary           1148640.0\n",
      "Name: R.J. Hunter, dtype: object\n",
      "Team        Boston Celtics\n",
      "Number                28.0\n",
      "Position                SG\n",
      "Age                   22.0\n",
      "Height                 6-5\n",
      "Weight               185.0\n",
      "College      Georgia State\n",
      "Salary           1148640.0\n",
      "Name: R.J. Hunter, dtype: object\n"
     ]
    }
   ],
   "source": [
    "import pandas as pd\n",
    " \n",
    "# making data frame from csv file\n",
    "data = pd.read_csv(\"nba.csv\", index_col =\"Name\")\n",
    " \n",
    " \n",
    "# retrieving rows by iloc method \n",
    "row2 = data.iloc[3] \n",
    "row3 = data.loc['R.J. Hunter'] \n",
    " \n",
    " \n",
    "print(row2)\n",
    "print(row3)"
   ]
  },
  {
   "cell_type": "code",
   "execution_count": 85,
   "id": "8a39d984",
   "metadata": {},
   "outputs": [
    {
     "data": {
      "text/html": [
       "<div>\n",
       "<style scoped>\n",
       "    .dataframe tbody tr th:only-of-type {\n",
       "        vertical-align: middle;\n",
       "    }\n",
       "\n",
       "    .dataframe tbody tr th {\n",
       "        vertical-align: top;\n",
       "    }\n",
       "\n",
       "    .dataframe thead th {\n",
       "        text-align: right;\n",
       "    }\n",
       "</style>\n",
       "<table border=\"1\" class=\"dataframe\">\n",
       "  <thead>\n",
       "    <tr style=\"text-align: right;\">\n",
       "      <th></th>\n",
       "      <th>First Score</th>\n",
       "      <th>Second Score</th>\n",
       "      <th>Third Score</th>\n",
       "    </tr>\n",
       "  </thead>\n",
       "  <tbody>\n",
       "    <tr>\n",
       "      <th>0</th>\n",
       "      <td>False</td>\n",
       "      <td>False</td>\n",
       "      <td>True</td>\n",
       "    </tr>\n",
       "    <tr>\n",
       "      <th>1</th>\n",
       "      <td>False</td>\n",
       "      <td>False</td>\n",
       "      <td>False</td>\n",
       "    </tr>\n",
       "    <tr>\n",
       "      <th>2</th>\n",
       "      <td>True</td>\n",
       "      <td>False</td>\n",
       "      <td>False</td>\n",
       "    </tr>\n",
       "    <tr>\n",
       "      <th>3</th>\n",
       "      <td>False</td>\n",
       "      <td>True</td>\n",
       "      <td>False</td>\n",
       "    </tr>\n",
       "  </tbody>\n",
       "</table>\n",
       "</div>"
      ],
      "text/plain": [
       "   First Score  Second Score  Third Score\n",
       "0        False         False         True\n",
       "1        False         False        False\n",
       "2         True         False        False\n",
       "3        False          True        False"
      ]
     },
     "execution_count": 85,
     "metadata": {},
     "output_type": "execute_result"
    }
   ],
   "source": [
    "# importing pandas as pd\n",
    "import pandas as pd\n",
    " \n",
    "# importing numpy as np\n",
    "import numpy as np\n",
    " \n",
    "# dictionary of lists\n",
    "dict = {'First Score':[100, 90, np.nan, 95],\n",
    "        'Second Score': [30, 45, 56, np.nan],\n",
    "        'Third Score':[np.nan, 40, 80, 98]}\n",
    " \n",
    "# creating a dataframe from list\n",
    "df = pd.DataFrame(dict)\n",
    " \n",
    "# using isnull() function  \n",
    "df.isnull()"
   ]
  },
  {
   "cell_type": "code",
   "execution_count": 86,
   "id": "e86d23d3",
   "metadata": {},
   "outputs": [
    {
     "name": "stdout",
     "output_type": "stream",
     "text": [
      "     Name  Age\n",
      "0     Jai   27\n",
      "1    Anuj   24\n",
      "2     Jai   22\n",
      "3  Princi   32\n",
      "4  Gaurav   33\n",
      "5    Anuj   36\n",
      "6  Princi   27\n",
      "7    Abhi   32\n"
     ]
    }
   ],
   "source": [
    "# importing pandas module\n",
    "import pandas as pd\n",
    "\n",
    "# Define a dictionary containing employee data\n",
    "data1 = {'Name':['Jai', 'Anuj', 'Jai', 'Princi',\n",
    "\t\t\t\t'Gaurav', 'Anuj', 'Princi', 'Abhi'],\n",
    "\t\t'Age':[27, 24, 22, 32,\n",
    "\t\t\t33, 36, 27, 32], }\n",
    "\t\n",
    "\n",
    "# Convert the dictionary into DataFrame\n",
    "df = pd.DataFrame(data1)\n",
    "\n",
    "print(df)\n"
   ]
  },
  {
   "cell_type": "code",
   "execution_count": 91,
   "id": "8eacedb6",
   "metadata": {},
   "outputs": [
    {
     "data": {
      "text/html": [
       "<div>\n",
       "<style scoped>\n",
       "    .dataframe tbody tr th:only-of-type {\n",
       "        vertical-align: middle;\n",
       "    }\n",
       "\n",
       "    .dataframe tbody tr th {\n",
       "        vertical-align: top;\n",
       "    }\n",
       "\n",
       "    .dataframe thead th {\n",
       "        text-align: right;\n",
       "    }\n",
       "</style>\n",
       "<table border=\"1\" class=\"dataframe\">\n",
       "  <thead>\n",
       "    <tr style=\"text-align: right;\">\n",
       "      <th></th>\n",
       "      <th>Age</th>\n",
       "    </tr>\n",
       "    <tr>\n",
       "      <th>Name</th>\n",
       "      <th></th>\n",
       "    </tr>\n",
       "  </thead>\n",
       "  <tbody>\n",
       "    <tr>\n",
       "      <th>Jai</th>\n",
       "      <td>49</td>\n",
       "    </tr>\n",
       "    <tr>\n",
       "      <th>Anuj</th>\n",
       "      <td>60</td>\n",
       "    </tr>\n",
       "    <tr>\n",
       "      <th>Princi</th>\n",
       "      <td>59</td>\n",
       "    </tr>\n",
       "    <tr>\n",
       "      <th>Gaurav</th>\n",
       "      <td>33</td>\n",
       "    </tr>\n",
       "    <tr>\n",
       "      <th>Abhi</th>\n",
       "      <td>32</td>\n",
       "    </tr>\n",
       "  </tbody>\n",
       "</table>\n",
       "</div>"
      ],
      "text/plain": [
       "        Age\n",
       "Name       \n",
       "Jai      49\n",
       "Anuj     60\n",
       "Princi   59\n",
       "Gaurav   33\n",
       "Abhi     32"
      ]
     },
     "execution_count": 91,
     "metadata": {},
     "output_type": "execute_result"
    }
   ],
   "source": [
    "df.groupby(['Name']).sum()\n",
    "#df.groupby(['Name'],sort=False).sum()"
   ]
  },
  {
   "cell_type": "code",
   "execution_count": 2,
   "id": "b38b19b0",
   "metadata": {},
   "outputs": [
    {
     "ename": "ModuleNotFoundError",
     "evalue": "No module named 'django'",
     "output_type": "error",
     "traceback": [
      "\u001b[1;31m---------------------------------------------------------------------------\u001b[0m",
      "\u001b[1;31mModuleNotFoundError\u001b[0m                       Traceback (most recent call last)",
      "\u001b[1;32me:\\Data Science with Python\\Learn\\Learn1.ipynb Cell 23\u001b[0m in \u001b[0;36m<cell line: 1>\u001b[1;34m()\u001b[0m\n\u001b[1;32m----> <a href='vscode-notebook-cell:/e%3A/Data%20Science%20with%20Python/Learn/Learn1.ipynb#X31sZmlsZQ%3D%3D?line=0'>1</a>\u001b[0m \u001b[39mfrom\u001b[39;00m \u001b[39mdjango\u001b[39;00m\u001b[39m.\u001b[39;00m\u001b[39mconf\u001b[39;00m \u001b[39mimport\u001b[39;00m settings  \n\u001b[0;32m      <a href='vscode-notebook-cell:/e%3A/Data%20Science%20with%20Python/Learn/Learn1.ipynb#X31sZmlsZQ%3D%3D?line=1'>2</a>\u001b[0m \u001b[39mfrom\u001b[39;00m \u001b[39mdjango\u001b[39;00m\u001b[39m.\u001b[39;00m\u001b[39mcore\u001b[39;00m\u001b[39m.\u001b[39;00m\u001b[39mhandlers\u001b[39;00m\u001b[39m.\u001b[39;00m\u001b[39mwsgi\u001b[39;00m \u001b[39mimport\u001b[39;00m WSGIHandler  \n\u001b[0;32m      <a href='vscode-notebook-cell:/e%3A/Data%20Science%20with%20Python/Learn/Learn1.ipynb#X31sZmlsZQ%3D%3D?line=2'>3</a>\u001b[0m \u001b[39mfrom\u001b[39;00m \u001b[39mdjango\u001b[39;00m\u001b[39m.\u001b[39;00m\u001b[39mcore\u001b[39;00m\u001b[39m.\u001b[39;00m\u001b[39mmanagement\u001b[39;00m \u001b[39mimport\u001b[39;00m execute_from_command_line  \n",
      "\u001b[1;31mModuleNotFoundError\u001b[0m: No module named 'django'"
     ]
    }
   ],
   "source": [
    "from django.conf import settings  \n",
    "from django.core.handlers.wsgi import WSGIHandler  \n",
    "from django.core.management import execute_from_command_line  \n",
    "from django.http import HttpResponse  \n",
    "from django.urls import path  \n",
    "  \n",
    "settings.configure(  \n",
    "    ROOT_URLCONF=__name__,  \n",
    "    DEBUG=True,  \n",
    ")  \n",
    "  \n",
    "def hello_world(request):  \n",
    "    return HttpResponse(\"Hello, Django!\")  \n",
    "  \n",
    "urlpatterns = [  \n",
    "    path('', hello_world)  \n",
    "]  \n",
    "  \n",
    "application = WSGIHandler()  \n",
    "  \n",
    "if __name__ == \"__main__\":  \n",
    "    execute_from_command_line()  "
   ]
  },
  {
   "cell_type": "code",
   "execution_count": null,
   "id": "79834a14",
   "metadata": {},
   "outputs": [],
   "source": []
  }
 ],
 "metadata": {
  "kernelspec": {
   "display_name": "Python 3.10.5 64-bit",
   "language": "python",
   "name": "python3"
  },
  "language_info": {
   "codemirror_mode": {
    "name": "ipython",
    "version": 3
   },
   "file_extension": ".py",
   "mimetype": "text/x-python",
   "name": "python",
   "nbconvert_exporter": "python",
   "pygments_lexer": "ipython3",
   "version": "3.10.5"
  },
  "vscode": {
   "interpreter": {
    "hash": "24181e1f4b3fbb65c8b8d43d3366811a52a613b07fd2d4e402da17ac74ca10f2"
   }
  }
 },
 "nbformat": 4,
 "nbformat_minor": 5
}
