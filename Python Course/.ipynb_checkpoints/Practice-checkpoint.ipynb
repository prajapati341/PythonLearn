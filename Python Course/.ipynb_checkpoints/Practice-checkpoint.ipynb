{
 "cells": [
  {
   "cell_type": "code",
   "execution_count": 3,
   "id": "ddf01997-2acd-4ad0-99d6-4b574086aca2",
   "metadata": {},
   "outputs": [
    {
     "name": "stdout",
     "output_type": "stream",
     "text": [
      "['apple', 'mango', 'orange']\n"
     ]
    }
   ],
   "source": [
    "a=['apple','mango','orange']\n",
    "print(a)"
   ]
  },
  {
   "cell_type": "code",
   "execution_count": 4,
   "id": "df2d6033-49bd-453e-863b-59bf7feaff92",
   "metadata": {
    "jupyter": {
     "source_hidden": true
    },
    "tags": []
   },
   "outputs": [],
   "source": [
    "a=['apple','mango','orange']\n",
    "temp=[]\n",
    "\n",
    "for x in a:\n",
    "    temp.append(x)"
   ]
  },
  {
   "cell_type": "code",
   "execution_count": 5,
   "id": "cf043012-3dc7-4171-905c-21b548a71ee3",
   "metadata": {
    "tags": []
   },
   "outputs": [
    {
     "data": {
      "text/html": [
       "<div>\n",
       "<style scoped>\n",
       "    .dataframe tbody tr th:only-of-type {\n",
       "        vertical-align: middle;\n",
       "    }\n",
       "\n",
       "    .dataframe tbody tr th {\n",
       "        vertical-align: top;\n",
       "    }\n",
       "\n",
       "    .dataframe thead th {\n",
       "        text-align: right;\n",
       "    }\n",
       "</style>\n",
       "<table border=\"1\" class=\"dataframe\">\n",
       "  <thead>\n",
       "    <tr style=\"text-align: right;\">\n",
       "      <th></th>\n",
       "      <th>a</th>\n",
       "      <th>b</th>\n",
       "      <th>c</th>\n",
       "    </tr>\n",
       "  </thead>\n",
       "  <tbody>\n",
       "    <tr>\n",
       "      <th>1</th>\n",
       "      <td>1</td>\n",
       "      <td>5</td>\n",
       "      <td>mango</td>\n",
       "    </tr>\n",
       "    <tr>\n",
       "      <th>2</th>\n",
       "      <td>2</td>\n",
       "      <td>6</td>\n",
       "      <td>mango</td>\n",
       "    </tr>\n",
       "    <tr>\n",
       "      <th>3</th>\n",
       "      <td>3</td>\n",
       "      <td>7</td>\n",
       "      <td>graphes</td>\n",
       "    </tr>\n",
       "    <tr>\n",
       "      <th>4</th>\n",
       "      <td>4</td>\n",
       "      <td>8</td>\n",
       "      <td>apple</td>\n",
       "    </tr>\n",
       "  </tbody>\n",
       "</table>\n",
       "</div>"
      ],
      "text/plain": [
       "   a  b        c\n",
       "1  1  5    mango\n",
       "2  2  6    mango\n",
       "3  3  7  graphes\n",
       "4  4  8    apple"
      ]
     },
     "execution_count": 5,
     "metadata": {},
     "output_type": "execute_result"
    }
   ],
   "source": [
    "import pandas as pd\n",
    "df=pd.DataFrame({'a':[1,2,3,4],'b':[5,6,7,8],'c':['mango','mango','graphes','apple']},index=[1,2,3,4])\n",
    "df"
   ]
  },
  {
   "cell_type": "code",
   "execution_count": 6,
   "id": "40578bd0-60e8-4c22-8003-db5dce14d16b",
   "metadata": {},
   "outputs": [
    {
     "data": {
      "text/html": [
       "<div>\n",
       "<style scoped>\n",
       "    .dataframe tbody tr th:only-of-type {\n",
       "        vertical-align: middle;\n",
       "    }\n",
       "\n",
       "    .dataframe tbody tr th {\n",
       "        vertical-align: top;\n",
       "    }\n",
       "\n",
       "    .dataframe thead th {\n",
       "        text-align: right;\n",
       "    }\n",
       "</style>\n",
       "<table border=\"1\" class=\"dataframe\">\n",
       "  <thead>\n",
       "    <tr style=\"text-align: right;\">\n",
       "      <th></th>\n",
       "      <th>a</th>\n",
       "      <th>b</th>\n",
       "      <th>c</th>\n",
       "    </tr>\n",
       "  </thead>\n",
       "  <tbody>\n",
       "    <tr>\n",
       "      <th>0</th>\n",
       "      <td>1</td>\n",
       "      <td>5</td>\n",
       "      <td>mango</td>\n",
       "    </tr>\n",
       "    <tr>\n",
       "      <th>1</th>\n",
       "      <td>2</td>\n",
       "      <td>6</td>\n",
       "      <td>mango</td>\n",
       "    </tr>\n",
       "    <tr>\n",
       "      <th>2</th>\n",
       "      <td>3</td>\n",
       "      <td>7</td>\n",
       "      <td>graphes</td>\n",
       "    </tr>\n",
       "    <tr>\n",
       "      <th>3</th>\n",
       "      <td>4</td>\n",
       "      <td>8</td>\n",
       "      <td>apple</td>\n",
       "    </tr>\n",
       "  </tbody>\n",
       "</table>\n",
       "</div>"
      ],
      "text/plain": [
       "   a  b        c\n",
       "0  1  5    mango\n",
       "1  2  6    mango\n",
       "2  3  7  graphes\n",
       "3  4  8    apple"
      ]
     },
     "execution_count": 6,
     "metadata": {},
     "output_type": "execute_result"
    }
   ],
   "source": [
    "df.reset_index(drop=True)"
   ]
  },
  {
   "cell_type": "code",
   "execution_count": 7,
   "id": "b39ed4f9-b85b-45e5-bee3-227725b24aed",
   "metadata": {},
   "outputs": [],
   "source": [
    "#df2=df.groupby(\"c\").aggregate({\"a\":['count','sum']})\n",
    "df2=df.groupby(\"c\").aggregate({\"a\":['count'],\"b\":['sum']})\n",
    "#df2.rename(columns={'count':'no of count','sum': 'total'},inplace=True)"
   ]
  },
  {
   "cell_type": "code",
   "execution_count": 8,
   "id": "24ea7805-5015-43e2-b260-8fa797631325",
   "metadata": {},
   "outputs": [],
   "source": [
    "#df2.columns=df2.columns.droplevel(0)"
   ]
  },
  {
   "cell_type": "code",
   "execution_count": 9,
   "id": "5371be12-c008-4f00-a9b2-a4afe149af53",
   "metadata": {},
   "outputs": [
    {
     "data": {
      "text/html": [
       "<div>\n",
       "<style scoped>\n",
       "    .dataframe tbody tr th:only-of-type {\n",
       "        vertical-align: middle;\n",
       "    }\n",
       "\n",
       "    .dataframe tbody tr th {\n",
       "        vertical-align: top;\n",
       "    }\n",
       "\n",
       "    .dataframe thead th {\n",
       "        text-align: right;\n",
       "    }\n",
       "</style>\n",
       "<table border=\"1\" class=\"dataframe\">\n",
       "  <thead>\n",
       "    <tr style=\"text-align: right;\">\n",
       "      <th></th>\n",
       "      <th>a</th>\n",
       "      <th>b</th>\n",
       "    </tr>\n",
       "    <tr>\n",
       "      <th>c</th>\n",
       "      <th></th>\n",
       "      <th></th>\n",
       "    </tr>\n",
       "  </thead>\n",
       "  <tbody>\n",
       "    <tr>\n",
       "      <th>apple</th>\n",
       "      <td>1</td>\n",
       "      <td>8</td>\n",
       "    </tr>\n",
       "    <tr>\n",
       "      <th>graphes</th>\n",
       "      <td>1</td>\n",
       "      <td>7</td>\n",
       "    </tr>\n",
       "    <tr>\n",
       "      <th>mango</th>\n",
       "      <td>2</td>\n",
       "      <td>11</td>\n",
       "    </tr>\n",
       "  </tbody>\n",
       "</table>\n",
       "</div>"
      ],
      "text/plain": [
       "         a   b\n",
       "c             \n",
       "apple    1   8\n",
       "graphes  1   7\n",
       "mango    2  11"
      ]
     },
     "execution_count": 9,
     "metadata": {},
     "output_type": "execute_result"
    }
   ],
   "source": [
    "df2.columns=df2.columns.get_level_values(0)\n",
    "df2"
   ]
  },
  {
   "cell_type": "code",
   "execution_count": 1,
   "id": "9cbc0a14-54ae-42f8-b2b0-be33fab37306",
   "metadata": {},
   "outputs": [],
   "source": [
    "import pandas as pd\n",
    " \n",
    "# Creating an array of names\n",
    "arrays = ['Sohom','Suresh','kumkum','subrata']\n",
    " \n",
    "# Creating an array of ages\n",
    "age= [10, 11, 12, 13]\n",
    " \n",
    "# Creating an array of marks\n",
    "marks=[90,92,23,64]\n",
    "\n",
    "df=pd.MultiIndex.from_arrays([arrays,age,marks], names=('names', 'age','marks')).to_frame()\n"
   ]
  },
  {
   "cell_type": "code",
   "execution_count": 2,
   "id": "0d60ae61-b767-4c66-be4c-b749b374d308",
   "metadata": {},
   "outputs": [
    {
     "data": {
      "text/plain": [
       "Index(['names', 'age', 'marks'], dtype='object')"
      ]
     },
     "execution_count": 2,
     "metadata": {},
     "output_type": "execute_result"
    }
   ],
   "source": [
    "df.columns"
   ]
  },
  {
   "cell_type": "code",
   "execution_count": 12,
   "id": "0bb09ba1-e1f8-4b5e-a005-7eb0c9bbd1fd",
   "metadata": {},
   "outputs": [
    {
     "data": {
      "text/html": [
       "<div>\n",
       "<style scoped>\n",
       "    .dataframe tbody tr th:only-of-type {\n",
       "        vertical-align: middle;\n",
       "    }\n",
       "\n",
       "    .dataframe tbody tr th {\n",
       "        vertical-align: top;\n",
       "    }\n",
       "\n",
       "    .dataframe thead th {\n",
       "        text-align: right;\n",
       "    }\n",
       "</style>\n",
       "<table border=\"1\" class=\"dataframe\">\n",
       "  <thead>\n",
       "    <tr style=\"text-align: right;\">\n",
       "      <th></th>\n",
       "      <th></th>\n",
       "      <th></th>\n",
       "      <th>names</th>\n",
       "      <th>age</th>\n",
       "      <th>marks</th>\n",
       "    </tr>\n",
       "    <tr>\n",
       "      <th>names</th>\n",
       "      <th>age</th>\n",
       "      <th>marks</th>\n",
       "      <th></th>\n",
       "      <th></th>\n",
       "      <th></th>\n",
       "    </tr>\n",
       "  </thead>\n",
       "  <tbody>\n",
       "    <tr>\n",
       "      <th>Sohom</th>\n",
       "      <th>10</th>\n",
       "      <th>90</th>\n",
       "      <td>Sohom</td>\n",
       "      <td>10</td>\n",
       "      <td>90</td>\n",
       "    </tr>\n",
       "    <tr>\n",
       "      <th>Suresh</th>\n",
       "      <th>11</th>\n",
       "      <th>92</th>\n",
       "      <td>Suresh</td>\n",
       "      <td>11</td>\n",
       "      <td>92</td>\n",
       "    </tr>\n",
       "    <tr>\n",
       "      <th>kumkum</th>\n",
       "      <th>12</th>\n",
       "      <th>23</th>\n",
       "      <td>kumkum</td>\n",
       "      <td>12</td>\n",
       "      <td>23</td>\n",
       "    </tr>\n",
       "    <tr>\n",
       "      <th>subrata</th>\n",
       "      <th>13</th>\n",
       "      <th>64</th>\n",
       "      <td>subrata</td>\n",
       "      <td>13</td>\n",
       "      <td>64</td>\n",
       "    </tr>\n",
       "  </tbody>\n",
       "</table>\n",
       "</div>"
      ],
      "text/plain": [
       "                     names  age  marks\n",
       "names   age marks                     \n",
       "Sohom   10  90       Sohom   10     90\n",
       "Suresh  11  92      Suresh   11     92\n",
       "kumkum  12  23      kumkum   12     23\n",
       "subrata 13  64     subrata   13     64"
      ]
     },
     "execution_count": 12,
     "metadata": {},
     "output_type": "execute_result"
    }
   ],
   "source": [
    "df"
   ]
  },
  {
   "cell_type": "code",
   "execution_count": 3,
   "id": "64077d1b-b353-40cd-a02c-bb778ae291f1",
   "metadata": {},
   "outputs": [
    {
     "data": {
      "text/plain": [
       "MultiIndex([(  'Sohom', 10, 90),\n",
       "            ( 'Suresh', 11, 92),\n",
       "            ( 'kumkum', 12, 23),\n",
       "            ('subrata', 13, 64)],\n",
       "           names=['names', 'age', 'marks'])"
      ]
     },
     "execution_count": 3,
     "metadata": {},
     "output_type": "execute_result"
    }
   ],
   "source": [
    "df.index"
   ]
  },
  {
   "cell_type": "code",
   "execution_count": 4,
   "id": "e79cbdd4-46e4-4a3a-ad57-1e72b5921215",
   "metadata": {},
   "outputs": [
    {
     "ename": "SyntaxError",
     "evalue": "invalid syntax (3058214060.py, line 3)",
     "output_type": "error",
     "traceback": [
      "\u001b[1;36m  Input \u001b[1;32mIn [4]\u001b[1;36m\u001b[0m\n\u001b[1;33m    x=return lambda a,b:\u001b[0m\n\u001b[1;37m      ^\u001b[0m\n\u001b[1;31mSyntaxError\u001b[0m\u001b[1;31m:\u001b[0m invalid syntax\n"
     ]
    }
   ],
   "source": [
    "b=[90,92,23,64]\n",
    "\n",
    "x=return lambda a,b:\n",
    "\n",
    "print(x(1,2))"
   ]
  },
  {
   "cell_type": "code",
   "execution_count": null,
   "id": "aee2634e-014a-4b49-93cd-f54e2d94c08b",
   "metadata": {},
   "outputs": [],
   "source": [
    "# numbers = 'one', 'two', 'three'\n",
    "# funcs = []\n",
    "# for n in numbers:\n",
    "#     funcs.append(lambda n=n: print(n))\n",
    "\n",
    "for f in funcs:\n",
    "    f()"
   ]
  },
  {
   "cell_type": "code",
   "execution_count": null,
   "id": "9898c633-19c5-48c1-812c-cabae5f6fd87",
   "metadata": {},
   "outputs": [],
   "source": [
    "b=[90,92,23,64]\n",
    "\n",
    "temp=[]\n",
    "\n",
    "print(\"\\n\".join(str(i) for i in b))"
   ]
  },
  {
   "cell_type": "code",
   "execution_count": null,
   "id": "7e273be4-08a1-480c-aa23-3fd6a11fd5fd",
   "metadata": {},
   "outputs": [],
   "source": [
    "temp"
   ]
  },
  {
   "cell_type": "code",
   "execution_count": null,
   "id": "8c4ff49d-e3e2-4bf3-a64b-9bcb4d19ee4a",
   "metadata": {},
   "outputs": [],
   "source": [
    "a1=\"hello\"\n",
    "a2=\"world\"\n",
    "print(a2.join(a1))"
   ]
  },
  {
   "cell_type": "code",
   "execution_count": null,
   "id": "4b475ab7-6417-4f13-9eec-5d65f960bde5",
   "metadata": {},
   "outputs": [],
   "source": [
    "for i in \"hello\":\n",
    "    print(list[i])\n",
    "    "
   ]
  },
  {
   "cell_type": "code",
   "execution_count": null,
   "id": "10e47fb3-20f9-41b8-8579-ed801a3cf622",
   "metadata": {},
   "outputs": [],
   "source": [
    "def hello(a,b):\n",
    "    print(\"Hello world\",a+b)\n",
    "    return a*b\n",
    "\n",
    "hello(1,4)\n",
    "\n",
    "print(hello(5,5))\n"
   ]
  },
  {
   "cell_type": "code",
   "execution_count": null,
   "id": "a4ff61c8-5a7d-4568-b4b8-baea5ead0bac",
   "metadata": {},
   "outputs": [],
   "source": [
    "try:\n",
    "    def my_function(*kids):\n",
    "      print(\"The youngest child is \" + kids[2])\n",
    "except:    \n",
    "    print(\"An exception occurred\")\n",
    "finally:    \n",
    "    print(\"An exception occurred2\")\n",
    "    \n",
    "my_function(\"Emil\", \"Tobias\",\"Sanjay\")\n"
   ]
  },
  {
   "cell_type": "code",
   "execution_count": null,
   "id": "8fb1f6d2-1559-4960-a762-d808cbeafcc9",
   "metadata": {},
   "outputs": [],
   "source": [
    "x=\"some kind of a useless lambda\"\n",
    "(lambda x : print(x))(x)"
   ]
  },
  {
   "cell_type": "code",
   "execution_count": null,
   "id": "b2d9c5a0-47e7-46c4-973d-19d1cda9b096",
   "metadata": {},
   "outputs": [],
   "source": [
    "sequences = [10,2,8,7,5,4,3,11,0, 1]\n",
    "filtered_result = filter (lambda x: x > 4, sequences) \n",
    "print(list(filtered_result))"
   ]
  },
  {
   "cell_type": "code",
   "execution_count": null,
   "id": "07100bdc-0f24-481e-b87f-a547d191c159",
   "metadata": {},
   "outputs": [],
   "source": [
    "\n",
    "# a list contains both even and odd numbers. \n",
    "seq = [0, 1, 2, 3, 5, 8, 13]\n",
    "  \n",
    "# result contains odd numbers of the list\n",
    "result = filter(lambda x: x , seq)\n",
    "print(list(result))\n",
    "  \n",
    "# result contains even numbers of the list\n",
    "result = filter(lambda x: x % 2 == 0, seq)\n",
    "print(list(result))"
   ]
  },
  {
   "cell_type": "code",
   "execution_count": 5,
   "id": "b8d5464c-5b25-4941-9f57-a462af58d1a5",
   "metadata": {},
   "outputs": [
    {
     "name": "stdout",
     "output_type": "stream",
     "text": [
      "[18, 24, 32]\n"
     ]
    }
   ],
   "source": [
    "ages = [5, 12, 17, 18, 24, 32]\n",
    "\n",
    "def myFunc(x):\n",
    "  if x < 18:\n",
    "    return False\n",
    "  else:\n",
    "    return True\n",
    "\n",
    "adults = filter(myFunc, ages)\n",
    "print(list(adults))"
   ]
  },
  {
   "cell_type": "code",
   "execution_count": null,
   "id": "341b373c-da2a-4f71-80fb-931b03f1f933",
   "metadata": {},
   "outputs": [],
   "source": [
    "def myfunc(n):\n",
    "  return len(n)\n",
    "\n",
    "x = map(myfunc, ('apple', 'banana', 'cherry'))\n",
    "\n",
    "print(x)\n",
    "print(list(x))"
   ]
  },
  {
   "cell_type": "code",
   "execution_count": 16,
   "id": "ad298f48-1ab9-49a7-bde0-199c6da7a1aa",
   "metadata": {},
   "outputs": [],
   "source": [
    "import pandas as pd\n",
    "df=pd.read_excel('E:/Data Science with Python/Fraud alert/test2_bkp.xlsx',index_col=None)\n"
   ]
  },
  {
   "cell_type": "code",
   "execution_count": 17,
   "id": "12edb499-6284-4c49-8352-ca8419e36335",
   "metadata": {},
   "outputs": [],
   "source": [
    "#df['player_id']=df['player_id'].astype(float)\n",
    "#df = df.astype({\"player_id\":'int', \"session_id\":'int'}) \n"
   ]
  },
  {
   "cell_type": "code",
   "execution_count": 18,
   "id": "2175f924-09b8-4061-aaae-c4a4541a321b",
   "metadata": {},
   "outputs": [
    {
     "data": {
      "text/plain": [
       "Index(['player_id', 'sess_start_time', 'sess_end_time', 'session_id',\n",
       "       'no_of_card', 'game_type', 'game_type_id', 'No_of_Players',\n",
       "       'Actual_No_of_Players', 'Game_group_type', 'Point_value', 'Buy_in',\n",
       "       'Wager', 'Winning', 'Rake', 'shuffle_id', 'Plr1+Plr2', 'Card dropped',\n",
       "       'Plr2+Plr1', 'Card picked', 'city', 'postal_code', 'photo_id_type',\n",
       "       'registration_date', 'registration_ip', 'device_fingerprint', 'status',\n",
       "       'last_login_ip', 'last_login_through', 'reg_device', 'IP Count',\n",
       "       'Device Count', 'campaign_name', 'utm_campaign', 'Source', 'mapped_id',\n",
       "       'Affiliate_KPI', 'Filter'],\n",
       "      dtype='object')"
      ]
     },
     "execution_count": 18,
     "metadata": {},
     "output_type": "execute_result"
    }
   ],
   "source": [
    "df.columns"
   ]
  },
  {
   "cell_type": "code",
   "execution_count": 19,
   "id": "34d4b889-c8c2-4cdc-aa23-800bb57608c0",
   "metadata": {},
   "outputs": [],
   "source": [
    "df_set1=df[['player_id','session_id','city','postal_code','registration_ip','device_fingerprint']]\n",
    "df_set1=df_set1[df_set1['session_id'].isin([111717167,111717347])]\n",
    "df_set1.reset_index(drop=True,inplace=True)"
   ]
  },
  {
   "cell_type": "code",
   "execution_count": 20,
   "id": "8c8a93ef-febd-4ead-8354-4c8e88780f1d",
   "metadata": {},
   "outputs": [],
   "source": [
    "df_set1_unqiue=df_set1.groupby('session_id')['player_id'].nunique()"
   ]
  },
  {
   "cell_type": "code",
   "execution_count": 21,
   "id": "1be02d27-7b5f-4be1-a39e-b733fadff5f8",
   "metadata": {},
   "outputs": [],
   "source": [
    "df_set1_unqiue=df_set1_unqiue.to_frame()"
   ]
  },
  {
   "cell_type": "code",
   "execution_count": 22,
   "id": "d9addb17-b232-4e00-9760-02ad424b345c",
   "metadata": {},
   "outputs": [
    {
     "data": {
      "text/html": [
       "<div>\n",
       "<style scoped>\n",
       "    .dataframe tbody tr th:only-of-type {\n",
       "        vertical-align: middle;\n",
       "    }\n",
       "\n",
       "    .dataframe tbody tr th {\n",
       "        vertical-align: top;\n",
       "    }\n",
       "\n",
       "    .dataframe thead th {\n",
       "        text-align: right;\n",
       "    }\n",
       "</style>\n",
       "<table border=\"1\" class=\"dataframe\">\n",
       "  <thead>\n",
       "    <tr style=\"text-align: right;\">\n",
       "      <th></th>\n",
       "      <th>player_id</th>\n",
       "    </tr>\n",
       "    <tr>\n",
       "      <th>session_id</th>\n",
       "      <th></th>\n",
       "    </tr>\n",
       "  </thead>\n",
       "  <tbody>\n",
       "    <tr>\n",
       "      <th>111717167.0</th>\n",
       "      <td>2</td>\n",
       "    </tr>\n",
       "    <tr>\n",
       "      <th>111717347.0</th>\n",
       "      <td>2</td>\n",
       "    </tr>\n",
       "  </tbody>\n",
       "</table>\n",
       "</div>"
      ],
      "text/plain": [
       "             player_id\n",
       "session_id            \n",
       "111717167.0          2\n",
       "111717347.0          2"
      ]
     },
     "execution_count": 22,
     "metadata": {},
     "output_type": "execute_result"
    }
   ],
   "source": [
    "df_set1_unqiue"
   ]
  },
  {
   "cell_type": "code",
   "execution_count": 23,
   "id": "3722ba8b-3d51-4071-b3ba-5419c5b7575e",
   "metadata": {},
   "outputs": [
    {
     "data": {
      "text/html": [
       "<div>\n",
       "<style scoped>\n",
       "    .dataframe tbody tr th:only-of-type {\n",
       "        vertical-align: middle;\n",
       "    }\n",
       "\n",
       "    .dataframe tbody tr th {\n",
       "        vertical-align: top;\n",
       "    }\n",
       "\n",
       "    .dataframe thead th {\n",
       "        text-align: right;\n",
       "    }\n",
       "</style>\n",
       "<table border=\"1\" class=\"dataframe\">\n",
       "  <thead>\n",
       "    <tr style=\"text-align: right;\">\n",
       "      <th></th>\n",
       "      <th>player_id</th>\n",
       "      <th>session_id</th>\n",
       "      <th>city</th>\n",
       "      <th>postal_code</th>\n",
       "      <th>registration_ip</th>\n",
       "      <th>device_fingerprint</th>\n",
       "    </tr>\n",
       "  </thead>\n",
       "  <tbody>\n",
       "    <tr>\n",
       "      <th>0</th>\n",
       "      <td>270828.0</td>\n",
       "      <td>111717167.0</td>\n",
       "      <td>NaN</td>\n",
       "      <td>NaN</td>\n",
       "      <td>203.122.33.178</td>\n",
       "      <td>220.227.201.110::null::null</td>\n",
       "    </tr>\n",
       "    <tr>\n",
       "      <th>1</th>\n",
       "      <td>643747.0</td>\n",
       "      <td>111717167.0</td>\n",
       "      <td>NaN</td>\n",
       "      <td>NaN</td>\n",
       "      <td>157.49.10.150</td>\n",
       "      <td>NaN</td>\n",
       "    </tr>\n",
       "    <tr>\n",
       "      <th>2</th>\n",
       "      <td>270662.0</td>\n",
       "      <td>111717347.0</td>\n",
       "      <td>NaN</td>\n",
       "      <td>NaN</td>\n",
       "      <td>182.156.72.78</td>\n",
       "      <td>220.227.203.4::null::null</td>\n",
       "    </tr>\n",
       "    <tr>\n",
       "      <th>3</th>\n",
       "      <td>270662.0</td>\n",
       "      <td>111717347.0</td>\n",
       "      <td>NaN</td>\n",
       "      <td>NaN</td>\n",
       "      <td>182.156.72.78</td>\n",
       "      <td>220.227.203.4::null::null</td>\n",
       "    </tr>\n",
       "    <tr>\n",
       "      <th>4</th>\n",
       "      <td>270662.0</td>\n",
       "      <td>111717347.0</td>\n",
       "      <td>NaN</td>\n",
       "      <td>NaN</td>\n",
       "      <td>182.156.72.78</td>\n",
       "      <td>220.227.203.4::null::null</td>\n",
       "    </tr>\n",
       "    <tr>\n",
       "      <th>5</th>\n",
       "      <td>270662.0</td>\n",
       "      <td>111717347.0</td>\n",
       "      <td>NaN</td>\n",
       "      <td>NaN</td>\n",
       "      <td>182.156.72.78</td>\n",
       "      <td>220.227.203.4::null::null</td>\n",
       "    </tr>\n",
       "    <tr>\n",
       "      <th>6</th>\n",
       "      <td>6227687.0</td>\n",
       "      <td>111717347.0</td>\n",
       "      <td>moochikkal</td>\n",
       "      <td>673642.0</td>\n",
       "      <td>157.44.187.239</td>\n",
       "      <td>157.44.187.239::null::null</td>\n",
       "    </tr>\n",
       "    <tr>\n",
       "      <th>7</th>\n",
       "      <td>6227687.0</td>\n",
       "      <td>111717347.0</td>\n",
       "      <td>moochikkal</td>\n",
       "      <td>673642.0</td>\n",
       "      <td>157.44.187.239</td>\n",
       "      <td>157.44.187.239::null::null</td>\n",
       "    </tr>\n",
       "    <tr>\n",
       "      <th>8</th>\n",
       "      <td>6227687.0</td>\n",
       "      <td>111717347.0</td>\n",
       "      <td>moochikkal</td>\n",
       "      <td>673642.0</td>\n",
       "      <td>157.44.187.239</td>\n",
       "      <td>157.44.187.239::null::null</td>\n",
       "    </tr>\n",
       "    <tr>\n",
       "      <th>9</th>\n",
       "      <td>6227687.0</td>\n",
       "      <td>111717347.0</td>\n",
       "      <td>moochikkal</td>\n",
       "      <td>673642.0</td>\n",
       "      <td>157.44.187.239</td>\n",
       "      <td>157.44.187.239::null::null</td>\n",
       "    </tr>\n",
       "  </tbody>\n",
       "</table>\n",
       "</div>"
      ],
      "text/plain": [
       "   player_id   session_id        city  postal_code registration_ip  \\\n",
       "0   270828.0  111717167.0         NaN          NaN  203.122.33.178   \n",
       "1   643747.0  111717167.0         NaN          NaN   157.49.10.150   \n",
       "2   270662.0  111717347.0         NaN          NaN   182.156.72.78   \n",
       "3   270662.0  111717347.0         NaN          NaN   182.156.72.78   \n",
       "4   270662.0  111717347.0         NaN          NaN   182.156.72.78   \n",
       "5   270662.0  111717347.0         NaN          NaN   182.156.72.78   \n",
       "6  6227687.0  111717347.0  moochikkal     673642.0  157.44.187.239   \n",
       "7  6227687.0  111717347.0  moochikkal     673642.0  157.44.187.239   \n",
       "8  6227687.0  111717347.0  moochikkal     673642.0  157.44.187.239   \n",
       "9  6227687.0  111717347.0  moochikkal     673642.0  157.44.187.239   \n",
       "\n",
       "            device_fingerprint  \n",
       "0  220.227.201.110::null::null  \n",
       "1                          NaN  \n",
       "2    220.227.203.4::null::null  \n",
       "3    220.227.203.4::null::null  \n",
       "4    220.227.203.4::null::null  \n",
       "5    220.227.203.4::null::null  \n",
       "6   157.44.187.239::null::null  \n",
       "7   157.44.187.239::null::null  \n",
       "8   157.44.187.239::null::null  \n",
       "9   157.44.187.239::null::null  "
      ]
     },
     "execution_count": 23,
     "metadata": {},
     "output_type": "execute_result"
    }
   ],
   "source": [
    "df_set1"
   ]
  },
  {
   "cell_type": "code",
   "execution_count": 24,
   "id": "39257359-e0f5-488e-b3f8-0b3a8a77e180",
   "metadata": {},
   "outputs": [
    {
     "name": "stdout",
     "output_type": "stream",
     "text": [
      "0 - 111717167.0 270828.0 - 0 111717167.0 270828.0 Duplicate found\n",
      "1 - 111717167.0 643747.0 - 1 111717167.0 643747.0 Duplicate found\n",
      "2 - 111717347.0 270662.0 - 2 111717167.0 270662.0 Duplicate found\n",
      "3 - 111717347.0 270662.0 - 3 111717167.0 270662.0 Duplicate found\n",
      "4 - 111717347.0 270662.0 - 4 111717167.0 270662.0 Duplicate found\n",
      "5 - 111717347.0 270662.0 - 5 111717167.0 270662.0 Duplicate found\n",
      "6 - 111717347.0 6227687.0 - 6 111717167.0 6227687.0 Duplicate found\n",
      "7 - 111717347.0 6227687.0 - 7 111717167.0 6227687.0 Duplicate found\n",
      "8 - 111717347.0 6227687.0 - 8 111717167.0 6227687.0 Duplicate found\n",
      "9 - 111717347.0 6227687.0 - 9 111717167.0 6227687.0 Duplicate found\n"
     ]
    }
   ],
   "source": [
    "# temp=[]\n",
    "\n",
    "#     temp.append(i)\n",
    "#     #print(i)\n",
    "j=1\n",
    "#len(df_set1.index)\n",
    "row1=iter(df_set1['session_id'])\n",
    "\n",
    "get_len=3000\n",
    "\n",
    "    \n",
    "for i  in df_set1.index:\n",
    "    \n",
    "    #for i  in range(get_len):    \n",
    "\n",
    "        #details=next(row1)    \n",
    "    if df_set1.loc[i,'session_id']==df_set1.loc[i,'session_id']:\n",
    "\n",
    "        #print(i,\"-\",df_set1.loc[i,'session_id'],i,\"-\",details,\"Duplicate found\")\n",
    "        print(i,\"-\",df_set1.loc[i,'session_id'],df_set1.loc[i,'player_id'],\"-\",i,df_set1.loc[j,'session_id'],df_set1.loc[i,'player_id'],\"Duplicate found\")\n",
    "        #print('found')\n",
    "    else:\n",
    "        print('not found')\n",
    "            # temp.append(i)\n",
    "            # temp.append(i+1)\n",
    "j+=1\n"
   ]
  },
  {
   "cell_type": "code",
   "execution_count": null,
   "id": "988c3975-1185-4df3-bf5a-c448c7166c5b",
   "metadata": {},
   "outputs": [],
   "source": [
    "#temp.clear()\n",
    "if len(temp):\n",
    "    print('not empty')\n",
    "else:\n",
    "    print('empty')"
   ]
  },
  {
   "cell_type": "code",
   "execution_count": 56,
   "id": "cf75e4ef-51a5-4c71-97d8-66b481e3b806",
   "metadata": {},
   "outputs": [
    {
     "name": "stdout",
     "output_type": "stream",
     "text": [
      "0 270828.0 270828.0\n",
      "1 643747.0 643747.0\n",
      "2 270662.0 270662.0\n",
      "3 270662.0 270662.0\n",
      "4 270662.0 270662.0\n",
      "5 270662.0 270662.0\n",
      "6 6227687.0 6227687.0\n",
      "7 6227687.0 6227687.0\n",
      "8 6227687.0 6227687.0\n",
      "9 6227687.0 6227687.0\n"
     ]
    }
   ],
   "source": [
    "for index, row in df_set1.iterrows():\n",
    "    print(index,row['player_id'],row['player_id'])"
   ]
  },
  {
   "cell_type": "code",
   "execution_count": 58,
   "id": "abde9443-7256-492e-b625-0260dcc2b5ab",
   "metadata": {},
   "outputs": [],
   "source": [
    "df_set1\n",
    "\n",
    "for i in df_set1.index:\n",
    "    for j in df_set1.index:\n",
    "        \n",
    "        if i!=j:\n",
    "            #print(i,j)\n",
    "            #print(df_set1.loc[i,'session_id'],df_set1.loc[j,'session_id'])\n",
    "            pass\n",
    "            "
   ]
  },
  {
   "cell_type": "code",
   "execution_count": 45,
   "id": "8fae393d-b801-42bf-b208-ceefd1fc699d",
   "metadata": {},
   "outputs": [
    {
     "data": {
      "text/plain": [
       "111717347.0"
      ]
     },
     "execution_count": 45,
     "metadata": {},
     "output_type": "execute_result"
    }
   ],
   "source": [
    "df_set1.loc[2]['session_id']"
   ]
  },
  {
   "cell_type": "code",
   "execution_count": 80,
   "id": "428a3764-8210-49b7-8c03-29588eda7cff",
   "metadata": {},
   "outputs": [
    {
     "data": {
      "text/plain": [
       "array([[270828.0, 111717167.0, nan, nan, '203.122.33.178',\n",
       "        '220.227.201.110::null::null'],\n",
       "       [643747.0, 111717167.0, nan, nan, '157.49.10.150', nan],\n",
       "       [270662.0, 111717347.0, nan, nan, '182.156.72.78',\n",
       "        '220.227.203.4::null::null'],\n",
       "       [270662.0, 111717347.0, nan, nan, '182.156.72.78',\n",
       "        '220.227.203.4::null::null'],\n",
       "       [270662.0, 111717347.0, nan, nan, '182.156.72.78',\n",
       "        '220.227.203.4::null::null'],\n",
       "       [270662.0, 111717347.0, nan, nan, '182.156.72.78',\n",
       "        '220.227.203.4::null::null'],\n",
       "       [6227687.0, 111717347.0, 'moochikkal', 673642.0, '157.44.187.239',\n",
       "        '157.44.187.239::null::null'],\n",
       "       [6227687.0, 111717347.0, 'moochikkal', 673642.0, '157.44.187.239',\n",
       "        '157.44.187.239::null::null'],\n",
       "       [6227687.0, 111717347.0, 'moochikkal', 673642.0, '157.44.187.239',\n",
       "        '157.44.187.239::null::null'],\n",
       "       [6227687.0, 111717347.0, 'moochikkal', 673642.0, '157.44.187.239',\n",
       "        '157.44.187.239::null::null']], dtype=object)"
      ]
     },
     "execution_count": 80,
     "metadata": {},
     "output_type": "execute_result"
    }
   ],
   "source": [
    "df_set1.values\n",
    "#list(get_list)"
   ]
  },
  {
   "cell_type": "code",
   "execution_count": 81,
   "id": "bd2e906e-11ed-4786-9bda-e4cfeb82530c",
   "metadata": {},
   "outputs": [
    {
     "data": {
      "text/plain": [
       "Index                 128\n",
       "player_id              80\n",
       "session_id             80\n",
       "city                   80\n",
       "postal_code            80\n",
       "registration_ip        80\n",
       "device_fingerprint     80\n",
       "dtype: int64"
      ]
     },
     "execution_count": 81,
     "metadata": {},
     "output_type": "execute_result"
    }
   ],
   "source": [
    "df_set1.memory_usage()"
   ]
  },
  {
   "cell_type": "code",
   "execution_count": 9,
   "id": "9d603aff-75b5-4b73-9821-946a1de599ed",
   "metadata": {},
   "outputs": [
    {
     "data": {
      "text/html": [
       "<div>\n",
       "<style scoped>\n",
       "    .dataframe tbody tr th:only-of-type {\n",
       "        vertical-align: middle;\n",
       "    }\n",
       "\n",
       "    .dataframe tbody tr th {\n",
       "        vertical-align: top;\n",
       "    }\n",
       "\n",
       "    .dataframe thead th {\n",
       "        text-align: right;\n",
       "    }\n",
       "</style>\n",
       "<table border=\"1\" class=\"dataframe\">\n",
       "  <thead>\n",
       "    <tr style=\"text-align: right;\">\n",
       "      <th></th>\n",
       "      <th>Sum</th>\n",
       "      <th>Count</th>\n",
       "      <th>id</th>\n",
       "    </tr>\n",
       "  </thead>\n",
       "  <tbody>\n",
       "    <tr>\n",
       "      <th>0</th>\n",
       "      <td>123</td>\n",
       "      <td>1</td>\n",
       "      <td>Sell</td>\n",
       "    </tr>\n",
       "    <tr>\n",
       "      <th>1</th>\n",
       "      <td>124</td>\n",
       "      <td>2</td>\n",
       "      <td>Sell</td>\n",
       "    </tr>\n",
       "    <tr>\n",
       "      <th>2</th>\n",
       "      <td>125</td>\n",
       "      <td>1</td>\n",
       "      <td>Buy</td>\n",
       "    </tr>\n",
       "    <tr>\n",
       "      <th>3</th>\n",
       "      <td>126</td>\n",
       "      <td>1</td>\n",
       "      <td>Buy</td>\n",
       "    </tr>\n",
       "  </tbody>\n",
       "</table>\n",
       "</div>"
      ],
      "text/plain": [
       "   Sum  Count    id\n",
       "0  123      1  Sell\n",
       "1  124      2  Sell\n",
       "2  125      1   Buy\n",
       "3  126      1   Buy"
      ]
     },
     "execution_count": 9,
     "metadata": {},
     "output_type": "execute_result"
    }
   ],
   "source": [
    "import pandas as pd\n",
    "a=[[123,1,'Sell'],[124,2,'Sell'],[125,1,'Buy'],[126,1,'Buy']]\n",
    "b=pd.DataFrame(a,columns=['Sum','Count','id'])\n",
    "b"
   ]
  },
  {
   "cell_type": "code",
   "execution_count": 17,
   "id": "c7da0ced-b323-419b-a3a5-6a034d465edf",
   "metadata": {},
   "outputs": [],
   "source": [
    "c=b.groupby('id').value_counts()"
   ]
  },
  {
   "cell_type": "code",
   "execution_count": 16,
   "id": "955dc155-74bd-42f5-9b63-7e8fc5bb62e9",
   "metadata": {},
   "outputs": [
    {
     "data": {
      "text/plain": [
       "0    1\n",
       "1    1\n",
       "2    1\n",
       "3    1\n",
       "dtype: int64"
      ]
     },
     "execution_count": 16,
     "metadata": {},
     "output_type": "execute_result"
    }
   ],
   "source": [
    "c.reset_index(drop=True)"
   ]
  },
  {
   "cell_type": "code",
   "execution_count": 109,
   "id": "85605232-5300-4825-89a8-794f0ccf27d3",
   "metadata": {},
   "outputs": [],
   "source": []
  },
  {
   "cell_type": "code",
   "execution_count": 181,
   "id": "4f9daa8f-286b-4dd5-936f-9a43b36a1659",
   "metadata": {},
   "outputs": [],
   "source": [
    "\n",
    "#df['Player_id'].unique().tolist()"
   ]
  },
  {
   "cell_type": "code",
   "execution_count": 10,
   "id": "bc6e1453-724c-46c5-b335-c5776c26ba80",
   "metadata": {},
   "outputs": [
    {
     "name": "stdout",
     "output_type": "stream",
     "text": [
      "Helper ID  123451 Winner ID  123452 Session ID  1011012\n",
      "Helper ID  123453 Winner ID  123454 Session ID  1011013\n"
     ]
    }
   ],
   "source": [
    "import pandas as pd\n",
    "Login_df=pd.read_excel('E:/Data Science with Python/Fraud alert/Login_IP_N_City_Check.xlsx')\n",
    "\n",
    "Session_df=pd.read_excel('E:/Data Science with Python/Fraud alert/Session.xlsx')\n",
    "\n",
    "\n",
    "Login_IP_dic={'Session_id':[],'Login_IP':[]}\n",
    "Login_City_dic={'Session_id':[],'Login_City':[]}\n",
    "\n",
    "\n",
    "Session_df['IP_Matched']=''\n",
    "Session_df['City_Matched']=''\n",
    "\n",
    "global temp1\n",
    "global temp2\n",
    "\n",
    "temp1=pd.DataFrame()\n",
    "temp2=pd.DataFrame()\n",
    "\n",
    "\n",
    "global Log_IP\n",
    "\n",
    "def Login_IP_City(Helper,Winner,Session):\n",
    "    print('Helper ID ',Helper,'Winner ID ',Winner,'Session ID ',Session)\n",
    "\n",
    "\n",
    "\n",
    "    temp1=Login_df[Login_df['Player_id']==Helper].drop_duplicates().reset_index(drop=True)\n",
    "    temp2=Login_df[Login_df['Player_id']==Winner].drop_duplicates().reset_index(drop=True)\n",
    "    \n",
    "    for i in range(len(temp1)):\n",
    "        for j in range(len(temp2)):\n",
    "            if temp1.loc[i]['Login_IP']==temp2.loc[j]['Login_IP']:\n",
    "                Login_IP_dic['Session_id'].append(Session)\n",
    "                Login_IP_dic['Login_IP'].append(temp1.loc[i]['Login_IP'])\n",
    "                \n",
    "            else:\n",
    "                pass\n",
    "            \n",
    "            if (temp1.loc[i]['Login_City']!='Unknown' and temp1.loc[i]['Login_City']!='NA'):\n",
    "                \n",
    "                if temp1.loc[i]['Login_City']==temp2.loc[j]['Login_City']:\n",
    "                    Login_City_dic['Session_id'].append(Session)\n",
    "                    Login_City_dic['Login_City'].append(temp1.loc[i]['Login_City'])\n",
    "                else:\n",
    "                    pass\n",
    "                \n",
    "    \n",
    "        \n",
    "\n",
    "for i in range(len(Session_df)):\n",
    "    Login_IP_City(Session_df.loc[i]['Helper'],Session_df.loc[i]['Winner'],Session_df.loc[i]['Session_ID'])\n",
    "    \n",
    "    \n",
    "    \n",
    "    \n",
    "    \n",
    "    \n",
    "    \n",
    "    \n",
    "    \n",
    "        "
   ]
  },
  {
   "cell_type": "code",
   "execution_count": 11,
   "id": "19a2bfd9-767b-4e34-b9d7-3eed319f2e91",
   "metadata": {},
   "outputs": [],
   "source": [
    "\n",
    "Login_IP_dic_df=pd.DataFrame(Login_IP_dic)\n",
    "Login_IP_dic_df=Login_IP_dic_df.groupby('Session_id')['Login_IP'].apply(list)\n",
    "Login_IP_dic_df=Login_IP_dic_df.to_frame().reset_index()"
   ]
  },
  {
   "cell_type": "code",
   "execution_count": 12,
   "id": "28dff998-3cf8-4bdf-ac25-21faa1fa63f4",
   "metadata": {},
   "outputs": [
    {
     "data": {
      "text/html": [
       "<div>\n",
       "<style scoped>\n",
       "    .dataframe tbody tr th:only-of-type {\n",
       "        vertical-align: middle;\n",
       "    }\n",
       "\n",
       "    .dataframe tbody tr th {\n",
       "        vertical-align: top;\n",
       "    }\n",
       "\n",
       "    .dataframe thead th {\n",
       "        text-align: right;\n",
       "    }\n",
       "</style>\n",
       "<table border=\"1\" class=\"dataframe\">\n",
       "  <thead>\n",
       "    <tr style=\"text-align: right;\">\n",
       "      <th></th>\n",
       "      <th>Session_id</th>\n",
       "      <th>Login_IP</th>\n",
       "    </tr>\n",
       "  </thead>\n",
       "  <tbody>\n",
       "    <tr>\n",
       "      <th>0</th>\n",
       "      <td>1011012</td>\n",
       "      <td>[162.198.0.1, 162.198.0.2, 162.198.0.2]</td>\n",
       "    </tr>\n",
       "    <tr>\n",
       "      <th>1</th>\n",
       "      <td>1011013</td>\n",
       "      <td>[162.198.0.3]</td>\n",
       "    </tr>\n",
       "  </tbody>\n",
       "</table>\n",
       "</div>"
      ],
      "text/plain": [
       "   Session_id                                 Login_IP\n",
       "0     1011012  [162.198.0.1, 162.198.0.2, 162.198.0.2]\n",
       "1     1011013                            [162.198.0.3]"
      ]
     },
     "execution_count": 12,
     "metadata": {},
     "output_type": "execute_result"
    }
   ],
   "source": [
    "Login_IP_dic_df"
   ]
  },
  {
   "cell_type": "code",
   "execution_count": null,
   "id": "104a3c96-e5cd-4aef-8afb-89987ca4b1cc",
   "metadata": {},
   "outputs": [],
   "source": []
  },
  {
   "cell_type": "code",
   "execution_count": 13,
   "id": "e556ff45-0e54-4ae9-b86f-4def78ba8eb7",
   "metadata": {},
   "outputs": [],
   "source": [
    "\n",
    "Login_City_dic_df=pd.DataFrame(Login_City_dic)\n",
    "Login_City_dic_df=Login_City_dic_df.groupby('Session_id')['Login_City'].apply(list)\n",
    "Login_City_dic_df=Login_City_dic_df.to_frame().reset_index()"
   ]
  },
  {
   "cell_type": "code",
   "execution_count": null,
   "id": "93c14c91-cebd-40d6-b02c-d6a2479e42a0",
   "metadata": {},
   "outputs": [],
   "source": []
  },
  {
   "cell_type": "code",
   "execution_count": 7,
   "id": "f12bb9c6-c2a2-41e9-8f2f-7de8559fd98b",
   "metadata": {},
   "outputs": [
    {
     "data": {
      "text/html": [
       "<div>\n",
       "<style scoped>\n",
       "    .dataframe tbody tr th:only-of-type {\n",
       "        vertical-align: middle;\n",
       "    }\n",
       "\n",
       "    .dataframe tbody tr th {\n",
       "        vertical-align: top;\n",
       "    }\n",
       "\n",
       "    .dataframe thead th {\n",
       "        text-align: right;\n",
       "    }\n",
       "</style>\n",
       "<table border=\"1\" class=\"dataframe\">\n",
       "  <thead>\n",
       "    <tr style=\"text-align: right;\">\n",
       "      <th></th>\n",
       "      <th>Session_id</th>\n",
       "      <th>Login_City</th>\n",
       "    </tr>\n",
       "  </thead>\n",
       "  <tbody>\n",
       "    <tr>\n",
       "      <th>0</th>\n",
       "      <td>1011012</td>\n",
       "      <td>[Mumbai Central, Mumbai, Mumbai]</td>\n",
       "    </tr>\n",
       "    <tr>\n",
       "      <th>1</th>\n",
       "      <td>1011013</td>\n",
       "      <td>[Bhandup]</td>\n",
       "    </tr>\n",
       "  </tbody>\n",
       "</table>\n",
       "</div>"
      ],
      "text/plain": [
       "   Session_id                        Login_City\n",
       "0     1011012  [Mumbai Central, Mumbai, Mumbai]\n",
       "1     1011013                         [Bhandup]"
      ]
     },
     "execution_count": 7,
     "metadata": {},
     "output_type": "execute_result"
    }
   ],
   "source": [
    "Login_City_dic_df"
   ]
  },
  {
   "cell_type": "code",
   "execution_count": 40,
   "id": "0fc866d0-5081-477d-8900-2198522669c5",
   "metadata": {},
   "outputs": [],
   "source": [
    "import pandas as pd\n",
    "import numpy as np"
   ]
  },
  {
   "cell_type": "code",
   "execution_count": 41,
   "id": "2c174a91-31d1-45c0-b845-e4bb1a0b7372",
   "metadata": {},
   "outputs": [
    {
     "data": {
      "text/plain": [
       "Index(['Unnamed: 0', 'session_id', 'Winner', 'Winning', 'Helper',\n",
       "       'Winner_User', 'Helper_User', 'Wrong_Show', 'Table_Left', 'Dropped',\n",
       "       'Withdrawal_Request', 'Winner_KYC', 'Helper_KYC', 'Remarks',\n",
       "       'Login_IP_Status', 'Login_IP', 'Helper_domain', 'Winner_domain', 'city',\n",
       "       'postal_code', 'device_fingerprint', 'registration_ip', 'game_type',\n",
       "       'Game_name', 'No_of_Players', 'sess_start_time', 'sess_end_time',\n",
       "       'room_id', 'Winner_Email_ID', 'Winner_Mobile_ID', 'Helper_Email_ID',\n",
       "       'Helper_Mobile_ID', 'Risk_Score', 'Fraud_Status'],\n",
       "      dtype='object')"
      ]
     },
     "execution_count": 41,
     "metadata": {},
     "output_type": "execute_result"
    }
   ],
   "source": [
    "\n",
    "Sess_Helper_Winner.columns\n",
    "#Sess_Helper_Winner=('E:/Data Science with Python/Fraud alert/Sess_Helper_Winner_df.xlsx')"
   ]
  },
  {
   "cell_type": "code",
   "execution_count": 69,
   "id": "e9891995-96d5-40ad-a04f-5b1701766aae",
   "metadata": {
    "tags": []
   },
   "outputs": [],
   "source": [
    "import pandas as pd\n",
    "Sess_Helper_Winner=pd.read_excel('E:/Data Science with Python/Fraud alert/Sess_Helper_Winner_df.xlsx')\n",
    "global Score\n",
    "\n",
    "gm_2_plr=10\n",
    "Mini=30\n",
    "\n",
    "# Wrong_Show_2_Plr_Mini = 30\n",
    "# Wrong_Show_2_Plr = 30\n",
    "# Wrong_Show_Mini = 30\n",
    "Wrong_Show = 30\n",
    "\n",
    "Table_Left = 30\n",
    "# Table_Left_Mini = 10\n",
    "# Table_Left_2_Plr = 50\n",
    "# Table_Left_2_Plr_Mini = 60\n",
    "\n",
    "Dropped = 15\n",
    "# Dropped_2_Plr = 5\n",
    "# Dropped_Mini = 20\n",
    "# Dropped_2_Plr_Mini = 30\n",
    "\n",
    "# Card_Passing_2_Plr_Mini = 40\n",
    "# Card_Passing_Mini = 30\n",
    "# Card_Passing_2_Plr = 20\n",
    "Card_Passing = 20\n",
    "\n",
    "Login_IP_Status = 40\n",
    "Login_IP_Status_Cnt = 60\n",
    "\n",
    "Media_Source_Status = 30\n",
    "City = 20\n",
    "postal_code = 40\n",
    "device_fingerprint = 60\n",
    "\n",
    "registration_ip_Decimal_2 = 10\n",
    "registration_ip_Decimal_3 = 20\n",
    "registration_ip_Decimal_4 = 30\n",
    "\n",
    "Refer_a_friends = 40\n",
    "\n",
    "\n",
    "if 'Risk_Score' in Sess_Helper_Winner:\n",
    "    Sess_Helper_Winner.drop(columns={'Risk_Score'},inplace=True)\n",
    "else:\n",
    "    Sess_Helper_Winner['Risk_Score']=''\n",
    "\n",
    "if 'Fraud_Status' in Sess_Helper_Winner:\n",
    "    Sess_Helper_Winner.drop(columns={'Fraud_Status'},inplace=True)\n",
    "else:\n",
    "    Sess_Helper_Winner['Fraud_Status']=''\n",
    "\n",
    "    \n",
    "Sess_Helper_Winner['Login IP Count']=''    \n",
    "\n",
    "for i in range(len(Sess_Helper_Winner)):\n",
    "    Score=0\n",
    "#     if Sess_Helper_Winner.loc[i]['Wrong_Show']==1 and Sess_Helper_Winner.loc[i]['No_of_Players']==2:\n",
    "#         Score1=Score+Wrong_Show_2_Plr\n",
    "#         Sess_Helper_Winner.at[i,'Risk_Score']=Score1\n",
    "#     elif Sess_Helper_Winner.loc[i]['Wrong_Show']==1:\n",
    "#         Score1=Score+Wrong_Show\n",
    "#         Sess_Helper_Winner.at[i,'Risk_Score']=Score1\n",
    "#     else:\n",
    "#         Score1=Score\n",
    "    \n",
    "#     if Sess_Helper_Winner.loc[i]['Table_Left']==1 and Sess_Helper_Winner.loc[i]['No_of_Players']==2:\n",
    "#         Score2=Score1+Table_Left_2_Plr\n",
    "#         Sess_Helper_Winner.at[i,'Risk_Score']=Score2\n",
    "#     elif Sess_Helper_Winner.loc[i]['Table_Left']==1:\n",
    "#         Score2=Score1+Table_Left_2_Plr\n",
    "#         Sess_Helper_Winner.at[i,'Risk_Score']=Score2\n",
    "#     else:\n",
    "#         Score2=Score1\n",
    "    \n",
    "#     if Sess_Helper_Winner.loc[i]['Dropped']==1 :\n",
    "#         Score3=Score2+Dropped\n",
    "#         Sess_Helper_Winner.at[i,'Risk_Score']=Score3\n",
    "#     else:\n",
    "#         Score3=Score2\n",
    "        \n",
    "        \n",
    "#     if Sess_Helper_Winner.loc[i]['Remarks']=='Card Passing' and Sess_Helper_Winner.loc[i]['No_of_Players']==2:\n",
    "#         Score4=Score3+Card_Passing_2_Plr\n",
    "#         Sess_Helper_Winner.at[i,'Risk_Score']=Score4\n",
    "#     elif Sess_Helper_Winner.loc[i]['Remarks']=='Card Passing' and Sess_Helper_Winner.loc[i]['No_of_Players']==2 and (Sess_Helper_Winner.loc[i]['Winner_KYC']=='MINI' or Sess_Helper_Winner.loc[i]['Helper_KYC']=='MINI'):\n",
    "#         Score4=Score3+Card_Passing_2_Plr_Mini\n",
    "#         Sess_Helper_Winner.at[i,'Risk_Score']=Score4\n",
    "#     elif Sess_Helper_Winner.loc[i]['Remarks']=='Card Passing':\n",
    "#         Score4=Score3+Card_Passing_2_Plr\n",
    "#         Sess_Helper_Winner.at[i,'Risk_Score']=Score4\n",
    "#     else:\n",
    "#         Score4=Score3\n",
    "    \n",
    "    \n",
    "#     if Sess_Helper_Winner.loc[i]['Remarks']=='Table_Left' and Sess_Helper_Winner.loc[i]['No_of_Players']==2:\n",
    "#         Score5=Score4+Table_Left_2_Plr\n",
    "#         Sess_Helper_Winner.at[i,'Risk_Score']=Score5\n",
    "#     elif Sess_Helper_Winner.loc[i]['Remarks']=='Table_Left' and Sess_Helper_Winner.loc[i]['Helper_KYC']=='MINI' and Sess_Helper_Winner.loc[i]['No_of_Players']==2:\n",
    "#         Score5=Score4+Table_Left_2_Plr_Mini\n",
    "#         Sess_Helper_Winner.at[i,'Risk_Score']=Score5\n",
    "#     elif Sess_Helper_Winner.loc[i]['Remarks']=='Table_Left' and Sess_Helper_Winner.loc[i]['Helper_KYC']=='MINI':\n",
    "#         Score5=Score4+Table_Left_2_Plr_Mini\n",
    "#         Sess_Helper_Winner.at[i,'Risk_Score']=Score5\n",
    "#     elif Sess_Helper_Winner.loc[i]['Remarks']=='Table_Left':\n",
    "#         Score5=Score4+Table_Mini\n",
    "#         Sess_Helper_Winner.at[i,'Risk_Score']=Score5\n",
    "#     else:\n",
    "#         Score5=Score4\n",
    "        \n",
    "#     if Sess_Helper_Winner.loc[i]['Remarks']=='Wrong Show'  and Sess_Helper_Winner.loc[i]['No_of_Players']==2:\n",
    "#         Score6=Score5+Wrong_Show_2_Plr\n",
    "#         Sess_Helper_Winner.at[i,'Risk_Score']=Score6\n",
    "#     elif Sess_Helper_Winner.loc[i]['Remarks']=='Wrong Show':\n",
    "#         Score6=Score5+Wrong_Show_2_Plr\n",
    "#         Sess_Helper_Winner.at[i,'Risk_Score']=Score6\n",
    "#     else:\n",
    "#         Score6=Score5\n",
    "    \n",
    "#     if Sess_Helper_Winner.loc[i]['Remarks']=='Dropped' and Sess_Helper_Winner.loc[i]['Helper_KYC']=='MINI' and Sess_Helper_Winner.loc[i]['No_of_Players']==2 :\n",
    "#         Score7=Score6+Dropped_2_Plr_Mini\n",
    "#         Sess_Helper_Winner.at[i,'Risk_Score']=Score7\n",
    "#     if Sess_Helper_Winner.loc[i]['Remarks']=='Dropped' and Sess_Helper_Winner.loc[i]['No_of_Players']==2 :\n",
    "#         Score7=Score6+Dropped_2_Plr\n",
    "#         Sess_Helper_Winner.at[i,'Risk_Score']=Score7\n",
    "#     elif Sess_Helper_Winner.loc[i]['Remarks']=='Dropped':\n",
    "#         Score7=Score6+Dropped\n",
    "#         Sess_Helper_Winner.at[i,'Risk_Score']=Score7\n",
    "#     else:\n",
    "#         Score7=Score6\n",
    "    \n",
    "#     if Sess_Helper_Winner.loc[i]['Login_IP_Status']=='Matched':\n",
    "#         Login_IP_List=Sess_Helper_Winner.loc[i]['Login_IP']\n",
    "#         Login_IP_List=str(Login_IP_List)\n",
    "#         list2=list(Login_IP_List.split(','))\n",
    "\n",
    "#         if len(list2)>1:\n",
    "#             Score8=Score7+Login_IP_Status_Cnt\n",
    "#             Sess_Helper_Winner.at[i,'Risk_Score']=Score8\n",
    "#         else:\n",
    "#             Score8=Score7+Login_IP_Status\n",
    "#             Sess_Helper_Winner.at[i,'Risk_Score']=Score8\n",
    "            \n",
    "#     else:\n",
    "#         Score8=Score7\n",
    "        \n",
    "#     if Sess_Helper_Winner.loc[i]['city']=='Matched':\n",
    "#         Score9=Score8+City\n",
    "#         Sess_Helper_Winner.at[i,'Risk_Score']=Score9\n",
    "#     else:\n",
    "#         Score9=Score8\n",
    "        \n",
    "        \n",
    "#     if Sess_Helper_Winner.loc[i]['postal_code']=='Matched':\n",
    "#         Score10=Score9+postal_code\n",
    "#         Sess_Helper_Winner.at[i,'Risk_Score']=Score10\n",
    "#     else:\n",
    "#         Score10=Score9\n",
    "        \n",
    "        \n",
    "#     if Sess_Helper_Winner.loc[i]['device_fingerprint']=='Matched':\n",
    "#         Score11=Score10+device_fingerprint\n",
    "#         Sess_Helper_Winner.at[i,'Risk_Score']=Score11\n",
    "#     else:\n",
    "#         Score11=Score10\n",
    "    \n",
    "#     if Sess_Helper_Winner.loc[i]['registration_ip']=='2 Matched':\n",
    "#         Score12=Score11+registration_ip_Decimal_2\n",
    "#         Sess_Helper_Winner.at[i,'Risk_Score']=Score12\n",
    "#     elif Sess_Helper_Winner.loc[i]['registration_ip']=='3 Matched':\n",
    "#         Score12=Score11+registration_ip_Decimal_3\n",
    "#         Sess_Helper_Winner.at[i,'Risk_Score']=Score12\n",
    "#     elif Sess_Helper_Winner.loc[i]['registration_ip']=='4 Matched':\n",
    "#         Score12=Score11+registration_ip_Decimal_4\n",
    "#         Sess_Helper_Winner.at[i,'Risk_Score']=Score12\n",
    "#     else:\n",
    "#         Score12=Score11\n",
    "        \n",
    "#     if Sess_Helper_Winner.loc[i]['Referral_Status1']=='Matched' or Sess_Helper_Winner.loc[i]['Referral_Status2']=='Matched':\n",
    "#         Score13=Score12+Refer_a_friends\n",
    "#         Sess_Helper_Winner.at[i,'Risk_Score']=Score13\n",
    "#     else:\n",
    "#         Score13=Score12\n",
    "        \n",
    "#     if Sess_Helper_Winner.loc[i]['Media_Source_Status']=='Matched':\n",
    "#         Score14=Score13+Media_Source_Status\n",
    "#         Sess_Helper_Winner.at[i,'Risk_Score']=Score14\n",
    "#     else:\n",
    "#         Score14=Score13\n",
    "        \n",
    "        \n",
    "#-------------------------------------------------------------------------------------------        \n",
    "\n",
    "    if Sess_Helper_Winner.loc[i]['Wrong_Show']==1 :\n",
    "        Score1=Score+Wrong_Show\n",
    "        Sess_Helper_Winner.at[i,'Risk_Score']=Score1\n",
    "    else:\n",
    "        Score1=Score\n",
    "    \n",
    "    if Sess_Helper_Winner.loc[i]['Table_Left']==1 :\n",
    "        Score2=Score1+Table_Left\n",
    "        Sess_Helper_Winner.at[i,'Risk_Score']=Score2\n",
    "    else:\n",
    "        Score2=Score1\n",
    "        \n",
    "    if Sess_Helper_Winner.loc[i]['Dropped']==1 :\n",
    "        Score3=Score2+Dropped\n",
    "        Sess_Helper_Winner.at[i,'Risk_Score']=Score3\n",
    "    else:\n",
    "        Score3=Score2\n",
    "    \n",
    "    if (Sess_Helper_Winner.loc[i]['Winner_KYC']=='MINI' or Sess_Helper_Winner.loc[i]['Helper_KYC']=='MINI'):\n",
    "        Score4=Score3+Mini\n",
    "        Sess_Helper_Winner.at[i,'Risk_Score']=Score4\n",
    "    else:\n",
    "        Score4=Score3\n",
    "    \n",
    "    if Sess_Helper_Winner.loc[i]['Remarks']=='Card Passing':\n",
    "        Score5=Score4+Card_Passing\n",
    "        Sess_Helper_Winner.at[i,'Risk_Score']=Score5\n",
    "    else:\n",
    "        Score5=Score4\n",
    "    \n",
    "    if Sess_Helper_Winner.loc[i]['Remarks']=='Dropped':\n",
    "        Score6=Score5+Dropped\n",
    "        Sess_Helper_Winner.at[i,'Risk_Score']=Score6\n",
    "    else:\n",
    "        Score6=Score5\n",
    "        \n",
    "    if Sess_Helper_Winner.loc[i]['Remarks']=='Wrong Show':\n",
    "        Score7=Score6+Wrong_Show\n",
    "        Sess_Helper_Winner.at[i,'Risk_Score']=Score7\n",
    "    else:\n",
    "        Score7=Score6\n",
    "    \n",
    "    if Sess_Helper_Winner.loc[i]['Remarks']=='Table_Left':\n",
    "        Score8=Score7+Table_Left\n",
    "        Sess_Helper_Winner.at[i,'Risk_Score']=Score8\n",
    "    else:\n",
    "        Score8=Score7\n",
    "        \n",
    "    \n",
    "    if Sess_Helper_Winner.loc[i]['Login_IP_Status']=='Matched':\n",
    "        Login_IP_List=Sess_Helper_Winner.loc[i]['Login_IP']\n",
    "        Login_IP_List=str(Login_IP_List)\n",
    "        list2=list(Login_IP_List.split(','))\n",
    "\n",
    "        if len(list2)>1:\n",
    "            Score9=Score8+Login_IP_Status\n",
    "            Sess_Helper_Winner.at[i,'Risk_Score']=Score9\n",
    "            Sess_Helper_Winner.at[i,'Login IP Count']=len(list2)\n",
    "            \n",
    "        else:\n",
    "            Score9=Score8+Login_IP_Status_Cnt\n",
    "            Sess_Helper_Winner.at[i,'Risk_Score']=Score9\n",
    "            Sess_Helper_Winner.at[i,'Login IP Count']=len(list2)\n",
    "        \n",
    "        \n",
    "    else:\n",
    "        Score9=Score8\n",
    "        \n",
    "    if Sess_Helper_Winner.loc[i]['Media_Source_Name']=='Matched':\n",
    "        Score10=Score9+Media_Source_Status\n",
    "        Sess_Helper_Winner.at[i,'Risk_Score']=Score10\n",
    "    else:\n",
    "        Score10=Score9\n",
    "        \n",
    "        \n",
    "    if Sess_Helper_Winner.loc[i]['Referral_Status1']=='Matched' or Sess_Helper_Winner.loc[i]['Referral_Status2']=='Matched':\n",
    "        Score11=Score10+Refer_a_friends\n",
    "        Sess_Helper_Winner.at[i,'Risk_Score']=Score11\n",
    "    else:\n",
    "        Score11=Score10\n",
    "        \n",
    "        \n",
    "    if Sess_Helper_Winner.loc[i]['city']=='Matched' :\n",
    "        Score12=Score11+City\n",
    "        Sess_Helper_Winner.at[i,'Risk_Score']=Score12\n",
    "    else:\n",
    "        Score12=Score11\n",
    "    \n",
    "    \n",
    "    if Sess_Helper_Winner.loc[i]['postal_code']=='Matched' :\n",
    "        Score13=Score12+postal_code\n",
    "        Sess_Helper_Winner.at[i,'Risk_Score']=Score13\n",
    "    else:\n",
    "        Score13=Score12\n",
    "        \n",
    "    if Sess_Helper_Winner.loc[i]['device_fingerprint']=='Matched' :\n",
    "        Score14=Score13+device_fingerprint\n",
    "        Sess_Helper_Winner.at[i,'Risk_Score']=Score14\n",
    "    else:\n",
    "        Score14=Score13\n",
    "        \n",
    "        \n",
    "    if Sess_Helper_Winner.loc[i]['registration_ip']=='2 Matched':\n",
    "        Score15=Score14+registration_ip_Decimal_2\n",
    "        Sess_Helper_Winner.at[i,'Risk_Score']=Score15\n",
    "    elif Sess_Helper_Winner.loc[i]['registration_ip']=='3 Matched':\n",
    "        Score15=Score14+registration_ip_Decimal_3\n",
    "        Sess_Helper_Winner.at[i,'Risk_Score']=Score15\n",
    "    elif Sess_Helper_Winner.loc[i]['registration_ip']=='4 Matched':\n",
    "        Score15=Score14+registration_ip_Decimal_4\n",
    "        Sess_Helper_Winner.at[i,'Risk_Score']=Score15\n",
    "    else:\n",
    "        Score15=Score14\n",
    "        \n",
    "    if Sess_Helper_Winner.loc[i]['No_of_Players']==2:\n",
    "        Score16=Score15+gm_2_plr\n",
    "        Sess_Helper_Winner.at[i,'Risk_Score']=Score16\n",
    "    else:\n",
    "        Score16=Score15\n",
    "    \n",
    "\n",
    " \n",
    "\n",
    "    if Sess_Helper_Winner.loc[i]['Risk_Score']>100:\n",
    "        Sess_Helper_Winner.at[i,'Risk_Score']=100\n",
    "        \n",
    "        \n",
    "    if (Sess_Helper_Winner.loc[i]['Risk_Score']>=0 and Sess_Helper_Winner.loc[i]['Risk_Score']<=30):\n",
    "        Sess_Helper_Winner.at[i,'Fraud_Status']='Low'\n",
    "    elif (Sess_Helper_Winner.loc[i]['Risk_Score']>=31 and Sess_Helper_Winner.loc[i]['Risk_Score']<=60):\n",
    "        Sess_Helper_Winner.at[i,'Fraud_Status']='Medium'\n",
    "    elif (Sess_Helper_Winner.loc[i]['Risk_Score']>=61 and Sess_Helper_Winner.loc[i]['Risk_Score']<=100):\n",
    "        Sess_Helper_Winner.at[i,'Fraud_Status']='High'\n",
    "        \n",
    "\n",
    "        \n",
    "    \n",
    "        \n",
    "        \n",
    "\n",
    "        \n",
    "\n",
    "Sess_Helper_Winner=Sess_Helper_Winner.astype({'session_id':'int64','Winner':'int64','Winning':'object','Helper':'int64','Winner_User':'object','Helper_User':'object',\n",
    "                                              'Wrong_Show':'object','Table_Left':'object','Dropped':'object','Withdrawal_Request':'float64','Winner_KYC':'object',\n",
    "                                              'Helper_KYC':'object','Remarks':'object','Login_IP_Status':'object','Login_IP':'object','Media_Source_Name':'object',\n",
    "                                              'Media_Source_Status':'object','Referral_Status1':'object','Referral_Status2':'object','Helper_domain':'int64','Winner_domain':'int64',\n",
    "                                              'city':'object','postal_code':'object','device_fingerprint':'object','registration_ip':'object','game_type':'object',\n",
    "                                              'Game_name':'object','No_of_Players':'int64','room_id':'int64','Winner_Email_ID':'object',\n",
    "                                              'Winner_Mobile_ID':'object','Helper_Email_ID':'object','Helper_Mobile_ID':'object','Risk_Score':'int64','Fraud_Status':'object'})        \n"
   ]
  },
  {
   "cell_type": "code",
   "execution_count": null,
   "id": "325134bd-d305-4a8e-a7ba-aa02b8e5a634",
   "metadata": {},
   "outputs": [],
   "source": []
  },
  {
   "cell_type": "code",
   "execution_count": 72,
   "id": "fa3a95d4-7ba7-4033-a186-24613978a09b",
   "metadata": {},
   "outputs": [
    {
     "data": {
      "text/plain": [
       "36    100\n",
       "Name: Risk_Score, dtype: int64"
      ]
     },
     "execution_count": 72,
     "metadata": {},
     "output_type": "execute_result"
    }
   ],
   "source": [
    "Sess_Helper_Winner[Sess_Helper_Winner['session_id']==114674611]['Risk_Score']"
   ]
  },
  {
   "cell_type": "code",
   "execution_count": 71,
   "id": "f5ed9b5f-5b20-439a-874e-9833d3df064d",
   "metadata": {},
   "outputs": [],
   "source": [
    "\n",
    "Sess_Helper_Winner.to_excel('C:/Users/Sanjay Prajapati/Desktop/Scoring Result.xlsx',index=False)"
   ]
  },
  {
   "cell_type": "code",
   "execution_count": null,
   "id": "6456fd61-be6f-4a45-bc05-e6cda663da3a",
   "metadata": {},
   "outputs": [],
   "source": []
  },
  {
   "cell_type": "code",
   "execution_count": 200,
   "id": "58ddb7da-5e60-4ad1-8d95-af71a7d8dc4b",
   "metadata": {
    "tags": []
   },
   "outputs": [
    {
     "name": "stdout",
     "output_type": "stream",
     "text": [
      "None\n"
     ]
    },
    {
     "data": {
      "text/plain": [
       "-1"
      ]
     },
     "execution_count": 200,
     "metadata": {},
     "output_type": "execute_result"
    }
   ],
   "source": [
    "import pandas as pd\n",
    "import sqlalchemy\n",
    "from sqlalchemy.engine import URL\n",
    "from sqlalchemy import Table, Column, Integer, String, MetaData, BigInteger, Float, DateTime\n",
    "\n",
    "\n",
    "\n",
    "driver='{ODBC Driver 17 for SQL Server}'\n",
    "server='DESKTOP-0UG3I5P'\n",
    "database='test'\n",
    "trusted_connection='yes'\n",
    "\n",
    "# pyodbc connection string\n",
    "connection_string = f'DRIVER={driver};SERVER={server};'\n",
    "connection_string += f'DATABASE={database};'\n",
    "connection_string += f'TRUSTED_CONNECTION={trusted_connection}'\n",
    "\n",
    "# create sqlalchemy engine connection URL\n",
    "connection_url = URL.create(\"mssql+pyodbc\", query={\"odbc_connect\": connection_string})\n",
    "\n",
    "\"\"\" more code not shown that uses pyodbc without sqlalchemy \"\"\"\n",
    "engine = sqlalchemy.create_engine(connection_url)\n",
    "\n",
    "\n",
    "meta = MetaData()\n",
    "\n",
    "\n",
    "Sess_df = Table(\n",
    "   'Sess_Helper_Winner', meta, \n",
    "   Column('session_id', BigInteger), \n",
    "   Column('Winner', BigInteger), \n",
    "   Column('Winning', Float), \n",
    "    Column('Helper', BigInteger), \n",
    "    Column('Winner_User', String), \n",
    "    Column('Helper_User', String), \n",
    "    Column('Wrong_Show', Float), \n",
    "    Column('Table_Left', Float), \n",
    "    Column('Dropped', Float), \n",
    "    Column('Withdrawal_Request', Float), \n",
    "    Column('Winner_KYC', String), \n",
    "    Column('Helper_KYC', String), \n",
    "    Column('Remarks', String), \n",
    "    Column('Login_IP_Status', String), \n",
    "    Column('Login_IP', String), \n",
    "    Column('Helper_domain', BigInteger), \n",
    "    Column('Winner_domain', BigInteger), \n",
    "    Column('city', String),\n",
    "    Column('postal_code', String), \n",
    "    Column('device_fingerprint', String), \n",
    "    Column('registration_ip', String), \n",
    "    Column('game_type', String), \n",
    "    Column('Game_name', String), \n",
    "    Column('No_of_Players', BigInteger), \n",
    "    Column('sess_start_time', DateTime), \n",
    "    Column('sess_end_time', DateTime), \n",
    "    Column('room_id', BigInteger),\n",
    "    Column('Winner_Email_ID', String), \n",
    "    Column('Winner_Mobile_ID', String), \n",
    "    Column('Helper_Email_ID', String), \n",
    "    Column('Helper_Mobile_ID', String),\n",
    "    Column('Risk_Score', String), \n",
    "    Column('Fraud_Status', String),\n",
    "    \n",
    ")\n",
    "meta.create_all(engine)\n",
    "\n",
    "print(meta.create_all(engine))\n",
    "\n",
    "\n",
    "# sql_query=('select * from airport')\n",
    "# conn=engine.connect()\n",
    "# result = conn.execute(sql_query)\n",
    "\n",
    "\n",
    "Sess_Helper_Winner.to_sql('Sess_Helper_Winner', engine, if_exists=\"append\", index=False)\n",
    "\n",
    "\n",
    "#conn.close()\n",
    "\n",
    "\n",
    "\n",
    "#Sess_Helper_Winner\n"
   ]
  },
  {
   "cell_type": "code",
   "execution_count": 167,
   "id": "b011e41a-98b0-4b82-bd11-2053877649db",
   "metadata": {
    "tags": []
   },
   "outputs": [
    {
     "data": {
      "text/plain": [
       "session_id                     int64\n",
       "Winner                         int64\n",
       "Winning                      float64\n",
       "Helper                         int64\n",
       "Winner_User                   object\n",
       "Helper_User                   object\n",
       "Wrong_Show                   float64\n",
       "Table_Left                   float64\n",
       "Dropped                      float64\n",
       "Withdrawal_Request           float64\n",
       "Winner_KYC                    object\n",
       "Helper_KYC                    object\n",
       "Remarks                       object\n",
       "Login_IP_Status               object\n",
       "Login_IP                      object\n",
       "Helper_domain                  int64\n",
       "Winner_domain                  int64\n",
       "city                          object\n",
       "postal_code                   object\n",
       "device_fingerprint            object\n",
       "registration_ip               object\n",
       "game_type                     object\n",
       "Game_name                     object\n",
       "No_of_Players                  int64\n",
       "sess_start_time       datetime64[ns]\n",
       "sess_end_time         datetime64[ns]\n",
       "room_id                        int64\n",
       "Winner_Email_ID               object\n",
       "Winner_Mobile_ID              object\n",
       "Helper_Email_ID               object\n",
       "Helper_Mobile_ID              object\n",
       "Risk_Score                     int64\n",
       "Fraud_Status                  object\n",
       "dtype: object"
      ]
     },
     "execution_count": 167,
     "metadata": {},
     "output_type": "execute_result"
    }
   ],
   "source": [
    "#Sess_Helper_Winner.dtypes\n",
    "# Sess_Helper_Winner=Sess_Helper_Winner.astype({'city':'object','postal_code':'object','device_fingerprint':'object','Winner_Email_ID':'object',\n",
    "#                                               'Winner_Mobile_ID':'object','Helper_Email_ID':'object','Helper_Mobile_ID':'object'})\n",
    "Sess_Helper_Winner.dtypes\n",
    "                      \n",
    "                      \n",
    "# import pyodbc \n",
    "\n",
    "# conn = pyodbc.connect('Driver={ODBC Driver 17 for SQL Server};'\n",
    "#                       'Server=DESKTOP-0UG3I5P;'\n",
    "#                       'Database=test;'\n",
    "#                       'Trusted_Connection=yes;')\n",
    "\n",
    "# cursor = conn.cursor()\n",
    "# cursor.execute('SELECT * FROM airport')\n",
    "\n",
    "# for i in cursor:\n",
    "#     print(i)                      "
   ]
  },
  {
   "cell_type": "code",
   "execution_count": 3,
   "id": "c57717a9-8986-43c3-b5dc-80bbb2a41ac8",
   "metadata": {},
   "outputs": [
    {
     "name": "stdout",
     "output_type": "stream",
     "text": [
      "E:\\Data Science with Python\n"
     ]
    }
   ],
   "source": [
    "cd ..\\.."
   ]
  },
  {
   "cell_type": "code",
   "execution_count": 9,
   "id": "fccf97ba-10f0-48ed-9847-f3a2052e1409",
   "metadata": {},
   "outputs": [
    {
     "name": "stdout",
     "output_type": "stream",
     "text": [
      "E:\\Data Science with Python\n"
     ]
    }
   ],
   "source": [
    "cd \"Data Science with Python\"\n"
   ]
  },
  {
   "cell_type": "code",
   "execution_count": 4,
   "id": "96be7798-ed11-45df-b37b-fe9d78e1d6a8",
   "metadata": {},
   "outputs": [
    {
     "name": "stdout",
     "output_type": "stream",
     "text": [
      "   column1  column2\n",
      "0        1        6\n",
      "1        2        7\n",
      "2        3        8\n",
      "3        4        9\n",
      "4        5        0\n"
     ]
    }
   ],
   "source": [
    "!python hello_world.py"
   ]
  },
  {
   "cell_type": "code",
   "execution_count": 31,
   "id": "995c4079-9751-45e5-9489-2d9518e6e612",
   "metadata": {},
   "outputs": [
    {
     "name": "stdout",
     "output_type": "stream",
     "text": [
      " Volume in drive E has no label.\n",
      " Volume Serial Number is 2C07-635D\n",
      "\n",
      " Directory of E:\\Data Science with Python\n",
      "\n",
      "19-Oct-22  09:05 PM    <DIR>          .\n",
      "19-Oct-22  09:05 PM    <DIR>          ..\n",
      "08-Jun-22  07:02 PM    <DIR>          .ipynb_checkpoints\n",
      "19-Oct-22  09:05 PM    <DIR>          __pycache__\n",
      "05-Feb-22  10:19 PM    <DIR>          Churn Prediction\n",
      "03-Sep-22  02:05 PM    <DIR>          Fraud alert\n",
      "19-Oct-22  09:12 PM               158 hello_world.py\n",
      "11-Jun-22  08:48 PM    <DIR>          Learn\n",
      "21-May-22  03:57 PM        15,984,842 pandas.pdf\n",
      "23-Apr-22  06:51 PM    <DIR>          Predictin Next Purchase day\n",
      "12-May-22  07:31 PM    <DIR>          python\n",
      "08-Oct-22  03:46 PM    <DIR>          Sanjay\n",
      "11-Jun-22  08:48 PM    <DIR>          Stock\n",
      "22-Jan-22  06:49 PM    <DIR>          Test1\n",
      "               2 File(s)     15,985,000 bytes\n",
      "              12 Dir(s)  37,526,061,056 bytes free\n"
     ]
    }
   ],
   "source": [
    "ls"
   ]
  },
  {
   "cell_type": "code",
   "execution_count": 6,
   "id": "08fdfc53-38d5-48b6-8584-40033c163cba",
   "metadata": {},
   "outputs": [
    {
     "name": "stdout",
     "output_type": "stream",
     "text": [
      "1 6\n",
      "1 7\n",
      "1 8\n",
      "1 9\n",
      "1 0\n",
      "2 6\n",
      "2 7\n",
      "2 8\n",
      "2 9\n",
      "2 0\n",
      "3 6\n",
      "3 7\n",
      "3 8\n",
      "3 9\n",
      "3 0\n",
      "4 6\n",
      "4 7\n",
      "4 8\n",
      "4 9\n",
      "4 0\n",
      "5 6\n",
      "5 7\n",
      "5 8\n",
      "5 9\n",
      "5 0\n"
     ]
    }
   ],
   "source": [
    "import hello_world\n",
    "import pandas as pd\n",
    "\n",
    "a=1\n",
    "b=2\n",
    "#print(hello_world.dic1)\n",
    "\n",
    "df=pd.DataFrame(hello_world.dic1)\n",
    "\n",
    "#df\n",
    "\n",
    "\n",
    "for i in range(len(df)):\n",
    "    for j in range(len(df)):\n",
    "        print(df.loc[i][\"column1\"],df.loc[j][\"column2\"])"
   ]
  },
  {
   "cell_type": "code",
   "execution_count": 27,
   "id": "11b4c2ea-811f-481b-a8f7-330eddd52684",
   "metadata": {},
   "outputs": [],
   "source": [
    "passs=\"hell world\""
   ]
  },
  {
   "cell_type": "code",
   "execution_count": null,
   "id": "5097e798-705a-4aac-9349-9164242a0fb8",
   "metadata": {},
   "outputs": [],
   "source": []
  }
 ],
 "metadata": {
  "kernelspec": {
   "display_name": "Python 3 (ipykernel)",
   "language": "python",
   "name": "python3"
  },
  "language_info": {
   "codemirror_mode": {
    "name": "ipython",
    "version": 3
   },
   "file_extension": ".py",
   "mimetype": "text/x-python",
   "name": "python",
   "nbconvert_exporter": "python",
   "pygments_lexer": "ipython3",
   "version": "3.10.5"
  }
 },
 "nbformat": 4,
 "nbformat_minor": 5
}
