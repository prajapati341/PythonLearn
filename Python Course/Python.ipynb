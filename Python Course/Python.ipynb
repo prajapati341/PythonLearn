{
 "cells": [
  {
   "cell_type": "code",
   "execution_count": 1,
   "id": "0925c68b-1c28-4ca8-adc2-98f30923948f",
   "metadata": {},
   "outputs": [
    {
     "name": "stdout",
     "output_type": "stream",
     "text": [
      "llo\n"
     ]
    }
   ],
   "source": [
    "b = \"Hello, World!\"\n",
    "print(b[2:5])"
   ]
  },
  {
   "cell_type": "code",
   "execution_count": 2,
   "id": "93cc3e8d-efab-4ef4-a1ea-37d14dc7d025",
   "metadata": {},
   "outputs": [
    {
     "name": "stdout",
     "output_type": "stream",
     "text": [
      "['Hello', ' World!']\n"
     ]
    }
   ],
   "source": [
    "a = \"Hello, World!\"\n",
    "b = a.split(\",\")\n",
    "print(b)\n"
   ]
  },
  {
   "cell_type": "code",
   "execution_count": 3,
   "id": "ca0ea503-7314-45fe-b399-ef8d5dae743e",
   "metadata": {},
   "outputs": [
    {
     "name": "stdout",
     "output_type": "stream",
     "text": [
      "HelloWorld\n"
     ]
    }
   ],
   "source": [
    "a = \"Hello\"\n",
    "b = \"World\"\n",
    "c = a + b\n",
    "print(c)"
   ]
  },
  {
   "cell_type": "code",
   "execution_count": 5,
   "id": "df1cdc97-1041-43e9-b591-17e83c1b9b18",
   "metadata": {},
   "outputs": [
    {
     "name": "stdout",
     "output_type": "stream",
     "text": [
      "Hello World\n"
     ]
    }
   ],
   "source": [
    "print(a+\" \"+b)"
   ]
  },
  {
   "cell_type": "code",
   "execution_count": 6,
   "id": "96794509-0f13-4648-8d82-ff2636a50e5b",
   "metadata": {},
   "outputs": [
    {
     "name": "stdout",
     "output_type": "stream",
     "text": [
      "My name is John, and I am 36\n"
     ]
    }
   ],
   "source": [
    "age = 36\n",
    "\n",
    "txt = \"My name is John, and I am {}\"\n",
    "print(txt.format(age))"
   ]
  },
  {
   "cell_type": "code",
   "execution_count": 7,
   "id": "d94ed957-6851-47eb-8363-1b997ca33681",
   "metadata": {},
   "outputs": [
    {
     "name": "stdout",
     "output_type": "stream",
     "text": [
      "I want 3 pieces of item 567 for 49.95 dollars.\n"
     ]
    }
   ],
   "source": [
    "quantity = 3\n",
    "itemno = 567\n",
    "price = 49.95\n",
    "myorder = \"I want {} pieces of item {} for {} dollars.\"\n",
    "print(myorder.format(quantity, itemno, price))"
   ]
  },
  {
   "cell_type": "code",
   "execution_count": 1,
   "id": "448ec983-2c3f-4bb9-8c04-8358c8e364bf",
   "metadata": {},
   "outputs": [
    {
     "name": "stdout",
     "output_type": "stream",
     "text": [
      "I want to pay 49.95 dollars for 3 pieces of item 567.\n"
     ]
    }
   ],
   "source": [
    "quantity = 3\n",
    "itemno = 567\n",
    "price = 49.95\n",
    "myorder = \"I want to pay {2} dollars for {0} pieces of item {1}.\"\n",
    "print(myorder.format(quantity, itemno, price))"
   ]
  },
  {
   "cell_type": "code",
   "execution_count": 13,
   "id": "acb2722f-5b5b-4c22-8b84-d09f50752914",
   "metadata": {},
   "outputs": [
    {
     "data": {
      "text/plain": [
       "['Ravi', 'Suraj', 'vinod']"
      ]
     },
     "execution_count": 13,
     "metadata": {},
     "output_type": "execute_result"
    }
   ],
   "source": [
    "a=[\"Ravi\",\"Suraj\",\"vinod\"]\n",
    "quantity = 3\n",
    "#title=\"one is {} two is {} and another one is {}\"\n",
    "#print(title.format(a[]))\n",
    "\n",
    "a"
   ]
  },
  {
   "cell_type": "code",
   "execution_count": 1,
   "id": "732598f4-ed96-42df-95a1-78b2c9670190",
   "metadata": {},
   "outputs": [
    {
     "name": "stdout",
     "output_type": "stream",
     "text": [
      "True\n"
     ]
    }
   ],
   "source": [
    "x = 200\n",
    "print(isinstance(x, int))"
   ]
  },
  {
   "cell_type": "code",
   "execution_count": 24,
   "id": "9be3bb18-df44-4583-91f9-476c3cdd719b",
   "metadata": {},
   "outputs": [
    {
     "name": "stdout",
     "output_type": "stream",
     "text": [
      "<class 'list'>\n"
     ]
    }
   ],
   "source": [
    "mylist = [\"apple\",0, \"cherry\"]\n",
    "print(type(mylist))"
   ]
  },
  {
   "cell_type": "code",
   "execution_count": 25,
   "id": "b0b45cbe-ad18-48a3-8906-6660b257aeb2",
   "metadata": {},
   "outputs": [
    {
     "name": "stdout",
     "output_type": "stream",
     "text": [
      "apple\n",
      "banana\n",
      "cherry\n"
     ]
    }
   ],
   "source": [
    "thislist = [\"apple\", \"banana\", \"cherry\"]\n",
    "for x in thislist:\n",
    "    print(x)"
   ]
  },
  {
   "cell_type": "code",
   "execution_count": 28,
   "id": "cff805ac-ff4c-49bc-992f-4f9db4392a94",
   "metadata": {},
   "outputs": [
    {
     "name": "stdout",
     "output_type": "stream",
     "text": [
      "apple\n",
      "banana\n",
      "cherry\n"
     ]
    }
   ],
   "source": [
    "for i in range(len(thislist)):\n",
    "    print(thislist[i])"
   ]
  },
  {
   "cell_type": "code",
   "execution_count": 29,
   "id": "3984beef-4178-43f4-a542-85106f0ce937",
   "metadata": {},
   "outputs": [
    {
     "name": "stdout",
     "output_type": "stream",
     "text": [
      "apple\n",
      "banana\n",
      "cherry\n"
     ]
    }
   ],
   "source": [
    "thislist = [\"apple\", \"banana\", \"cherry\"]\n",
    "i=0\n",
    "while i < len(thislist):\n",
    "    print(thislist[i])\n",
    "    i=i+1\n"
   ]
  },
  {
   "cell_type": "code",
   "execution_count": 30,
   "id": "181aad65-29d0-4d20-94e3-d4855a22733e",
   "metadata": {},
   "outputs": [
    {
     "name": "stdout",
     "output_type": "stream",
     "text": [
      "3\n"
     ]
    }
   ],
   "source": [
    "print(len(thislist))"
   ]
  },
  {
   "cell_type": "code",
   "execution_count": 31,
   "id": "594c18b2-04c1-41f9-b4d2-fae10ccd93f7",
   "metadata": {},
   "outputs": [
    {
     "name": "stdout",
     "output_type": "stream",
     "text": [
      "apple\n",
      "banana\n",
      "cherry\n"
     ]
    },
    {
     "data": {
      "text/plain": [
       "[None, None, None]"
      ]
     },
     "execution_count": 31,
     "metadata": {},
     "output_type": "execute_result"
    }
   ],
   "source": [
    "thislist = [\"apple\", \"banana\", \"cherry\"]\n",
    "[print(x) for x in thislist]"
   ]
  },
  {
   "cell_type": "raw",
   "id": "6af7a4e7-f245-40ad-807d-f0c8f21ada18",
   "metadata": {},
   "source": [
    "fruits = [\"apple\", \"banana\", \"cherry\", \"kiwi\", \"mango\"]\n",
    "newslist=newlist=[]"
   ]
  },
  {
   "cell_type": "code",
   "execution_count": 53,
   "id": "815a310d-45fe-4db2-9fe3-2b1d76419ec4",
   "metadata": {},
   "outputs": [
    {
     "name": "stdout",
     "output_type": "stream",
     "text": [
      "['apple', 'banana', 'mango']\n"
     ]
    }
   ],
   "source": [
    "fruits = [\"apple\", \"banana\", \"cherry\", \"kiwi\", \"mango\"]\n",
    "newlist=[]\n",
    "\n",
    "for x in fruits:\n",
    "    if \"a\" in x:\n",
    "        newlist.append(x)\n",
    "\n",
    "print(newlist)"
   ]
  },
  {
   "cell_type": "code",
   "execution_count": 69,
   "id": "85ce89d1-6f55-47f9-8a85-04b9675fcc32",
   "metadata": {},
   "outputs": [],
   "source": [
    "newlist.clear()"
   ]
  },
  {
   "cell_type": "code",
   "execution_count": 57,
   "id": "c97b88bb-a34d-4240-b264-136985b9db46",
   "metadata": {},
   "outputs": [],
   "source": [
    "newlist=[x for x in fruits if \"a\" in x]"
   ]
  },
  {
   "cell_type": "code",
   "execution_count": 58,
   "id": "08466ff2-d32b-4f8c-ae27-5e8e06ffe536",
   "metadata": {},
   "outputs": [
    {
     "name": "stdout",
     "output_type": "stream",
     "text": [
      "['apple', 'banana', 'mango']\n"
     ]
    }
   ],
   "source": [
    "print(newlist)"
   ]
  },
  {
   "cell_type": "code",
   "execution_count": 76,
   "id": "9cf79167-11b7-4efd-bc16-e6f0709677e7",
   "metadata": {},
   "outputs": [
    {
     "name": "stdout",
     "output_type": "stream",
     "text": [
      "['banana', 'cherry', 'kiwi', 'mango']\n"
     ]
    }
   ],
   "source": [
    "fruits = [\"apple\", \"banana\", \"cherry\", \"kiwi\", \"mango\"]\n",
    "\n",
    "newlist=[]\n",
    "\n",
    "for x in fruits:\n",
    "    if x!=\"apple\":\n",
    "        newlist.append(x)\n",
    "\n",
    "print(newlist)        "
   ]
  },
  {
   "cell_type": "code",
   "execution_count": 66,
   "id": "2bb400df-a173-4f5e-a282-039dde1911d1",
   "metadata": {},
   "outputs": [
    {
     "name": "stdout",
     "output_type": "stream",
     "text": [
      "[]\n"
     ]
    }
   ],
   "source": [
    "print(newlist)     "
   ]
  },
  {
   "cell_type": "code",
   "execution_count": 91,
   "id": "22985e83-052c-48e7-a64b-16380419254a",
   "metadata": {},
   "outputs": [],
   "source": [
    "newlist=[x  if \"apple\" !=x else \"apple2\" for x in fruits]\n"
   ]
  },
  {
   "cell_type": "code",
   "execution_count": 72,
   "id": "5b022256-830f-4a23-93f0-153187865a81",
   "metadata": {},
   "outputs": [
    {
     "name": "stdout",
     "output_type": "stream",
     "text": [
      "[0, 1, 2, 3, 4, 5, 6, 7, 8, 9]\n"
     ]
    }
   ],
   "source": [
    "print(newlist)"
   ]
  },
  {
   "cell_type": "code",
   "execution_count": 71,
   "id": "b5f36264-c574-49c9-9dc6-213006b2ad5f",
   "metadata": {},
   "outputs": [],
   "source": [
    "newlist=[x for x in range(10)]"
   ]
  },
  {
   "cell_type": "code",
   "execution_count": 85,
   "id": "f5cb914c-ca68-40eb-ba5a-026897378bf1",
   "metadata": {},
   "outputs": [],
   "source": [
    "newlist.clear()"
   ]
  },
  {
   "cell_type": "code",
   "execution_count": 78,
   "id": "3bbc2ba2-ffde-418a-b871-098488a08c19",
   "metadata": {},
   "outputs": [],
   "source": [
    "newlist=[x.upper() for x in fruits]"
   ]
  },
  {
   "cell_type": "code",
   "execution_count": 92,
   "id": "f35a750f-3a13-4740-98b8-3d209b4e00be",
   "metadata": {},
   "outputs": [
    {
     "name": "stdout",
     "output_type": "stream",
     "text": [
      "['apple2', 'banana', 'cherry', 'kiwi', 'mango']\n"
     ]
    }
   ],
   "source": [
    "print(newlist)"
   ]
  },
  {
   "cell_type": "code",
   "execution_count": 80,
   "id": "45cd1a83-0729-4658-817e-a3f4124ccaa7",
   "metadata": {},
   "outputs": [],
   "source": [
    "del newlist1,newlis"
   ]
  },
  {
   "cell_type": "code",
   "execution_count": 95,
   "id": "5998e7f8-bf72-43b1-ac92-fa6e39e9a595",
   "metadata": {},
   "outputs": [
    {
     "name": "stdout",
     "output_type": "stream",
     "text": [
      "['apple', 'organe', 'cherry', 'kiwi', 'mango']\n"
     ]
    }
   ],
   "source": [
    "newlist = [x if x!=\"banana\" else \"organe\" for x in fruits]\n",
    "print(newlist)"
   ]
  },
  {
   "cell_type": "code",
   "execution_count": 96,
   "id": "f5e8009c-792c-468d-ace3-6aaf6dc0aeba",
   "metadata": {},
   "outputs": [
    {
     "name": "stdout",
     "output_type": "stream",
     "text": [
      "[23, 50, 65, 82, 100]\n"
     ]
    }
   ],
   "source": [
    "def myfunc(n):\n",
    "  return abs(n - 50)\n",
    "\n",
    "thislist = [100, 50, 65, 82, 23]\n",
    "#thislist.sort(key = myfunc)\n",
    "thislist.sort()\n",
    "print(thislist)"
   ]
  },
  {
   "cell_type": "code",
   "execution_count": 110,
   "id": "d8371f27-0135-4021-bf2e-862c6b9c9f0a",
   "metadata": {},
   "outputs": [],
   "source": [
    "list1 = [\"a\", \"b\" , \"c\"]\n",
    "list2 = [1, 2, 3]\n",
    "\n",
    "#list3=[list1.append(x) for x in list2]\n",
    "    "
   ]
  },
  {
   "cell_type": "code",
   "execution_count": 111,
   "id": "b3d9ad78-cf7b-4661-a4d2-48548126ba58",
   "metadata": {},
   "outputs": [
    {
     "name": "stdout",
     "output_type": "stream",
     "text": [
      "['a', 'b', 'c']\n"
     ]
    }
   ],
   "source": [
    "print(list1)"
   ]
  },
  {
   "cell_type": "code",
   "execution_count": 113,
   "id": "29ff2973-4316-4095-8afa-5eb662d553d2",
   "metadata": {},
   "outputs": [
    {
     "name": "stdout",
     "output_type": "stream",
     "text": [
      "['a', 'b', 'c', 1, 2, 3, 1, 2, 3]\n"
     ]
    }
   ],
   "source": [
    "list1.extend(list2)\n",
    "print(list1)"
   ]
  },
  {
   "cell_type": "code",
   "execution_count": 114,
   "id": "4c196263-0928-49af-b822-0da5f84fcc72",
   "metadata": {},
   "outputs": [
    {
     "name": "stdout",
     "output_type": "stream",
     "text": [
      "{'child1': {'name': 'Emil', 'year': 2004}, 'child2': {'name': 'Tobias', 'year': 2007}, 'child3': {'name': 'Linus', 'year': 2011}}\n"
     ]
    }
   ],
   "source": [
    "myfamily = {\n",
    "  \"child1\" : {\n",
    "    \"name\" : \"Emil\",\n",
    "    \"year\" : 2004\n",
    "  },\n",
    "  \"child2\" : {\n",
    "    \"name\" : \"Tobias\",\n",
    "    \"year\" : 2007\n",
    "  },\n",
    "  \"child3\" : {\n",
    "    \"name\" : \"Linus\",\n",
    "    \"year\" : 2011\n",
    "  }\n",
    "}\n",
    "\n",
    "print(myfamily)\n"
   ]
  },
  {
   "cell_type": "code",
   "execution_count": 115,
   "id": "d3e07e0e-1b91-400f-9c3e-b5106f3a6a81",
   "metadata": {},
   "outputs": [],
   "source": [
    "import pandas as pd\n",
    "df=pd.DataFrame(myfamily)"
   ]
  },
  {
   "cell_type": "code",
   "execution_count": 118,
   "id": "666db5a0-d9a5-482d-ba09-ea8876374e85",
   "metadata": {},
   "outputs": [
    {
     "name": "stdout",
     "output_type": "stream",
     "text": [
      "Hello from a function\n"
     ]
    }
   ],
   "source": [
    "def my_function():\n",
    "  print(\"Hello from a function\")\n",
    "\n",
    "my_function()"
   ]
  },
  {
   "cell_type": "code",
   "execution_count": 19,
   "id": "462061e1-bf82-4a6e-b112-5683686b702b",
   "metadata": {},
   "outputs": [
    {
     "name": "stdout",
     "output_type": "stream",
     "text": [
      "my name is Pushpa\n",
      "<built-in method count of tuple object at 0x000001A93AF905C0>\n"
     ]
    }
   ],
   "source": [
    "def test_function(*get_name):\n",
    "    print(\"my name is \"+get_name[1])\n",
    "    print(get_name.count)\n",
    "    \n",
    "test_function(\"Sanjay\",\"Pushpa\")"
   ]
  },
  {
   "cell_type": "code",
   "execution_count": 1,
   "id": "9d3edafc-95aa-49fe-9d9b-5a42c691831b",
   "metadata": {},
   "outputs": [
    {
     "name": "stdout",
     "output_type": "stream",
     "text": [
      "\n",
      "\n",
      "Recursion Example Results\n",
      "1\n",
      "3\n",
      "6\n",
      "10\n",
      "15\n",
      "21\n"
     ]
    },
    {
     "data": {
      "text/plain": [
       "21"
      ]
     },
     "execution_count": 1,
     "metadata": {},
     "output_type": "execute_result"
    }
   ],
   "source": [
    "def tri_recursion(k):\n",
    "  if(k > 0):\n",
    "    result = k + tri_recursion(k - 1)\n",
    "    print(result)\n",
    "  else:\n",
    "    result = 0\n",
    "  return result\n",
    "\n",
    "print(\"\\n\\nRecursion Example Results\")\n",
    "tri_recursion(6)"
   ]
  },
  {
   "cell_type": "code",
   "execution_count": 6,
   "id": "25537a67-6c68-42d1-a42f-4f9cf98b9276",
   "metadata": {},
   "outputs": [
    {
     "name": "stdout",
     "output_type": "stream",
     "text": [
      "7\n"
     ]
    }
   ],
   "source": [
    "x=lambda a:a+2\n",
    "print(x(5))"
   ]
  },
  {
   "cell_type": "code",
   "execution_count": 4,
   "id": "8568a8d7-4d88-4fc2-8d15-d54fc1463722",
   "metadata": {},
   "outputs": [
    {
     "name": "stdout",
     "output_type": "stream",
     "text": [
      "10\n"
     ]
    }
   ],
   "source": [
    "x=lambda a,b : a+b\n",
    "print(x(5,5))"
   ]
  },
  {
   "cell_type": "code",
   "execution_count": 8,
   "id": "bc5ce623-8f1a-4bea-99b2-1922bc9a206d",
   "metadata": {},
   "outputs": [
    {
     "name": "stdout",
     "output_type": "stream",
     "text": [
      "25\n"
     ]
    }
   ],
   "source": [
    "def test_function(a):\n",
    "    return a*a\n",
    "\n",
    "print(test_function(5))"
   ]
  },
  {
   "cell_type": "code",
   "execution_count": 25,
   "id": "a1c68747-0986-4c9a-b1d1-9525dd09e003",
   "metadata": {},
   "outputs": [
    {
     "name": "stdout",
     "output_type": "stream",
     "text": [
      "22\n"
     ]
    }
   ],
   "source": [
    "def myfunc(n):\n",
    "   return lambda a : a * n\n",
    "  \n",
    "\n",
    "mytrhi = myfunc(2)\n",
    "\n",
    "print(mytrhi(11))\n"
   ]
  },
  {
   "cell_type": "code",
   "execution_count": 7,
   "id": "654ae2dd-4bb2-4e61-914a-350b2fdcdb47",
   "metadata": {},
   "outputs": [
    {
     "name": "stdout",
     "output_type": "stream",
     "text": [
      "Ford\n",
      "Volvo\n",
      "BMW\n"
     ]
    }
   ],
   "source": [
    "cars = [\"Ford\", \"Volvo\", \"BMW\"]\n",
    "\n",
    "for x in cars:\n",
    "    print(x)"
   ]
  },
  {
   "cell_type": "code",
   "execution_count": 29,
   "id": "7df84d92-d02a-47a2-8962-75af1a7bea51",
   "metadata": {},
   "outputs": [],
   "source": [
    "cars.append(\"TATA\")"
   ]
  },
  {
   "cell_type": "code",
   "execution_count": 34,
   "id": "6ffdf846-70be-483f-af1f-6901f44e920c",
   "metadata": {},
   "outputs": [
    {
     "data": {
      "text/plain": [
       "3"
      ]
     },
     "execution_count": 34,
     "metadata": {},
     "output_type": "execute_result"
    }
   ],
   "source": [
    "cars.index(\"TATA\")"
   ]
  },
  {
   "cell_type": "code",
   "execution_count": 36,
   "id": "034ba48f-c972-45fa-8246-d27a6d913f2d",
   "metadata": {},
   "outputs": [
    {
     "data": {
      "text/plain": [
       "['Ford', 'Volvo', 'BMW', 'TATA']"
      ]
     },
     "execution_count": 36,
     "metadata": {},
     "output_type": "execute_result"
    }
   ],
   "source": [
    "cars"
   ]
  },
  {
   "cell_type": "code",
   "execution_count": 39,
   "id": "37746811-6063-4fcb-b999-78ea61586d5e",
   "metadata": {},
   "outputs": [
    {
     "name": "stdout",
     "output_type": "stream",
     "text": [
      "5\n"
     ]
    }
   ],
   "source": [
    "class MyClass:\n",
    "  x = 5\n",
    "\n",
    "\n",
    "p1=MyClass()\n",
    "print(p1.x)"
   ]
  },
  {
   "cell_type": "code",
   "execution_count": 50,
   "id": "01ceb30a-21c2-49f3-8e24-47a879ee1412",
   "metadata": {},
   "outputs": [
    {
     "name": "stdout",
     "output_type": "stream",
     "text": [
      "Sanjay\n",
      "Chakravarti\n",
      "Hello my name is Sanjay\n"
     ]
    }
   ],
   "source": [
    "class person:\n",
    "    def __init__(a,first,last):\n",
    "        a.first_name=first\n",
    "        a.last_name=last\n",
    "        \n",
    "    def myfunc(a):\n",
    "        print(\"Hello my name is \" + a.first_name)\n",
    "        \n",
    "p1=person(\"Sanjay\",\"Prajapati\")\n",
    "p1.last_name=\"Chakravarti\"\n",
    "\n",
    "print(p1.first_name)\n",
    "print(p1.last_name)\n",
    "\n",
    "p1.myfunc()"
   ]
  },
  {
   "cell_type": "code",
   "execution_count": 4,
   "id": "1f5e6319-11c8-43ce-a4e7-333970aac26b",
   "metadata": {},
   "outputs": [
    {
     "name": "stdout",
     "output_type": "stream",
     "text": [
      "Raju Raj\n"
     ]
    }
   ],
   "source": [
    "class Person:\n",
    "    def __init__(a,first,last):\n",
    "        a.first_name=first\n",
    "        a.last_name=last\n",
    "    \n",
    "    \n",
    "    def printresult(a):\n",
    "        print(a.first_name,a.last_name)\n",
    "        \n",
    "\n",
    "p1 = Person(\"Raju\",\"Raj\")\n",
    "p1.printresult()\n",
    "        "
   ]
  },
  {
   "cell_type": "code",
   "execution_count": 6,
   "id": "bfea83f0-8181-460e-9512-6eb74d4c6599",
   "metadata": {},
   "outputs": [
    {
     "name": "stdout",
     "output_type": "stream",
     "text": [
      "Mike Olsen\n",
      "in Child class  Mike\n"
     ]
    }
   ],
   "source": [
    "class Person:\n",
    "  def __init__(self, fname, lname):\n",
    "    self.firstname = fname\n",
    "    self.lastname = lname\n",
    "\n",
    "  def printname(self):\n",
    "    print(self.firstname, self.lastname)\n",
    "\n",
    "class Student(Person):\n",
    "  def __init__(self, fname, lname):\n",
    "    Person.__init__(self, fname, lname)\n",
    "    \n",
    "  def printname2(self):\n",
    "    print(\"in Child class \" , self.firstname)\n",
    "\n",
    "x = Student(\"Mike\", \"Olsen\")\n",
    "x.printname()\n",
    "x.printname2()\n"
   ]
  },
  {
   "cell_type": "code",
   "execution_count": 7,
   "id": "e8b80cba-b2ca-4c8a-850a-e02e2ba4f996",
   "metadata": {},
   "outputs": [
    {
     "name": "stdout",
     "output_type": "stream",
     "text": [
      "1\n",
      "take break\n",
      "2\n"
     ]
    }
   ],
   "source": [
    "mytuple=[1,2,3,4]\n",
    "\n",
    "myit=iter(mytuple)\n",
    "\n",
    "print(next(myit))\n",
    "print(\"take break\")\n",
    "print(next(myit))"
   ]
  },
  {
   "cell_type": "code",
   "execution_count": 1,
   "id": "3b697993-52d8-421d-87fd-aa0999698623",
   "metadata": {},
   "outputs": [
    {
     "name": "stdout",
     "output_type": "stream",
     "text": [
      "300\n"
     ]
    }
   ],
   "source": [
    "def myfunc():\n",
    "  x = 300\n",
    "  def myinnerfunc():\n",
    "    print(x)\n",
    "  myinnerfunc()\n",
    "\n",
    "myfunc()"
   ]
  },
  {
   "cell_type": "code",
   "execution_count": 31,
   "id": "01ad9e01-b0ca-4c10-8485-29bdcffccc42",
   "metadata": {},
   "outputs": [
    {
     "name": "stdout",
     "output_type": "stream",
     "text": [
      "Print local  200\n",
      "print glocal  300\n"
     ]
    }
   ],
   "source": [
    "x=300\n",
    "\n",
    "\n",
    "def myfunc():\n",
    "    x=200\n",
    "    print(\"Print local \",x)\n",
    "\n",
    "    \n",
    "myfunc()    \n",
    "print(\"print glocal \",x)"
   ]
  },
  {
   "cell_type": "code",
   "execution_count": 10,
   "id": "2f58dd90-91ff-40a1-bada-8e04af6cdfc8",
   "metadata": {},
   "outputs": [
    {
     "name": "stdout",
     "output_type": "stream",
     "text": [
      "300\n",
      "300\n"
     ]
    }
   ],
   "source": [
    "def myfunc2():\n",
    "    global x\n",
    "    \n",
    "    x=300\n",
    "    print(x)\n",
    "    \n",
    "\n",
    "myfunc2()\n",
    "\n",
    "print(x)\n"
   ]
  },
  {
   "cell_type": "code",
   "execution_count": 8,
   "id": "58a90848-a4b3-4dbd-8cf8-deaff819a5c9",
   "metadata": {},
   "outputs": [
    {
     "ename": "NameError",
     "evalue": "name 'arg1' is not defined",
     "output_type": "error",
     "traceback": [
      "\u001b[1;31m---------------------------------------------------------------------------\u001b[0m",
      "\u001b[1;31mNameError\u001b[0m                                 Traceback (most recent call last)",
      "Input \u001b[1;32mIn [8]\u001b[0m, in \u001b[0;36m<cell line: 2>\u001b[1;34m()\u001b[0m\n\u001b[0;32m      1\u001b[0m \u001b[38;5;28;01mimport\u001b[39;00m \u001b[38;5;21;01mModule_test1\u001b[39;00m\n\u001b[1;32m----> 2\u001b[0m \u001b[43mModule_test1\u001b[49m\u001b[38;5;241;43m.\u001b[39;49m\u001b[43mtest_module\u001b[49m\u001b[43m(\u001b[49m\u001b[38;5;241;43m1\u001b[39;49m\u001b[43m,\u001b[49m\u001b[38;5;241;43m2\u001b[39;49m\u001b[43m)\u001b[49m\n",
      "File \u001b[1;32mE:\\Data Science with Python\\Learn\\Python Course\\Module_test1.py:2\u001b[0m, in \u001b[0;36mtest_module\u001b[1;34m(a, b)\u001b[0m\n\u001b[0;32m      1\u001b[0m \u001b[38;5;28;01mdef\u001b[39;00m \u001b[38;5;21mtest_module\u001b[39m(a,b):\n\u001b[1;32m----> 2\u001b[0m \t\u001b[38;5;28mprint\u001b[39m(\u001b[38;5;124m\"\u001b[39m\u001b[38;5;124mModule output \u001b[39m\u001b[38;5;124m\"\u001b[39m,\u001b[43marg1\u001b[49m\u001b[38;5;241m*\u001b[39marg2)\n",
      "\u001b[1;31mNameError\u001b[0m: name 'arg1' is not defined"
     ]
    }
   ],
   "source": [
    "import Module_test1\n",
    "Module_test1.test_module(1,2)"
   ]
  },
  {
   "cell_type": "code",
   "execution_count": 8,
   "id": "d964f6d1-3a16-4ac9-a827-66ac7adca150",
   "metadata": {},
   "outputs": [
    {
     "name": "stdout",
     "output_type": "stream",
     "text": [
      "Test the word 1 1234 and 2 465\n"
     ]
    }
   ],
   "source": [
    "\n",
    "print(\"Test the word 1 {a} and 2 {b}\".format(a=1234,b=465))"
   ]
  },
  {
   "cell_type": "code",
   "execution_count": 1,
   "id": "d2e01a91-b271-4b25-8dac-f16bf28cfb0f",
   "metadata": {},
   "outputs": [
    {
     "name": "stdout",
     "output_type": "stream",
     "text": [
      "Ford\n",
      "Volvo\n",
      "BMW\n"
     ]
    }
   ],
   "source": [
    "cars = [\"Ford\", \"Volvo\", \"BMW\"]\n",
    "\n",
    "for x in cars:\n",
    "    print(x)"
   ]
  },
  {
   "cell_type": "code",
   "execution_count": 3,
   "id": "9113e457-4eab-4ff9-89eb-12932f4be573",
   "metadata": {},
   "outputs": [
    {
     "name": "stdout",
     "output_type": "stream",
     "text": [
      "<generator object <genexpr> at 0x000001F88B5DD540>\n"
     ]
    }
   ],
   "source": [
    "print(print(x) for x in cars)"
   ]
  },
  {
   "cell_type": "code",
   "execution_count": 9,
   "id": "b05505ba-d175-422c-b73c-303e6334c41a",
   "metadata": {},
   "outputs": [
    {
     "name": "stdout",
     "output_type": "stream",
     "text": [
      "{'a': 10, 'b': 20}\n"
     ]
    }
   ],
   "source": [
    "a={'a':10,'b':20}\n",
    "print(a)"
   ]
  },
  {
   "cell_type": "code",
   "execution_count": 9,
   "id": "15e06030-aa69-474b-b29c-6a1a8ded27b4",
   "metadata": {},
   "outputs": [],
   "source": [
    "import itertools\n",
    "import pandas as pd\n",
    "raw=pd.read_excel('E:/Data Science with Python/Fraud alert/Card Passing Raw.xlsx')"
   ]
  },
  {
   "cell_type": "code",
   "execution_count": 8,
   "id": "7958f38c-f91d-4a37-82c4-41cdf507f8ba",
   "metadata": {},
   "outputs": [
    {
     "data": {
      "text/html": [
       "<div>\n",
       "<style scoped>\n",
       "    .dataframe tbody tr th:only-of-type {\n",
       "        vertical-align: middle;\n",
       "    }\n",
       "\n",
       "    .dataframe tbody tr th {\n",
       "        vertical-align: top;\n",
       "    }\n",
       "\n",
       "    .dataframe thead th {\n",
       "        text-align: right;\n",
       "    }\n",
       "</style>\n",
       "<table border=\"1\" class=\"dataframe\">\n",
       "  <thead>\n",
       "    <tr style=\"text-align: right;\">\n",
       "      <th></th>\n",
       "      <th>username</th>\n",
       "      <th>Card Picked</th>\n",
       "      <th>Card Dropped</th>\n",
       "    </tr>\n",
       "  </thead>\n",
       "  <tbody>\n",
       "    <tr>\n",
       "      <th>0</th>\n",
       "      <td>Raj</td>\n",
       "      <td>S8</td>\n",
       "      <td>S9</td>\n",
       "    </tr>\n",
       "    <tr>\n",
       "      <th>1</th>\n",
       "      <td>Varun</td>\n",
       "      <td>S9</td>\n",
       "      <td>S8</td>\n",
       "    </tr>\n",
       "    <tr>\n",
       "      <th>2</th>\n",
       "      <td>Raj</td>\n",
       "      <td>S6</td>\n",
       "      <td>S5</td>\n",
       "    </tr>\n",
       "    <tr>\n",
       "      <th>3</th>\n",
       "      <td>Varun</td>\n",
       "      <td>S6</td>\n",
       "      <td>S7</td>\n",
       "    </tr>\n",
       "    <tr>\n",
       "      <th>4</th>\n",
       "      <td>Raj</td>\n",
       "      <td>S7</td>\n",
       "      <td>S11</td>\n",
       "    </tr>\n",
       "    <tr>\n",
       "      <th>5</th>\n",
       "      <td>Varun</td>\n",
       "      <td>S11</td>\n",
       "      <td>S10</td>\n",
       "    </tr>\n",
       "    <tr>\n",
       "      <th>6</th>\n",
       "      <td>Raj</td>\n",
       "      <td>S12</td>\n",
       "      <td>S13</td>\n",
       "    </tr>\n",
       "    <tr>\n",
       "      <th>7</th>\n",
       "      <td>Varun</td>\n",
       "      <td>S13</td>\n",
       "      <td>S15</td>\n",
       "    </tr>\n",
       "    <tr>\n",
       "      <th>8</th>\n",
       "      <td>Monta</td>\n",
       "      <td>S1</td>\n",
       "      <td>S2</td>\n",
       "    </tr>\n",
       "    <tr>\n",
       "      <th>9</th>\n",
       "      <td>Varun</td>\n",
       "      <td>S2</td>\n",
       "      <td>S3</td>\n",
       "    </tr>\n",
       "  </tbody>\n",
       "</table>\n",
       "</div>"
      ],
      "text/plain": [
       "  username Card Picked Card Dropped\n",
       "0      Raj          S8           S9\n",
       "1    Varun          S9           S8\n",
       "2      Raj          S6           S5\n",
       "3    Varun          S6           S7\n",
       "4      Raj          S7          S11\n",
       "5    Varun         S11          S10\n",
       "6      Raj         S12          S13\n",
       "7    Varun         S13          S15\n",
       "8    Monta          S1           S2\n",
       "9    Varun          S2           S3"
      ]
     },
     "execution_count": 8,
     "metadata": {},
     "output_type": "execute_result"
    }
   ],
   "source": [
    "raw"
   ]
  },
  {
   "cell_type": "code",
   "execution_count": 33,
   "id": "6435458a-47c0-4259-88ca-3f6d03d28fa5",
   "metadata": {},
   "outputs": [
    {
     "name": "stdout",
     "output_type": "stream",
     "text": [
      "Raj S8 S8\n",
      "Varun S9 S9\n",
      "Raj S7 S7\n",
      "Varun S11 S11\n",
      "Varun S13 S13\n",
      "Varun S2 S2\n"
     ]
    }
   ],
   "source": [
    "for i,j in itertools.product(range(len(raw)),range(len(raw))):\n",
    "    #print(i,j)\n",
    "    if i!=j:\n",
    "        #print(i,j)\n",
    "        if raw.loc[i]['Card Picked']==raw.loc[j]['Card Dropped']:\n",
    "            print(raw.loc[i]['username'],raw.loc[i]['Card Picked'],raw.loc[j]['Card Dropped'])"
   ]
  },
  {
   "cell_type": "code",
   "execution_count": 9,
   "id": "ec357da8-6206-4381-be92-565dc4dde1d1",
   "metadata": {},
   "outputs": [
    {
     "data": {
      "text/plain": [
       "<AxesSubplot:xlabel='Date'>"
      ]
     },
     "execution_count": 9,
     "metadata": {},
     "output_type": "execute_result"
    },
    {
     "data": {
      "image/png": "[encoded data removed]",
      "text/plain": [
       "<Figure size 432x288 with 1 Axes>"
      ]
     },
     "metadata": {
      "needs_background": "light"
     },
     "output_type": "display_data"
    }
   ],
   "source": [
    "hdfc_futures.plot()"
   ]
  },
  {
   "cell_type": "code",
   "execution_count": 7,
   "id": "b3cbf24a-ae39-4715-b730-1444ef62fad9",
   "metadata": {},
   "outputs": [],
   "source": [
    "import pandas as pd\n",
    "from datetime import date\n",
    "\n",
    "from nsepy import get_history\n",
    "\n",
    "hdfc_futures=get_history(symbol='HDFC',\n",
    "                        start=date(2019,8,1),\n",
    "                        end=date(2019,8,29),\n",
    "                        futures=True,\n",
    "                        expiry_date=date(2019,8,29),\n",
    "                        strike_price=27000)"
   ]
  },
  {
   "cell_type": "code",
   "execution_count": 10,
   "id": "b886a09f-6437-42b1-b7b9-54d23f304b13",
   "metadata": {},
   "outputs": [
    {
     "name": "stdout",
     "output_type": "stream",
     "text": [
      "2020-05-28\n",
      "{'companyName': 'Nifty BANK',\n",
      " 'data': [{}],\n",
      " 'eqLink': '',\n",
      " 'isinCode': None,\n",
      " 'lastUpdateTime': '22-JUL-2022 15:30:09',\n",
      " 'ocLink': '/marketinfo/sym_map/symbolMapping.jsp?symbol=BANKNIFTY&instrument=-&date=-&segmentLink=17&symbolCount=2',\n",
      " 'tradedDate': '22JUL2022',\n",
      " 'valid': 'false'}\n"
     ]
    }
   ],
   "source": [
    "from pprint import pprint\n",
    "from datetime import date\n",
    "from nsepy import get_quote\n",
    "from nsepy.derivatives import get_expiry_date\n",
    "\n",
    "expiry = date(2020,5,28)\n",
    "print(expiry)\n",
    "\n",
    "data = get_quote('BANKNIFTY', series='EQ', instrument='FUTIDX', expiry=expiry, option_type='CE', strike=300)\n",
    "pprint(data)"
   ]
  },
  {
   "cell_type": "code",
   "execution_count": 5,
   "id": "070c52c2-0395-4b7a-aae8-f4df4a9efed1",
   "metadata": {},
   "outputs": [
    {
     "data": {
      "text/html": [
       "<div>\n",
       "<style scoped>\n",
       "    .dataframe tbody tr th:only-of-type {\n",
       "        vertical-align: middle;\n",
       "    }\n",
       "\n",
       "    .dataframe tbody tr th {\n",
       "        vertical-align: top;\n",
       "    }\n",
       "\n",
       "    .dataframe thead th {\n",
       "        text-align: right;\n",
       "    }\n",
       "</style>\n",
       "<table border=\"1\" class=\"dataframe\">\n",
       "  <thead>\n",
       "    <tr style=\"text-align: right;\">\n",
       "      <th></th>\n",
       "      <th>Name</th>\n",
       "    </tr>\n",
       "  </thead>\n",
       "  <tbody>\n",
       "    <tr>\n",
       "      <th>0</th>\n",
       "      <td>Jai</td>\n",
       "    </tr>\n",
       "    <tr>\n",
       "      <th>1</th>\n",
       "      <td>Princi</td>\n",
       "    </tr>\n",
       "    <tr>\n",
       "      <th>2</th>\n",
       "      <td>Gaurav</td>\n",
       "    </tr>\n",
       "    <tr>\n",
       "      <th>3</th>\n",
       "      <td>Anuj</td>\n",
       "    </tr>\n",
       "  </tbody>\n",
       "</table>\n",
       "</div>"
      ],
      "text/plain": [
       "     Name\n",
       "0     Jai\n",
       "1  Princi\n",
       "2  Gaurav\n",
       "3    Anuj"
      ]
     },
     "execution_count": 5,
     "metadata": {},
     "output_type": "execute_result"
    }
   ],
   "source": [
    "import pandas as pd\n",
    " \n",
    "# Define a dictionary containing employee data\n",
    "data = {'Name':['Jai', 'Princi', 'Gaurav', 'Anuj'],\n",
    "        'Age':[27, 24, 22, 32],\n",
    "        'Address':['Delhi', 'Kanpur', 'Allahabad', 'Kannauj'],\n",
    "        'Qualification':['Msc', 'MA', 'MCA', 'Phd']}\n",
    " \n",
    "# Convert the dictionary into DataFrame \n",
    "df = pd.DataFrame(data)\n",
    " \n",
    "# select two columns\n",
    "df[['Name']]"
   ]
  },
  {
   "cell_type": "code",
   "execution_count": 19,
   "id": "7bbc6b9d-b9be-43ce-b651-bf559031afe2",
   "metadata": {},
   "outputs": [
    {
     "data": {
      "text/html": [
       "<div>\n",
       "<style scoped>\n",
       "    .dataframe tbody tr th:only-of-type {\n",
       "        vertical-align: middle;\n",
       "    }\n",
       "\n",
       "    .dataframe tbody tr th {\n",
       "        vertical-align: top;\n",
       "    }\n",
       "\n",
       "    .dataframe thead th {\n",
       "        text-align: right;\n",
       "    }\n",
       "</style>\n",
       "<table border=\"1\" class=\"dataframe\">\n",
       "  <thead>\n",
       "    <tr style=\"text-align: right;\">\n",
       "      <th></th>\n",
       "      <th>max_speed</th>\n",
       "      <th>shield</th>\n",
       "    </tr>\n",
       "  </thead>\n",
       "  <tbody>\n",
       "    <tr>\n",
       "      <th>cobra</th>\n",
       "      <td>1</td>\n",
       "      <td>2</td>\n",
       "    </tr>\n",
       "    <tr>\n",
       "      <th>viper</th>\n",
       "      <td>4</td>\n",
       "      <td>5</td>\n",
       "    </tr>\n",
       "    <tr>\n",
       "      <th>sidewinder</th>\n",
       "      <td>7</td>\n",
       "      <td>8</td>\n",
       "    </tr>\n",
       "  </tbody>\n",
       "</table>\n",
       "</div>"
      ],
      "text/plain": [
       "            max_speed  shield\n",
       "cobra               1       2\n",
       "viper               4       5\n",
       "sidewinder          7       8"
      ]
     },
     "execution_count": 19,
     "metadata": {},
     "output_type": "execute_result"
    }
   ],
   "source": [
    "df = pd.DataFrame([[1, 2], [4, 5], [7, 8]],\n",
    "     index=['cobra', 'viper', 'sidewinder'],\n",
    "     columns=['max_speed', 'shield'])\n",
    "df\n",
    "   "
   ]
  },
  {
   "cell_type": "code",
   "execution_count": 35,
   "id": "bf57a485-a2ab-4ad8-986e-a88bb92a36ee",
   "metadata": {},
   "outputs": [],
   "source": [
    "df2=df.loc[df['shield'] > 2,'max_speed']"
   ]
  },
  {
   "cell_type": "code",
   "execution_count": 41,
   "id": "e354b64d-a3a7-4707-9d12-7ed6160ab000",
   "metadata": {},
   "outputs": [],
   "source": [
    "df2=df2.to_frame()"
   ]
  },
  {
   "cell_type": "code",
   "execution_count": 42,
   "id": "e5041d66-5023-4e63-a9db-b75351f8d331",
   "metadata": {},
   "outputs": [
    {
     "data": {
      "text/html": [
       "<div>\n",
       "<style scoped>\n",
       "    .dataframe tbody tr th:only-of-type {\n",
       "        vertical-align: middle;\n",
       "    }\n",
       "\n",
       "    .dataframe tbody tr th {\n",
       "        vertical-align: top;\n",
       "    }\n",
       "\n",
       "    .dataframe thead th {\n",
       "        text-align: right;\n",
       "    }\n",
       "</style>\n",
       "<table border=\"1\" class=\"dataframe\">\n",
       "  <thead>\n",
       "    <tr style=\"text-align: right;\">\n",
       "      <th></th>\n",
       "      <th>max_speed</th>\n",
       "    </tr>\n",
       "  </thead>\n",
       "  <tbody>\n",
       "    <tr>\n",
       "      <th>viper</th>\n",
       "      <td>4</td>\n",
       "    </tr>\n",
       "    <tr>\n",
       "      <th>sidewinder</th>\n",
       "      <td>7</td>\n",
       "    </tr>\n",
       "  </tbody>\n",
       "</table>\n",
       "</div>"
      ],
      "text/plain": [
       "            max_speed\n",
       "viper               4\n",
       "sidewinder          7"
      ]
     },
     "execution_count": 42,
     "metadata": {},
     "output_type": "execute_result"
    }
   ],
   "source": [
    "df2"
   ]
  },
  {
   "cell_type": "code",
   "execution_count": null,
   "id": "891e36ce-26ef-46dc-97b8-83a78789c791",
   "metadata": {},
   "outputs": [],
   "source": []
  }
 ],
 "metadata": {
  "kernelspec": {
   "display_name": "Python 3 (ipykernel)",
   "language": "python",
   "name": "python3"
  },
  "language_info": {
   "codemirror_mode": {
    "name": "ipython",
    "version": 3
   },
   "file_extension": ".py",
   "mimetype": "text/x-python",
   "name": "python",
   "nbconvert_exporter": "python",
   "pygments_lexer": "ipython3",
   "version": "3.10.5"
  }
 },
 "nbformat": 4,
 "nbformat_minor": 5
}
